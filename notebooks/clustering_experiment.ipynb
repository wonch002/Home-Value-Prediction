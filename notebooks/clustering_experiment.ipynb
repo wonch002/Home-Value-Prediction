{
 "cells": [
  {
   "cell_type": "code",
   "execution_count": null,
   "metadata": {},
   "outputs": [],
   "source": [
    "import pandas as pd\n",
    "import numpy as np\n",
    "import matplotlib.pyplot as plt\n",
    "import pdb\n",
    "# from sklearn_extra.cluster import KMedoids\n",
    "from sklearn.cluster import KMeans"
   ]
  },
  {
   "cell_type": "markdown",
   "metadata": {},
   "source": [
    ">I would want back is cluster column giving which column each observation is in, and possibly if you use a clustering method like Kmedoids that uses a point as the centroid; each centroid point as well.\n",
    "\n",
    "https://scikit-learn-extra.readthedocs.io/en/latest/generated/sklearn_extra.cluster.KMedoids.html\n",
    "\n",
    "https://medium.com/analytics-vidhya/supernaive-k-medoids-clustering-31db7bfc5075\n",
    "\n",
    "https://developers.google.com/machine-learning/clustering/interpret"
   ]
  },
  {
   "cell_type": "code",
   "execution_count": null,
   "metadata": {},
   "outputs": [],
   "source": [
    "parcel_df = pd.read_csv('house_attributes.csv', index_col=0)\n",
    "parcel_df"
   ]
  },
  {
   "cell_type": "code",
   "execution_count": null,
   "metadata": {},
   "outputs": [],
   "source": [
    "parcel_df.shape"
   ]
  },
  {
   "cell_type": "code",
   "execution_count": null,
   "metadata": {},
   "outputs": [],
   "source": [
    "def run_kmedoids_clustering():\n",
    "    inertias = []\n",
    "    cluster_centers = []\n",
    "    cluster_assignments = []\n",
    "    for cluster_number in range(2,20):\n",
    "        kmedoids = KMedoids(init='k-means++', n_clusters=cluster_number)\n",
    "        clusters = kmedoids.fit_predict(parcel_df)        \n",
    "        inertias.append(kmedoids.inertia_)\n",
    "        cluster_centers.append(kmedoids.cluster_centers_)     \n",
    "        cluster_assignments.append(clusters)\n",
    "    return (inertias, cluster_assignments)"
   ]
  },
  {
   "cell_type": "code",
   "execution_count": null,
   "metadata": {},
   "outputs": [],
   "source": [
    "def run_kmeans_clustering():\n",
    "    inertias = []\n",
    "    cluster_centers = []\n",
    "    cluster_assignments = []\n",
    "    for cluster_number in range(2,20):\n",
    "        kmeans = KMeans(init='k-means++', n_clusters=cluster_number)\n",
    "        clusters = kmeans.fit_predict(parcel_df)        \n",
    "        inertias.append(kmeans.inertia_)\n",
    "        cluster_centers.append(kmeans.cluster_centers_)     \n",
    "        cluster_assignments.append(clusters)\n",
    "    return (inertias, cluster_assignments)"
   ]
  },
  {
   "cell_type": "code",
   "execution_count": null,
   "metadata": {},
   "outputs": [],
   "source": [
    "kmeans_clustering_data = run_kmeans_clustering()"
   ]
  },
  {
   "cell_type": "code",
   "execution_count": null,
   "metadata": {},
   "outputs": [],
   "source": [
    "# kmedoids_clustering_data = run_kmedoids_clustering()"
   ]
  },
  {
   "cell_type": "code",
   "execution_count": null,
   "metadata": {},
   "outputs": [],
   "source": [
    "# look at cluster_cardinality (how many parcels in each cluster)"
   ]
  },
  {
   "cell_type": "code",
   "execution_count": null,
   "metadata": {},
   "outputs": [],
   "source": [
    "# look at cluster_magnitude"
   ]
  },
  {
   "cell_type": "code",
   "execution_count": 67,
   "metadata": {},
   "outputs": [],
   "source": [
    "# method for returning a parcel dataframe with the optimial cluster assignment and column for the centriod coords"
   ]
  },
  {
   "cell_type": "code",
   "execution_count": null,
   "metadata": {},
   "outputs": [],
   "source": []
  }
 ],
 "metadata": {
  "kernelspec": {
   "display_name": "Python 3",
   "language": "python",
   "name": "python3"
  },
  "language_info": {
   "codemirror_mode": {
    "name": "ipython",
    "version": 3
   },
   "file_extension": ".py",
   "mimetype": "text/x-python",
   "name": "python",
   "nbconvert_exporter": "python",
   "pygments_lexer": "ipython3",
   "version": "3.7.3"
  }
 },
 "nbformat": 4,
 "nbformat_minor": 4
}
