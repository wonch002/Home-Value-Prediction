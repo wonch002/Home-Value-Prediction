{
 "cells": [
  {
   "cell_type": "markdown",
   "metadata": {},
   "source": [
    "# New&Old Dataset Generation"
   ]
  },
  {
   "cell_type": "markdown",
   "metadata": {},
   "source": [
    "This notebook's purpose is to step through the generation of the datasets in use for this project.  'ACPA_EDA_AND_CLEAN.ipynb' is the original notebook in which all EDA and Experimentation is done, this notebook is designed to make the dataset process cleaner and more understandable."
   ]
  },
  {
   "cell_type": "code",
   "execution_count": 254,
   "metadata": {},
   "outputs": [],
   "source": [
    "#Importing Libraries\n",
    "import datetime\n",
    "import numpy as np\n",
    "import pandas as pd\n",
    "import matplotlib.pyplot as plt\n",
    "from sklearn import preprocessing"
   ]
  },
  {
   "cell_type": "code",
   "execution_count": 255,
   "metadata": {},
   "outputs": [
    {
     "name": "stderr",
     "output_type": "stream",
     "text": [
      "C:\\Anaconda\\lib\\site-packages\\IPython\\core\\interactiveshell.py:3057: DtypeWarning: Columns (19,20,29,30,37,38,46,57,83) have mixed types. Specify dtype option on import or set low_memory=False.\n",
      "  interactivity=interactivity, compiler=compiler, result=result)\n"
     ]
    },
    {
     "data": {
      "text/html": [
       "<div>\n",
       "<style scoped>\n",
       "    .dataframe tbody tr th:only-of-type {\n",
       "        vertical-align: middle;\n",
       "    }\n",
       "\n",
       "    .dataframe tbody tr th {\n",
       "        vertical-align: top;\n",
       "    }\n",
       "\n",
       "    .dataframe thead th {\n",
       "        text-align: right;\n",
       "    }\n",
       "</style>\n",
       "<table border=\"1\" class=\"dataframe\">\n",
       "  <thead>\n",
       "    <tr style=\"text-align: right;\">\n",
       "      <th></th>\n",
       "      <th>PROPERTYHOUSENUM</th>\n",
       "      <th>PROPERTYZIP</th>\n",
       "      <th>MUNICODE</th>\n",
       "      <th>SCHOOLCODE</th>\n",
       "      <th>OWNERCODE</th>\n",
       "      <th>USECODE</th>\n",
       "      <th>LOTAREA</th>\n",
       "      <th>SALEPRICE</th>\n",
       "      <th>PREVSALEPRICE</th>\n",
       "      <th>PREVSALEPRICE2</th>\n",
       "      <th>...</th>\n",
       "      <th>CONDITION</th>\n",
       "      <th>TOTALROOMS</th>\n",
       "      <th>BEDROOMS</th>\n",
       "      <th>FULLBATHS</th>\n",
       "      <th>HALFBATHS</th>\n",
       "      <th>FIREPLACES</th>\n",
       "      <th>BSMTGARAGE</th>\n",
       "      <th>FINISHEDLIVINGAREA</th>\n",
       "      <th>CARDNUMBER</th>\n",
       "      <th>TAXYEAR</th>\n",
       "    </tr>\n",
       "  </thead>\n",
       "  <tbody>\n",
       "    <tr>\n",
       "      <th>count</th>\n",
       "      <td>580473.000000</td>\n",
       "      <td>580525.000000</td>\n",
       "      <td>580526.000000</td>\n",
       "      <td>580526.000000</td>\n",
       "      <td>580526.000000</td>\n",
       "      <td>580526.000000</td>\n",
       "      <td>5.805260e+05</td>\n",
       "      <td>5.706910e+05</td>\n",
       "      <td>3.705170e+05</td>\n",
       "      <td>1.943920e+05</td>\n",
       "      <td>...</td>\n",
       "      <td>445409.000000</td>\n",
       "      <td>445408.000000</td>\n",
       "      <td>445438.000000</td>\n",
       "      <td>445355.000000</td>\n",
       "      <td>441766.000000</td>\n",
       "      <td>411671.000000</td>\n",
       "      <td>425825.000000</td>\n",
       "      <td>445485.000000</td>\n",
       "      <td>445485.000000</td>\n",
       "      <td>580526.0</td>\n",
       "    </tr>\n",
       "    <tr>\n",
       "      <th>mean</th>\n",
       "      <td>1367.112415</td>\n",
       "      <td>15166.825255</td>\n",
       "      <td>683.599772</td>\n",
       "      <td>28.937491</td>\n",
       "      <td>12.490956</td>\n",
       "      <td>77.896799</td>\n",
       "      <td>4.073268e+04</td>\n",
       "      <td>1.243903e+05</td>\n",
       "      <td>9.375837e+04</td>\n",
       "      <td>7.693990e+04</td>\n",
       "      <td>...</td>\n",
       "      <td>3.151041</td>\n",
       "      <td>6.460297</td>\n",
       "      <td>3.025543</td>\n",
       "      <td>1.471426</td>\n",
       "      <td>0.482192</td>\n",
       "      <td>0.372960</td>\n",
       "      <td>0.693412</td>\n",
       "      <td>1691.002101</td>\n",
       "      <td>1.003307</td>\n",
       "      <td>2020.0</td>\n",
       "    </tr>\n",
       "    <tr>\n",
       "      <th>std</th>\n",
       "      <td>2020.534506</td>\n",
       "      <td>82.388892</td>\n",
       "      <td>341.340715</td>\n",
       "      <td>15.059178</td>\n",
       "      <td>3.548055</td>\n",
       "      <td>153.976063</td>\n",
       "      <td>5.823772e+06</td>\n",
       "      <td>8.655000e+05</td>\n",
       "      <td>1.038229e+06</td>\n",
       "      <td>5.796296e+05</td>\n",
       "      <td>...</td>\n",
       "      <td>0.780270</td>\n",
       "      <td>1.739973</td>\n",
       "      <td>0.902393</td>\n",
       "      <td>0.673222</td>\n",
       "      <td>0.565567</td>\n",
       "      <td>0.550268</td>\n",
       "      <td>0.819812</td>\n",
       "      <td>790.434554</td>\n",
       "      <td>0.113236</td>\n",
       "      <td>0.0</td>\n",
       "    </tr>\n",
       "    <tr>\n",
       "      <th>min</th>\n",
       "      <td>0.000000</td>\n",
       "      <td>15003.000000</td>\n",
       "      <td>101.000000</td>\n",
       "      <td>1.000000</td>\n",
       "      <td>10.000000</td>\n",
       "      <td>1.000000</td>\n",
       "      <td>0.000000e+00</td>\n",
       "      <td>0.000000e+00</td>\n",
       "      <td>0.000000e+00</td>\n",
       "      <td>0.000000e+00</td>\n",
       "      <td>...</td>\n",
       "      <td>1.000000</td>\n",
       "      <td>0.000000</td>\n",
       "      <td>0.000000</td>\n",
       "      <td>0.000000</td>\n",
       "      <td>0.000000</td>\n",
       "      <td>0.000000</td>\n",
       "      <td>0.000000</td>\n",
       "      <td>0.000000</td>\n",
       "      <td>1.000000</td>\n",
       "      <td>2020.0</td>\n",
       "    </tr>\n",
       "    <tr>\n",
       "      <th>25%</th>\n",
       "      <td>120.000000</td>\n",
       "      <td>15108.000000</td>\n",
       "      <td>202.000000</td>\n",
       "      <td>17.000000</td>\n",
       "      <td>10.000000</td>\n",
       "      <td>10.000000</td>\n",
       "      <td>3.200000e+03</td>\n",
       "      <td>1.000000e+00</td>\n",
       "      <td>1.000000e+00</td>\n",
       "      <td>1.000000e+00</td>\n",
       "      <td>...</td>\n",
       "      <td>3.000000</td>\n",
       "      <td>5.000000</td>\n",
       "      <td>2.000000</td>\n",
       "      <td>1.000000</td>\n",
       "      <td>0.000000</td>\n",
       "      <td>0.000000</td>\n",
       "      <td>0.000000</td>\n",
       "      <td>1170.000000</td>\n",
       "      <td>1.000000</td>\n",
       "      <td>2020.0</td>\n",
       "    </tr>\n",
       "    <tr>\n",
       "      <th>50%</th>\n",
       "      <td>516.000000</td>\n",
       "      <td>15204.000000</td>\n",
       "      <td>873.000000</td>\n",
       "      <td>29.000000</td>\n",
       "      <td>12.000000</td>\n",
       "      <td>10.000000</td>\n",
       "      <td>6.823000e+03</td>\n",
       "      <td>3.990000e+04</td>\n",
       "      <td>1.750000e+04</td>\n",
       "      <td>1.200000e+04</td>\n",
       "      <td>...</td>\n",
       "      <td>3.000000</td>\n",
       "      <td>6.000000</td>\n",
       "      <td>3.000000</td>\n",
       "      <td>1.000000</td>\n",
       "      <td>0.000000</td>\n",
       "      <td>0.000000</td>\n",
       "      <td>0.000000</td>\n",
       "      <td>1492.000000</td>\n",
       "      <td>1.000000</td>\n",
       "      <td>2020.0</td>\n",
       "    </tr>\n",
       "    <tr>\n",
       "      <th>75%</th>\n",
       "      <td>1711.000000</td>\n",
       "      <td>15221.000000</td>\n",
       "      <td>926.000000</td>\n",
       "      <td>46.000000</td>\n",
       "      <td>12.000000</td>\n",
       "      <td>70.000000</td>\n",
       "      <td>1.351000e+04</td>\n",
       "      <td>1.265000e+05</td>\n",
       "      <td>8.800000e+04</td>\n",
       "      <td>7.800000e+04</td>\n",
       "      <td>...</td>\n",
       "      <td>3.000000</td>\n",
       "      <td>7.000000</td>\n",
       "      <td>3.000000</td>\n",
       "      <td>2.000000</td>\n",
       "      <td>1.000000</td>\n",
       "      <td>1.000000</td>\n",
       "      <td>1.000000</td>\n",
       "      <td>2005.000000</td>\n",
       "      <td>1.000000</td>\n",
       "      <td>2020.0</td>\n",
       "    </tr>\n",
       "    <tr>\n",
       "      <th>max</th>\n",
       "      <td>39392.000000</td>\n",
       "      <td>16229.000000</td>\n",
       "      <td>953.000000</td>\n",
       "      <td>50.000000</td>\n",
       "      <td>28.000000</td>\n",
       "      <td>1111.000000</td>\n",
       "      <td>4.400388e+09</td>\n",
       "      <td>1.793957e+08</td>\n",
       "      <td>2.929078e+08</td>\n",
       "      <td>6.025000e+07</td>\n",
       "      <td>...</td>\n",
       "      <td>8.000000</td>\n",
       "      <td>87.000000</td>\n",
       "      <td>18.000000</td>\n",
       "      <td>13.000000</td>\n",
       "      <td>9.000000</td>\n",
       "      <td>22.000000</td>\n",
       "      <td>6.000000</td>\n",
       "      <td>33444.000000</td>\n",
       "      <td>45.000000</td>\n",
       "      <td>2020.0</td>\n",
       "    </tr>\n",
       "  </tbody>\n",
       "</table>\n",
       "<p>8 rows × 35 columns</p>\n",
       "</div>"
      ],
      "text/plain": [
       "       PROPERTYHOUSENUM    PROPERTYZIP       MUNICODE     SCHOOLCODE  \\\n",
       "count     580473.000000  580525.000000  580526.000000  580526.000000   \n",
       "mean        1367.112415   15166.825255     683.599772      28.937491   \n",
       "std         2020.534506      82.388892     341.340715      15.059178   \n",
       "min            0.000000   15003.000000     101.000000       1.000000   \n",
       "25%          120.000000   15108.000000     202.000000      17.000000   \n",
       "50%          516.000000   15204.000000     873.000000      29.000000   \n",
       "75%         1711.000000   15221.000000     926.000000      46.000000   \n",
       "max        39392.000000   16229.000000     953.000000      50.000000   \n",
       "\n",
       "           OWNERCODE        USECODE       LOTAREA     SALEPRICE  \\\n",
       "count  580526.000000  580526.000000  5.805260e+05  5.706910e+05   \n",
       "mean       12.490956      77.896799  4.073268e+04  1.243903e+05   \n",
       "std         3.548055     153.976063  5.823772e+06  8.655000e+05   \n",
       "min        10.000000       1.000000  0.000000e+00  0.000000e+00   \n",
       "25%        10.000000      10.000000  3.200000e+03  1.000000e+00   \n",
       "50%        12.000000      10.000000  6.823000e+03  3.990000e+04   \n",
       "75%        12.000000      70.000000  1.351000e+04  1.265000e+05   \n",
       "max        28.000000    1111.000000  4.400388e+09  1.793957e+08   \n",
       "\n",
       "       PREVSALEPRICE  PREVSALEPRICE2  ...      CONDITION     TOTALROOMS  \\\n",
       "count   3.705170e+05    1.943920e+05  ...  445409.000000  445408.000000   \n",
       "mean    9.375837e+04    7.693990e+04  ...       3.151041       6.460297   \n",
       "std     1.038229e+06    5.796296e+05  ...       0.780270       1.739973   \n",
       "min     0.000000e+00    0.000000e+00  ...       1.000000       0.000000   \n",
       "25%     1.000000e+00    1.000000e+00  ...       3.000000       5.000000   \n",
       "50%     1.750000e+04    1.200000e+04  ...       3.000000       6.000000   \n",
       "75%     8.800000e+04    7.800000e+04  ...       3.000000       7.000000   \n",
       "max     2.929078e+08    6.025000e+07  ...       8.000000      87.000000   \n",
       "\n",
       "            BEDROOMS      FULLBATHS      HALFBATHS     FIREPLACES  \\\n",
       "count  445438.000000  445355.000000  441766.000000  411671.000000   \n",
       "mean        3.025543       1.471426       0.482192       0.372960   \n",
       "std         0.902393       0.673222       0.565567       0.550268   \n",
       "min         0.000000       0.000000       0.000000       0.000000   \n",
       "25%         2.000000       1.000000       0.000000       0.000000   \n",
       "50%         3.000000       1.000000       0.000000       0.000000   \n",
       "75%         3.000000       2.000000       1.000000       1.000000   \n",
       "max        18.000000      13.000000       9.000000      22.000000   \n",
       "\n",
       "          BSMTGARAGE  FINISHEDLIVINGAREA     CARDNUMBER   TAXYEAR  \n",
       "count  425825.000000       445485.000000  445485.000000  580526.0  \n",
       "mean        0.693412         1691.002101       1.003307    2020.0  \n",
       "std         0.819812          790.434554       0.113236       0.0  \n",
       "min         0.000000            0.000000       1.000000    2020.0  \n",
       "25%         0.000000         1170.000000       1.000000    2020.0  \n",
       "50%         0.000000         1492.000000       1.000000    2020.0  \n",
       "75%         1.000000         2005.000000       1.000000    2020.0  \n",
       "max         6.000000        33444.000000      45.000000    2020.0  \n",
       "\n",
       "[8 rows x 35 columns]"
      ]
     },
     "execution_count": 255,
     "metadata": {},
     "output_type": "execute_result"
    }
   ],
   "source": [
    "#Loading Data\n",
    "raw_df = pd.read_csv('allegney_county_assesment.csv')\n",
    "raw_df.describe()"
   ]
  },
  {
   "cell_type": "code",
   "execution_count": 256,
   "metadata": {},
   "outputs": [],
   "source": [
    "#Helper Functions\n",
    "#Detect if NAN\n",
    "def isNaN(num):\n",
    "    return num != num\n",
    "\n",
    "#One-Hot encode\n",
    "def col_split(column,index=[]):\n",
    "    '''column = (pandas.Series) column of dataframe that we wish to split. Returns pandas.DataFrame with split columns.'''\n",
    "    \n",
    "    try:\n",
    "        #Defining a Dictionary with all possible values as keys\n",
    "        temp_dict = {}\n",
    "        for element in column.unique():\n",
    "            temp_dict[str(element)] = np.linspace(0,0,len(column))\n",
    "    except AttributeError:\n",
    "        print('Make sure you are passing in a Pandas Series (One Column)!')\n",
    "        return\n",
    "        \n",
    "    #Sorting all observations\n",
    "    for i in range(len(column)):\n",
    "        temp_dict[str(column.iloc[i])][i] = 1              \n",
    "    \n",
    "    #Defining new Pandas DataFrame\n",
    "    if len(index)==len(column):\n",
    "        df = pd.DataFrame(temp_dict,columns=temp_dict.keys(),index=index)\n",
    "    else:\n",
    "        df = pd.DataFrame(temp_dict,columns=temp_dict.keys())\n",
    "    \n",
    "    #Returning Dataframe\n",
    "    return df\n",
    "\n",
    "def col_bool(column):\n",
    "    '''column = (pandas.Series) column of dataframe that we wish to split. Returns pandas.DataFrame with binary column.'''\n",
    "    \n",
    "    #Length of column\n",
    "    l = len(column)\n",
    "    \n",
    "    #Generating List \n",
    "    temp_list = np.linspace(0,0,l)\n",
    "    for i in range(len(column)):\n",
    "        if isNaN(column.iloc[i]) == False:\n",
    "            temp_list[i] = 1\n",
    "    return pd.DataFrame(temp_list,columns=[column.name])\n",
    "\n",
    "#Calculate Percentage of Each Value Present in Column\n",
    "def col_dist(df,column_name):\n",
    "    '''df = (pandas.DataFrame) data dataframe for all data\n",
    "       column_name = (str) name of column that we want the distribution from.'''\n",
    "    print('Unique Values : ', np.sort(df[column_name].unique().astype(str)))\n",
    "    l = len(df)\n",
    "    try:\n",
    "        temp = df.groupby(by = column_name)[column_name].count().sort_index()\n",
    "    except TypeError:\n",
    "        temp = df.groupby(by = column_name)[column_name].count()\n",
    "    print('\\nCount of Values w/o nan : ', temp)\n",
    "    for i in range(len(temp)):\n",
    "        print('\\nValue {} Percentage = {}%'.format(i, round(list(temp)[i]/l*100,3)))\n",
    "    return"
   ]
  },
  {
   "cell_type": "markdown",
   "metadata": {},
   "source": [
    "# New and Old Residental Houses (New&Old)"
   ]
  },
  {
   "cell_type": "markdown",
   "metadata": {},
   "source": [
    "This dataset includes all houses with relavant features and there is no requirement made for previous sales to have been made."
   ]
  },
  {
   "cell_type": "markdown",
   "metadata": {},
   "source": [
    "### Data Fitlering"
   ]
  },
  {
   "cell_type": "code",
   "execution_count": 257,
   "metadata": {},
   "outputs": [
    {
     "name": "stdout",
     "output_type": "stream",
     "text": [
      "Percent of the Raw Data Perseved = 89.29 with 518373 observations%\n"
     ]
    }
   ],
   "source": [
    "#Getting only Parcels with Class == Residental\n",
    "Full_filtered_df = raw_df[raw_df.CLASS == 'R']\n",
    "\n",
    "#Data Percent Check\n",
    "print('Percent of the Raw Data Perseved = {} with {} observations%'\\\n",
    "      .format(round((len(Full_filtered_df)*100)/len(raw_df),2),\\\n",
    "             len(Full_filtered_df)))"
   ]
  },
  {
   "cell_type": "code",
   "execution_count": 258,
   "metadata": {},
   "outputs": [
    {
     "name": "stdout",
     "output_type": "stream",
     "text": [
      "Percent of the Raw Data Perseved = 26.33 with 152858 observations%\n"
     ]
    }
   ],
   "source": [
    "#Getting only Parcels with Valid Sale Codes\n",
    "\n",
    "#Selecting Only Valid Sales Indexes\n",
    "valid_indicies = list()\n",
    "\n",
    "for i in range(len(Full_filtered_df)):\n",
    "    temp = str(Full_filtered_df['SALECODE'].iloc[i]).strip().capitalize()\n",
    "    if temp == '0' or temp == 'UR' or temp == 'U':\n",
    "        valid_indicies.append(i)\n",
    "        \n",
    "#Declaring new datasource - We can use 'valid_indicies' to correct all other dataframes later.\n",
    "Full_filtered_df = Full_filtered_df.iloc[valid_indicies]\n",
    "\n",
    "#Data Percent Check\n",
    "print('Percent of the Raw Data Perseved = {} with {} observations%'\\\n",
    "      .format(round((len(Full_filtered_df)*100)/len(raw_df),2),\\\n",
    "             len(Full_filtered_df)))"
   ]
  },
  {
   "cell_type": "code",
   "execution_count": 259,
   "metadata": {},
   "outputs": [
    {
     "name": "stderr",
     "output_type": "stream",
     "text": [
      "C:\\Anaconda\\lib\\site-packages\\ipykernel_launcher.py:5: UserWarning: Boolean Series key will be reindexed to match DataFrame index.\n",
      "  \"\"\"\n",
      "C:\\Anaconda\\lib\\site-packages\\ipykernel_launcher.py:6: UserWarning: Boolean Series key will be reindexed to match DataFrame index.\n",
      "  \n",
      "C:\\Anaconda\\lib\\site-packages\\ipykernel_launcher.py:10: UserWarning: Boolean Series key will be reindexed to match DataFrame index.\n",
      "  # Remove the CWD from sys.path while we load stuff.\n",
      "C:\\Anaconda\\lib\\site-packages\\ipykernel_launcher.py:14: UserWarning: Boolean Series key will be reindexed to match DataFrame index.\n",
      "  \n"
     ]
    }
   ],
   "source": [
    "#Filtering Observations Within Lower and Upper Bounds\n",
    "lower_bound = 10000\n",
    "upper_bound = 1000000\n",
    "\n",
    "Full_filtered_df = Full_filtered_df[Full_filtered_df.SALEPRICE >= lower_bound][Full_filtered_df.SALEPRICE <= upper_bound]\n",
    "Full_filtered_df = Full_filtered_df[Full_filtered_df.COUNTYTOTAL >= lower_bound][Full_filtered_df.COUNTYTOTAL <= upper_bound]\n",
    "Full_filtered_df = Full_filtered_df[Full_filtered_df.FAIRMARKETTOTAL >= lower_bound][Full_filtered_df.FAIRMARKETTOTAL <= upper_bound]\n",
    "Full_filtered_df = Full_filtered_df[Full_filtered_df.LOCALTOTAL >= lower_bound][Full_filtered_df.LOCALTOTAL <= upper_bound]\n",
    "\n",
    "Full_filtered_df = Full_filtered_df[Full_filtered_df.COUNTYLAND >= lower_bound][Full_filtered_df.COUNTYLAND <= upper_bound]\n",
    "Full_filtered_df = Full_filtered_df[Full_filtered_df.FAIRMARKETLAND >= lower_bound][Full_filtered_df.FAIRMARKETLAND <= upper_bound]\n",
    "Full_filtered_df = Full_filtered_df[Full_filtered_df.LOCALLAND >= lower_bound][Full_filtered_df.LOCALLAND <= upper_bound]\n",
    "\n",
    "Full_filtered_df = Full_filtered_df[Full_filtered_df.COUNTYBUILDING >= lower_bound][Full_filtered_df.COUNTYBUILDING <= upper_bound]\n",
    "Full_filtered_df = Full_filtered_df[Full_filtered_df.FAIRMARKETBUILDING >= lower_bound][Full_filtered_df.FAIRMARKETBUILDING <= upper_bound]\n",
    "Full_filtered_df = Full_filtered_df[Full_filtered_df.LOCALBUILDING >= lower_bound][Full_filtered_df.LOCALBUILDING <= upper_bound]"
   ]
  },
  {
   "cell_type": "code",
   "execution_count": 260,
   "metadata": {},
   "outputs": [
    {
     "name": "stdout",
     "output_type": "stream",
     "text": [
      "Percent of the Raw Data Perseved = 21.61 with 125429 observations%\n"
     ]
    }
   ],
   "source": [
    "#Dropping All Nans\n",
    "Full_filtered_df = Full_filtered_df.dropna(subset = [\n",
    "'CDU',\n",
    "'PROPERTYZIP',\n",
    "'NEIGHCODE',\n",
    "'YEARBLT',\n",
    "'SALEDATE',\n",
    "'CONDITION',\n",
    "'GRADE',\n",
    "'LOTAREA',\n",
    "'COUNTYLAND',\n",
    "'COUNTYBUILDING',\n",
    "'COUNTYTOTAL',\n",
    "'FAIRMARKETLAND',\n",
    "'FAIRMARKETTOTAL',\n",
    "'FAIRMARKETBUILDING',\n",
    "'LOCALLAND',\n",
    "'LOCALTOTAL',\n",
    "'LOCALBUILDING',\n",
    "'STYLEDESC',\n",
    "'ROOFDESC',\n",
    "'EXTFINISH_DESC',\n",
    "'BASEMENTDESC',\n",
    "'STORIES',\n",
    "'TOTALROOMS',\n",
    "'BEDROOMS',\n",
    "'FULLBATHS',\n",
    "'HALFBATHS',\n",
    "'FINISHEDLIVINGAREA'\n",
    "])\n",
    "\n",
    "#Data Percent Check\n",
    "print('Percent of the Raw Data Perseved = {} with {} observations%'\\\n",
    "      .format(round((len(Full_filtered_df)*100)/len(raw_df),2),\\\n",
    "             len(Full_filtered_df)))"
   ]
  },
  {
   "cell_type": "markdown",
   "metadata": {},
   "source": [
    "### Ordinal Encoding"
   ]
  },
  {
   "cell_type": "markdown",
   "metadata": {},
   "source": [
    "We impose a ordinal relationship on the each variable opposed to one-hot encoding.  This is done in the intrest of decreasing dimensionality through the conversion of a n-option (n-dimensional) categorical variable into a 1-dimensional ordinal vector."
   ]
  },
  {
   "cell_type": "markdown",
   "metadata": {},
   "source": [
    "**STYLE**"
   ]
  },
  {
   "cell_type": "code",
   "execution_count": 261,
   "metadata": {},
   "outputs": [
    {
     "data": {
      "image/png": "[encoded data removed]",
      "text/plain": [
       "<Figure size 432x288 with 1 Axes>"
      ]
     },
     "metadata": {
      "needs_background": "light"
     },
     "output_type": "display_data"
    }
   ],
   "source": [
    "#One-Hot Encoding and Pairing Sorting Column\n",
    "temp_df = pd.concat([col_split(Full_filtered_df['STYLEDESC'],index=Full_filtered_df.index),\\\n",
    "                     Full_filtered_df['COUNTYBUILDING']],axis=1)\n",
    "plt.plot(temp_df.corr()['COUNTYBUILDING'].sort_values(),'x')\n",
    "plt.title('Correlation Ordinal vs Sort Variable')\n",
    "plt.show()\n",
    "\n",
    "#Saving Sorting Column\n",
    "temp_list = temp_df.corr()['COUNTYBUILDING'].sort_values().index\n",
    "\n",
    "#Declaring Mapping Dictionary\n",
    "map_dict = {}\n",
    "for i in range(len(temp_list)):\n",
    "    map_dict[temp_list[i]] = float(i+1)\n",
    "\n",
    "#Mapping Values\n",
    "temp_list = list()\n",
    "for i in range(len(temp_df)):\n",
    "    temp_list.append(map_dict[Full_filtered_df['STYLEDESC'].iloc[i]])\n",
    "\n",
    "#Recreating Dataframe\n",
    "Style_df = pd.DataFrame(preprocessing.scale(temp_list),columns=['STYLE'],index=temp_df.index)"
   ]
  },
  {
   "cell_type": "markdown",
   "metadata": {},
   "source": [
    "**ROOF**"
   ]
  },
  {
   "cell_type": "code",
   "execution_count": 262,
   "metadata": {},
   "outputs": [
    {
     "data": {
      "image/png": "[encoded data removed]",
      "text/plain": [
       "<Figure size 432x288 with 1 Axes>"
      ]
     },
     "metadata": {
      "needs_background": "light"
     },
     "output_type": "display_data"
    }
   ],
   "source": [
    "#One-Hot Encoding and Pairing Sorting Column\n",
    "temp_df = pd.concat([col_split(Full_filtered_df['ROOFDESC'],index=Full_filtered_df.index),\\\n",
    "                     Full_filtered_df['COUNTYBUILDING']],axis=1)\n",
    "plt.plot(temp_df.corr()['COUNTYBUILDING'].sort_values(),'x')\n",
    "plt.title('Correlation Ordinal vs Sort Variable')\n",
    "plt.show()\n",
    "\n",
    "#Saving Sorting Column\n",
    "temp_list = temp_df.corr()['COUNTYBUILDING'].sort_values().index\n",
    "\n",
    "#Declaring Mapping Dictionary\n",
    "map_dict = {}\n",
    "for i in range(len(temp_list)):\n",
    "    map_dict[temp_list[i]] = float(i+1)\n",
    "\n",
    "#Mapping Values\n",
    "temp_list = list()\n",
    "for i in range(len(temp_df)):\n",
    "    temp_list.append(map_dict[Full_filtered_df['ROOFDESC'].iloc[i]])\n",
    "\n",
    "#Recreating Dataframe\n",
    "Roof_df = pd.DataFrame(preprocessing.scale(temp_list),columns=['ROOF'],index=temp_df.index)"
   ]
  },
  {
   "cell_type": "markdown",
   "metadata": {},
   "source": [
    "**EXTFINISH**"
   ]
  },
  {
   "cell_type": "code",
   "execution_count": 263,
   "metadata": {},
   "outputs": [
    {
     "data": {
      "image/png": "[encoded data removed]",
      "text/plain": [
       "<Figure size 432x288 with 1 Axes>"
      ]
     },
     "metadata": {
      "needs_background": "light"
     },
     "output_type": "display_data"
    }
   ],
   "source": [
    "#One-Hot Encoding and Pairing Sorting Column\n",
    "temp_df = pd.concat([col_split(Full_filtered_df['EXTFINISH_DESC'],index=Full_filtered_df.index),\\\n",
    "                     Full_filtered_df['COUNTYBUILDING']],axis=1)\n",
    "plt.plot(temp_df.corr()['COUNTYBUILDING'].sort_values(),'x')\n",
    "plt.title('Correlation Ordinal vs Sort Variable')\n",
    "plt.show()\n",
    "\n",
    "#Saving Sorting Column\n",
    "temp_list = temp_df.corr()['COUNTYBUILDING'].sort_values().index\n",
    "\n",
    "#Declaring Mapping Dictionary\n",
    "map_dict = {}\n",
    "for i in range(len(temp_list)):\n",
    "    map_dict[temp_list[i]] = float(i+1)\n",
    "\n",
    "#Mapping Values\n",
    "temp_list = list()\n",
    "for i in range(len(temp_df)):\n",
    "    temp_list.append(map_dict[Full_filtered_df['EXTFINISH_DESC'].iloc[i]])\n",
    "\n",
    "#Recreating Dataframe\n",
    "Extfinish_df = pd.DataFrame(preprocessing.scale(temp_list),columns=['EXTFINISH'],index=temp_df.index)"
   ]
  },
  {
   "cell_type": "markdown",
   "metadata": {},
   "source": [
    "**BASEMENT**"
   ]
  },
  {
   "cell_type": "code",
   "execution_count": 264,
   "metadata": {},
   "outputs": [
    {
     "data": {
      "image/png": "[encoded data removed]",
      "text/plain": [
       "<Figure size 432x288 with 1 Axes>"
      ]
     },
     "metadata": {
      "needs_background": "light"
     },
     "output_type": "display_data"
    }
   ],
   "source": [
    "#One-Hot Encoding and Pairing Sorting Column\n",
    "temp_df = pd.concat([col_split(Full_filtered_df['BASEMENTDESC'],index=Full_filtered_df.index),\\\n",
    "                     Full_filtered_df['COUNTYBUILDING']],axis=1)\n",
    "plt.plot(temp_df.corr()['COUNTYBUILDING'].sort_values(),'x')\n",
    "plt.title('Correlation Ordinal vs Sort Variable')\n",
    "plt.show()\n",
    "\n",
    "#Saving Sorting Column\n",
    "temp_list = temp_df.corr()['COUNTYBUILDING'].sort_values().index\n",
    "\n",
    "#Declaring Mapping Dictionary\n",
    "map_dict = {}\n",
    "for i in range(len(temp_list)):\n",
    "    map_dict[temp_list[i]] = float(i+1)\n",
    "\n",
    "#Mapping Values\n",
    "temp_list = list()\n",
    "for i in range(len(temp_df)):\n",
    "    temp_list.append(map_dict[Full_filtered_df['BASEMENTDESC'].iloc[i]])\n",
    "\n",
    "#Recreating Dataframe\n",
    "Basement_df = pd.DataFrame(preprocessing.scale(temp_list),columns=['BASEMENT'],index=temp_df.index)"
   ]
  },
  {
   "cell_type": "markdown",
   "metadata": {},
   "source": [
    "**ZIPCODE**"
   ]
  },
  {
   "cell_type": "code",
   "execution_count": 265,
   "metadata": {},
   "outputs": [
    {
     "data": {
      "image/png": "[encoded data removed]",
      "text/plain": [
       "<Figure size 432x288 with 1 Axes>"
      ]
     },
     "metadata": {
      "needs_background": "light"
     },
     "output_type": "display_data"
    }
   ],
   "source": [
    "#One-Hot Encoding and Pairing Sorting Column\n",
    "temp_df = pd.concat([col_split(Full_filtered_df['PROPERTYZIP'],index=Full_filtered_df.index),\\\n",
    "                     Full_filtered_df['COUNTYLAND']],axis=1)\n",
    "plt.plot(temp_df.corr()['COUNTYLAND'].sort_values(),'x')\n",
    "plt.title('Correlation Ordinal vs Sort Variable')\n",
    "plt.show()\n",
    "\n",
    "#Saving Sorting Column\n",
    "temp_list = temp_df.corr()['COUNTYLAND'].sort_values().index\n",
    "\n",
    "#Declaring Mapping Dictionary\n",
    "map_dict = {}\n",
    "for i in range(len(temp_list)):\n",
    "    map_dict[temp_list[i]] = float(i+1)\n",
    "\n",
    "#Mapping Values\n",
    "temp_list = list()\n",
    "for i in range(len(temp_df)):\n",
    "    temp_list.append(map_dict[str(Full_filtered_df['PROPERTYZIP'].iloc[i])])\n",
    "\n",
    "#Recreating Dataframe\n",
    "Zip_df = pd.DataFrame(preprocessing.scale(temp_list),columns=['ZIPCODE'],index=temp_df.index)"
   ]
  },
  {
   "cell_type": "markdown",
   "metadata": {},
   "source": [
    "**NEIGHBORHOOD**"
   ]
  },
  {
   "cell_type": "code",
   "execution_count": 266,
   "metadata": {},
   "outputs": [
    {
     "data": {
      "image/png": "[encoded data removed]",
      "text/plain": [
       "<Figure size 432x288 with 1 Axes>"
      ]
     },
     "metadata": {
      "needs_background": "light"
     },
     "output_type": "display_data"
    }
   ],
   "source": [
    "#One-Hot Encoding and Pairing Sorting Column\n",
    "temp_df = pd.concat([col_split(Full_filtered_df['NEIGHCODE'],index=Full_filtered_df.index),\\\n",
    "                     Full_filtered_df['COUNTYLAND']],axis=1)\n",
    "plt.plot(temp_df.corr()['COUNTYLAND'].sort_values(),'x')\n",
    "plt.title('Correlation Ordinal vs Sort Variable')\n",
    "plt.show()\n",
    "\n",
    "#Saving Sorting Column\n",
    "temp_list = temp_df.corr()['COUNTYLAND'].sort_values().index\n",
    "\n",
    "#Declaring Mapping Dictionary\n",
    "map_dict = {}\n",
    "for i in range(len(temp_list)):\n",
    "    map_dict[temp_list[i]] = float(i+1)\n",
    "\n",
    "#Mapping Values\n",
    "temp_list = list()\n",
    "for i in range(len(temp_df)):\n",
    "    temp_list.append(map_dict[Full_filtered_df['NEIGHCODE'].iloc[i]])\n",
    "\n",
    "#Recreating Dataframe\n",
    "Hood_df = pd.DataFrame(preprocessing.scale(temp_list),columns=['HOOD'],index=temp_df.index)"
   ]
  },
  {
   "cell_type": "markdown",
   "metadata": {},
   "source": [
    "### Other Processing"
   ]
  },
  {
   "cell_type": "markdown",
   "metadata": {},
   "source": [
    "**YEARSBLT**"
   ]
  },
  {
   "cell_type": "code",
   "execution_count": 267,
   "metadata": {},
   "outputs": [],
   "source": [
    "#Getting YearsOld by looking at the difference in Yearblt and a reference year\n",
    "Yearsold_df = list()\n",
    "\n",
    "Reference_Year = 2020\n",
    "\n",
    "for i in range(len(Full_filtered_df)):\n",
    "    Yearsold_df.append(Reference_Year - Full_filtered_df['YEARBLT'].iloc[i])\n",
    "\n",
    "Yearsold_df = pd.DataFrame(preprocessing.scale(Yearsold_df),\\\n",
    "                           columns=['YEARSOLD'],index=Full_filtered_df.index)"
   ]
  },
  {
   "cell_type": "markdown",
   "metadata": {},
   "source": [
    "**SALEDATE**"
   ]
  },
  {
   "cell_type": "code",
   "execution_count": 268,
   "metadata": {},
   "outputs": [],
   "source": [
    "#Converting Saledate into a numerical format representative of the number of days\n",
    "# from a reference date that is manually inputed (currently 5/5/2020).\n",
    "Saledate_df = pd.to_datetime(Full_filtered_df['SALEDATE'])\n",
    "\n",
    "temp_list = list()\n",
    "for i in range(len(Saledate_df)):\n",
    "    temp = (datetime.datetime(year=2020, month = 5, day=5) - \\\n",
    "    Saledate_df.iloc[i])\n",
    "    temp_list.append(temp.days)\n",
    "    \n",
    "Saledate_df = pd.DataFrame(preprocessing.scale(temp_list),columns=['SALEDATE'],\\\n",
    "                          index=Saledate_df.index)"
   ]
  },
  {
   "cell_type": "markdown",
   "metadata": {},
   "source": [
    "**COUNTS**"
   ]
  },
  {
   "cell_type": "code",
   "execution_count": 269,
   "metadata": {},
   "outputs": [],
   "source": [
    "Saledate_short_df = pd.to_datetime(Full_filtered_df['SALEDATE']).dt.to_period('m')\n",
    "Saledate_short_df = pd.DataFrame(Saledate_short_df)\n",
    "\n",
    "temp = Saledate_short_df.groupby(by = 'SALEDATE')['SALEDATE'].count().values\n",
    "temp = pd.Series(temp,index=Saledate_short_df.groupby(by = 'SALEDATE')['SALEDATE']\\\n",
    "                 .count().index.to_series().astype(str))\n",
    "\n",
    "temp_res = preprocessing.scale(np.array(temp).reshape(-1,1))\n",
    "\n",
    "map_dict = {}\n",
    "for i in range(len(temp)):\n",
    "    map_dict[temp.index[i]] = temp_res[i]\n",
    "    \n",
    "Counts_df = list()\n",
    "store = Saledate_short_df['SALEDATE'].astype(str)\n",
    "for i in range(len(Saledate_short_df)):\n",
    "    Counts_df.append(map_dict[store.iloc[i]])\n",
    "\n",
    "Counts_df = pd.DataFrame(Counts_df,columns=['COUNTS'],index=Full_filtered_df.index)"
   ]
  },
  {
   "cell_type": "markdown",
   "metadata": {},
   "source": [
    "**CDU**"
   ]
  },
  {
   "cell_type": "code",
   "execution_count": 270,
   "metadata": {},
   "outputs": [],
   "source": [
    "Cdu_df = Full_filtered_df['CDU']\n",
    "switcher  = {\n",
    "    'EX' : 1,\n",
    "    'VG' : 2,\n",
    "    'GD' : 3,\n",
    "    'AV' : 4,\n",
    "    'FR' : 5,\n",
    "    'PR' : 6,\n",
    "    'VP' : 7,\n",
    "    'UN' : 8\n",
    "}\n",
    "temp = np.linspace(0,0,len(temp_df))\n",
    "\n",
    "#Mapping Values\n",
    "for i in range(len(temp_df)):\n",
    "    temp[i] = switcher[Cdu_df.iloc[i]]\n",
    "    \n",
    "#Defining Dataframe\n",
    "Cdu_df = pd.DataFrame(preprocessing.scale(temp),columns=['CDU'],index=Full_filtered_df.index)"
   ]
  },
  {
   "cell_type": "markdown",
   "metadata": {},
   "source": [
    "**GRADE**"
   ]
  },
  {
   "cell_type": "code",
   "execution_count": 271,
   "metadata": {},
   "outputs": [],
   "source": [
    "Grade_df = Full_filtered_df['GRADE']\n",
    "switcher  = {\n",
    "    'A+' : 1,\n",
    "    'X+' : 1,\n",
    "    'XX+': 1,\n",
    "    'A' : 2,\n",
    "    'X' : 2,\n",
    "    'XX': 2,\n",
    "    'A-': 3,\n",
    "    'X-': 3,\n",
    "    'XX-': 3,\n",
    "    'B+': 4,\n",
    "    'B' : 5,\n",
    "    'B-': 6,\n",
    "    'C+': 7,\n",
    "    'C' : 8,\n",
    "    'C-': 9,\n",
    "    'D+': 10,\n",
    "    'D' : 11,\n",
    "    'D-': 12,\n",
    "    'E+': 13,\n",
    "    'E' : 14,\n",
    "    'E-': 15    \n",
    "}\n",
    "temp = np.linspace(0,0,len(temp_df))\n",
    "\n",
    "#Mapping Values\n",
    "for i in range(len(temp_df)):\n",
    "    temp[i] = switcher[Grade_df.iloc[i]]\n",
    "    \n",
    "#Redefining Dataframe\n",
    "Grade_df = pd.DataFrame(preprocessing.scale(temp),columns=['GRADE'],index=Full_filtered_df.index)"
   ]
  },
  {
   "cell_type": "markdown",
   "metadata": {},
   "source": [
    "**CONDITION**"
   ]
  },
  {
   "cell_type": "code",
   "execution_count": 272,
   "metadata": {},
   "outputs": [],
   "source": [
    "Condition_df = pd.DataFrame(preprocessing.scale(Full_filtered_df['CONDITION'].values),\\\n",
    "                                                columns=['CONDITION'],index=Full_filtered_df.index)"
   ]
  },
  {
   "cell_type": "markdown",
   "metadata": {},
   "source": [
    "**LOTAREA**"
   ]
  },
  {
   "cell_type": "code",
   "execution_count": 273,
   "metadata": {},
   "outputs": [],
   "source": [
    "Lotarea_df = pd.DataFrame(preprocessing.scale(Full_filtered_df['LOTAREA'].values),columns=['LOTAREA'],\\\n",
    "                          index=Full_filtered_df.index)"
   ]
  },
  {
   "cell_type": "markdown",
   "metadata": {},
   "source": [
    "**TOTAL ASSESSMENTS**"
   ]
  },
  {
   "cell_type": "code",
   "execution_count": 274,
   "metadata": {},
   "outputs": [],
   "source": [
    "Countytotal_df = pd.DataFrame(preprocessing.scale(Full_filtered_df['COUNTYTOTAL'].values),columns=['COUNTYTOTAL'],\\\n",
    "                              index=Full_filtered_df.index)\n",
    "Fairmarkettotal_df = pd.DataFrame(preprocessing.scale(Full_filtered_df['FAIRMARKETTOTAL'].values),columns=['FAIRMARKETTOTAL'],\\\n",
    "                              index=Full_filtered_df.index)\n",
    "Localtotal_df = pd.DataFrame(preprocessing.scale(Full_filtered_df['LOCALTOTAL'].values),columns=['LOCALTOTAL'],\\\n",
    "                              index=Full_filtered_df.index)"
   ]
  },
  {
   "cell_type": "markdown",
   "metadata": {},
   "source": [
    "**BUILDING ASSESSMENTS**"
   ]
  },
  {
   "cell_type": "code",
   "execution_count": 275,
   "metadata": {},
   "outputs": [],
   "source": [
    "Countybuilding_df = pd.DataFrame(preprocessing.scale(Full_filtered_df['COUNTYBUILDING'].values),columns=['COUNTYBUILDING'],\\\n",
    "                              index=Full_filtered_df.index)\n",
    "Fairmarketbuilding_df = pd.DataFrame(preprocessing.scale(Full_filtered_df['FAIRMARKETBUILDING'].values),\\\n",
    "                                     columns=['FAIRMARKETBUILDING'],index=Full_filtered_df.index)\n",
    "Localbuilding_df = pd.DataFrame(preprocessing.scale(Full_filtered_df['LOCALBUILDING'].values),columns=['LOCALBUILDING'],\\\n",
    "                              index=Full_filtered_df.index)"
   ]
  },
  {
   "cell_type": "markdown",
   "metadata": {},
   "source": [
    "**LAND ASSESSMENTS**"
   ]
  },
  {
   "cell_type": "code",
   "execution_count": 276,
   "metadata": {},
   "outputs": [],
   "source": [
    "Countyland_df = pd.DataFrame(preprocessing.scale(Full_filtered_df['COUNTYLAND'].values),columns=['COUNTYLAND'],\\\n",
    "                              index=Full_filtered_df.index)\n",
    "Fairmarketland_df = pd.DataFrame(preprocessing.scale(Full_filtered_df['FAIRMARKETLAND'].values),\\\n",
    "                                     columns=['FAIRMARKETLAND'],index=Full_filtered_df.index)\n",
    "Localland_df = pd.DataFrame(preprocessing.scale(Full_filtered_df['LOCALLAND'].values),columns=['LOCALLAND'],\\\n",
    "                              index=Full_filtered_df.index)"
   ]
  },
  {
   "cell_type": "markdown",
   "metadata": {},
   "source": [
    "**STORIES**"
   ]
  },
  {
   "cell_type": "code",
   "execution_count": 277,
   "metadata": {},
   "outputs": [],
   "source": [
    "Stories_df = pd.DataFrame(preprocessing.scale(Full_filtered_df['STORIES']),columns=['STORIES'],index=Full_filtered_df.index)"
   ]
  },
  {
   "cell_type": "markdown",
   "metadata": {},
   "source": [
    "**TOTALROOMS**"
   ]
  },
  {
   "cell_type": "code",
   "execution_count": 278,
   "metadata": {},
   "outputs": [],
   "source": [
    "Totalrooms_df = pd.DataFrame(preprocessing.scale(Full_filtered_df['TOTALROOMS']),columns=['TOTALROOMS'],\\\n",
    "                             index=Full_filtered_df.index)"
   ]
  },
  {
   "cell_type": "markdown",
   "metadata": {},
   "source": [
    "**BEDROOMS**"
   ]
  },
  {
   "cell_type": "code",
   "execution_count": 279,
   "metadata": {},
   "outputs": [],
   "source": [
    "Bedrooms_df = pd.DataFrame(preprocessing.scale(Full_filtered_df['BEDROOMS']),columns=['BEDROOMS'],index=Full_filtered_df.index)"
   ]
  },
  {
   "cell_type": "markdown",
   "metadata": {},
   "source": [
    "**FULLBATHS**"
   ]
  },
  {
   "cell_type": "code",
   "execution_count": 280,
   "metadata": {},
   "outputs": [],
   "source": [
    "Fullbaths_df = pd.DataFrame(preprocessing.scale(Full_filtered_df['FULLBATHS']),columns=['FULLBATHS'],\\\n",
    "                            index=Full_filtered_df.index)"
   ]
  },
  {
   "cell_type": "markdown",
   "metadata": {},
   "source": [
    "**HALFBATHS**"
   ]
  },
  {
   "cell_type": "code",
   "execution_count": 281,
   "metadata": {},
   "outputs": [],
   "source": [
    "Halfbaths_df = pd.DataFrame(preprocessing.scale(Full_filtered_df['HALFBATHS']),columns=['HALFBATHS'],\\\n",
    "                            index=Full_filtered_df.index)"
   ]
  },
  {
   "cell_type": "markdown",
   "metadata": {},
   "source": [
    "**FINISHEDLIVINGAREA**"
   ]
  },
  {
   "cell_type": "code",
   "execution_count": 282,
   "metadata": {},
   "outputs": [],
   "source": [
    "Finishedlivingarea_df = pd.DataFrame(preprocessing.scale(Full_filtered_df['FINISHEDLIVINGAREA']),\\\n",
    "                                     columns=['FINISHEDLIVINGAREA'],index=Full_filtered_df.index)"
   ]
  },
  {
   "cell_type": "markdown",
   "metadata": {},
   "source": [
    "**SALEPRICE - Target Variable**"
   ]
  },
  {
   "cell_type": "code",
   "execution_count": 283,
   "metadata": {},
   "outputs": [],
   "source": [
    "Saleprice_df = pd.DataFrame(Full_filtered_df['SALEPRICE'],columns=['SALEPRICE'],index=Full_filtered_df.index)"
   ]
  },
  {
   "cell_type": "markdown",
   "metadata": {},
   "source": [
    "### Exporting Dataset"
   ]
  },
  {
   "cell_type": "code",
   "execution_count": 284,
   "metadata": {},
   "outputs": [],
   "source": [
    "#Combing Data and Creating Output\n",
    "Output_df = pd.concat([Style_df,\n",
    "    Roof_df,\n",
    "    Extfinish_df,\n",
    "    Basement_df,\n",
    "    Zip_df,\n",
    "    Hood_df,\n",
    "    Yearsold_df,\n",
    "    Saledate_df,\n",
    "    Counts_df,\n",
    "    Cdu_df,\n",
    "    Grade_df,\n",
    "    Condition_df,\n",
    "    Lotarea_df,\n",
    "    Countytotal_df,\n",
    "    Fairmarkettotal_df,\n",
    "    Localtotal_df,\n",
    "    Countybuilding_df,\n",
    "    Fairmarketbuilding_df,\n",
    "    Localbuilding_df,\n",
    "    Countyland_df,\n",
    "    Fairmarketland_df,\n",
    "    Localland_df,\n",
    "    Stories_df,\n",
    "    Totalrooms_df,\n",
    "    Bedrooms_df,\n",
    "    Fullbaths_df,\n",
    "    Halfbaths_df,\n",
    "    Finishedlivingarea_df,\n",
    "    Saleprice_df],axis=1)\n",
    "\n",
    "Output_df.to_csv('New&Old_Dataset.csv')"
   ]
  }
 ],
 "metadata": {
  "kernelspec": {
   "display_name": "Python 3",
   "language": "python",
   "name": "python3"
  },
  "language_info": {
   "codemirror_mode": {
    "name": "ipython",
    "version": 3
   },
   "file_extension": ".py",
   "mimetype": "text/x-python",
   "name": "python",
   "nbconvert_exporter": "python",
   "pygments_lexer": "ipython3",
   "version": "3.7.3"
  }
 },
 "nbformat": 4,
 "nbformat_minor": 2
}
