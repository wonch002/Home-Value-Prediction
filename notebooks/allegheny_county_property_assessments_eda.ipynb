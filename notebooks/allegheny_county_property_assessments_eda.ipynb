{
 "cells": [
  {
   "cell_type": "code",
   "execution_count": 1,
   "metadata": {},
   "outputs": [],
   "source": [
    "import pandas as pd\n",
    "import numpy as np\n",
    "import matplotlib.pyplot as plt"
   ]
  },
  {
   "cell_type": "code",
   "execution_count": 7,
   "metadata": {},
   "outputs": [],
   "source": [
    "# data file paths\n",
    "property_assessments = pd.read_csv('allegney_county_assesment.csv', engine='python')\n",
    "data_dictionary = pd.read_csv('allegney_county_data_dictionary.csv', engine='python')"
   ]
  },
  {
   "cell_type": "markdown",
   "metadata": {},
   "source": [
    "# Allegheny County Property Assessments\n",
    "\n",
    "## Overview\n",
    "\n",
    "### Business Problem\n",
    "Create a dynamic pricing tool that will predict the actual land parcel sale price, given all the features of a parcel and some key factors that affect real estate prices. In addition, we aim to add a comparative market analysis to the dynamic pricing model.\n",
    "\n",
    "We see this providing value to individuals looking to sell their home as follows:\n",
    "- help home sellers evaluate local relators\n",
    "- increase home sellers' confidence in setting the price of their home without a relator\n",
    "\n",
    "## Dataset\n",
    "\n",
    "**Title:** Allegheny County Property Assessments\n",
    "\n",
    "**Source:** Allegheny County, hosted by The Western Pennsylvania Regional Data Center.\n",
    "\n",
    "**Link:** https://data.wprdc.org/dataset/property-assessments\n",
    "\n",
    "**Allegheny County Property Assessment Data User Guide:**\n",
    "\n",
    "https://docs.google.com/document/d/1eYuJOh4_CBitclhhgeJv6iLStPjtouhXV1_2cwei_-s\n",
    "\n",
    "**License:** Creative Commons CCZero\n",
    "\n",
    "**General Description**:\n",
    "\n",
    "From the The Western Pennsylvania Regional Data Center website:\n",
    "<blockquote source='https://data.wprdc.org/dataset/property-assessments'>\n",
    "Real Property parcel characteristics for Allegheny County, PA. Includes information pertaining to land, values, sales, abatements, and building characteristics (if residential) by parcel. Disclaimer: Parcel information is provided from the Office of Property Assessments in Allegheny County. Content and availability are subject to change. Please review the Data Dictionary for details on included fields before each use. Property characteristics and values change due to a variety of factors such as court rulings, municipality permit processing and subdivision plans. Consequently the assessment system parcel data is continually changing. Please take the dynamic nature of this information into consideration before using it. Excludes name and contact information for property owners, as required by Ordinance 3478-07.\n",
    "</blockquote>\n",
    "Allegheny County is located in Pennsylvania (see map below created by David Benbennick with Public domain license, hosted by Wikimedia Commons).\n",
    "\n",
    "<a title=\"David Benbennick / Public domain\" href=\"https://commons.wikimedia.org/wiki/File:Map_of_Pennsylvania_highlighting_Allegheny_County.svg\"><img width=\"300\" alt=\"Map of Pennsylvania highlighting Allegheny County\" src=\"https://upload.wikimedia.org/wikipedia/commons/thumb/a/ad/Map_of_Pennsylvania_highlighting_Allegheny_County.svg/512px-Map_of_Pennsylvania_highlighting_Allegheny_County.svg.png\"></a>\n",
    "\n",
    "**Dataset Fields**\n",
    "\n",
    "<table style=\"width:70%; text-align: left;\">\n",
    "    <caption>Field Definitions from Data Dictionary</caption>\n",
    "    <th>Field Name</th><th>Field Description</th>\n",
    "    <tr><td>PARID</td><td>Parcel Identification Number</td></tr>\n",
    "    <tr><td>PROPERTYHOUSENUM</td><td>Property Location House Number</td></tr>\n",
    "    <tr><td>PROPERTYFRACTION</td><td>Property Location House Number Fraction</td></tr>\n",
    "    <tr><td>PROPERTYADDRESS</td><td>Property Location Street Name</td></tr>\n",
    "    <tr><td>PROPERTYCITY</td><td>Property Location City Name</td></tr>\n",
    "    <tr><td>PROPERTYSTATE Property</td><td>Location State Name</td></tr>\n",
    "    <tr><td>PROPERTYUNIT</td><td>Property Location Unit Number</td></tr>\n",
    "    <tr><td>PROPERTYZIP</td><td>Property Location Zip code, first 5 digits</td></tr>\n",
    "    <tr><td>MUNICODE</td><td>Municipality Code (Tax District)</td></tr>\n",
    "    <tr><td>MUNIDESC</td><td>Municipality Name</td></tr>\n",
    "    <tr><td>SCHOOLCODE</td><td>School District Code</td></tr>\n",
    "    <tr><td>SCHOOLDESC</td><td>School District Name</td></tr>\n",
    "    <tr><td>LEGAL1</td><td>Legal Description 1</td></tr>\n",
    "    <tr><td>LEGAL2</td><td>Legal Description 2</td></tr>\n",
    "    <tr><td>LEGAL3</td><td>Legal Description 3</td></tr>\n",
    "    <tr><td>NEIGHCODE</td><td>Neighborhood Number</td></tr>\n",
    "    <tr><td>NEIGHDESC</td><td>Neighborhood Name</td></tr>\n",
    "    <tr><td>TAXCODE</td><td>Tax Status</td></tr>\n",
    "    <tr><td>TAXDESC</td><td>Tax Status Description</td></tr>\n",
    "    <tr><td>TAXSUBCODE</td><td>Tax Sub Code (applies to PURTA only)</td></tr>\n",
    "    <tr><td>TAXSUBCODE_DESC</td><td>Tax Sub Code Description</td></tr>\n",
    "    <tr><td>OWNERCODE</td><td>Owner Type Code 1</td></tr>\n",
    "    <tr><td>OWNERDESC</td><td>Owner Description</td></tr>\n",
    "    <tr><td>CLASS</td><td>Class</td></tr>\n",
    "    <tr><td>CLASSDESC</td><td>Class Description</td></tr>\n",
    "    <tr><td>USECODE</td><td>Land Use Code</td></tr>\n",
    "    <tr><td>USEDESC</td><td>Land Use Code Description </td></tr>\n",
    "    <tr><td>LOTAREA</td><td>Sum of Area of Land</td></tr>\n",
    "    <tr><td>HOMESTEADFLAG</td><td>Homestead Flag</td></tr>\n",
    "    <tr><td>CLEANGREEN</td><td>Clean and Green Flag</td></tr>\n",
    "    <tr><td>FARMSTEADFLAG</td><td>Farmstead Flag</td></tr>\n",
    "    <tr><td>ABATEMENTFLAG</td><td>Abatement Flag</td></tr>\n",
    "    <tr><td>RECORDDATE</td><td>Record Date</td></tr>\n",
    "    <tr><td>SALEDATE</td><td>Sale Date</td></tr>\n",
    "    <tr><td>SALEPRICE</td><td>Sale Price</td></tr>\n",
    "    <tr><td>SALECODE</td><td>Sale Validity Code</td></tr>\n",
    "    <tr><td>SALEDESC</td><td>Sale Validity Code Description</td></tr>\n",
    "    <tr><td>DEEDBOOK</td><td>Book Number</td></tr>\n",
    "    <tr><td>DEEDPAGE</td><td>Page Number</td></tr>\n",
    "    <tr><td>PREVSALEDATE</td><td>Previous Sale Date</td></tr>\n",
    "    <tr><td>PREVSALEPRICE</td><td>Previous Sale Price</td></tr>\n",
    "    <tr><td>PREVSALEDATE2</td><td>Previous Sale Date 2</td></tr>\n",
    "    <tr><td>PREVSALEPRICE2</td><td>Previous Sale Price 2</td></tr>\n",
    "    <tr><td>CHANGENOTICEADDRESS1</td><td>Change Notice Full Address 1</td></tr>\n",
    "    <tr><td>CHANGENOTICEADDRESS2</td><td>Change Notice Full Address 2</td></tr>\n",
    "    <tr><td>CHANGENOTICEADDRESS3</td><td>Change Notice Full Address 3</td></tr>\n",
    "    <tr><td>CHANGENOTICEADDRESS4</td><td>Change Notice Full Address 4</td></tr>\n",
    "    <tr><td>COUNTYBUILDING</td><td>County Assessed Value for Building </td></tr>\n",
    "    <tr><td>COUNTYLAND</td><td>County Assessed Value for Land</td></tr>\n",
    "    <tr><td>COUNTYTOTAL</td><td>County Assessed Value Total</td></tr>\n",
    "    <tr><td>COUNTYEXEMPTBLDG</td><td>County Exempt Building Amount</td></tr>\n",
    "    <tr><td>LOCALBUILDING</td><td>Local Assessed Value for Building </td></tr>\n",
    "    <tr><td>LOCALLAND</td><td>Local Assessed Value for Land</td></tr>\n",
    "    <tr><td>LOCALTOTAL</td><td>Local Assessed Value Total</td></tr>\n",
    "    <tr><td>FAIRMARKETBUILDING</td><td>Fair Market Building Value</td></tr>\n",
    "    <tr><td>FAIRMARKETLAND</td><td>Fair Market Land Value</td></tr>\n",
    "    <tr><td>FAIRMARKETTOTAL</td><td>Fair Market Total Value</td></tr>\n",
    "    <tr><td>STYLE</td><td>Dwelling - Architectural Style</td></tr>\n",
    "    <tr><td>STYLEDESC</td><td>Dwelling - Architectural Style Description</td></tr>\n",
    "    <tr><td>STORIES</td><td>Dwelling - Number of Stories</td></tr>\n",
    "    <tr><td>YEARBLT</td><td>Dwelling - Year Built</td></tr>\n",
    "    <tr><td>EXTERIORFINISH</td><td>Dwelling - Exterior Wall code</td></tr>\n",
    "    <tr><td>EXTFINISH_DESC</td><td>Dwelling - Exterior Wall Description</td></tr>\n",
    "    <tr><td>ROOF</td><td>Dwelling - Roof</td></tr>\n",
    "    <tr><td>ROOFDESC</td><td>Dwelling - Roof Description</td></tr>\n",
    "    <tr><td>BASEMENT</td><td>Dwelling - Basement</td></tr>\n",
    "    <tr><td>BASEMENTDESC</td><td>Dwelling - Basement Description</td></tr>\n",
    "    <tr><td>GRADE</td><td>Dwelling - Grade</td></tr>\n",
    "    <tr><td>GRADEDESC</td><td>Dwelling - Grade Description</td></tr>\n",
    "    <tr><td>CONDITION</td><td>Dwelling - Condition</td></tr>\n",
    "    <tr><td>CONDITIONDESC</td><td>Dwelling - Condition Description</td></tr>\n",
    "    <tr><td>CDU</td><td>Dwelling - CDU</td></tr>\n",
    "    <tr><td>CDUDESC</td><td>Dwelling - CDU Description</td></tr>\n",
    "    <tr><td>TOTALROOMS</td><td>Dwelling - Total Rooms</td></tr>\n",
    "    <tr><td>BEDROOMS</td><td>Dwelling - Bedrooms</td></tr>\n",
    "    <tr><td>FULLBATHS</td><td>Dwelling - Full Baths</td></tr>\n",
    "    <tr><td>HALFBATHS</td><td>Dwelling - Half Baths</td></tr>\n",
    "    <tr><td>HEATINGCOOLING</td><td>Dwelling - Heating Cooling</td></tr>\n",
    "    <tr><td>HEATINGCOOLINGDESC</td><td>Dwelling - Heating Cooling Description</td></tr>\n",
    "    <tr><td>FIREPLACES</td><td>Dwelling - Number of Wood burning Fireplaces Stacks</td></tr>\n",
    "    <tr><td>BSMTGARAGE</td><td>Dwelling - Integral Basement Garage (Number of Cars)</td></tr>\n",
    "    <tr><td>FINISHEDLIVINGAREA</td><td>Dwelling - Total Square Feet of Living Area</td></tr>\n",
    "    <tr><td>CARDNUMBER</td><td>Dwelling - Building (card) Number</td></tr>\n",
    "    <tr><td>ALT_ID</td><td>Alternate Parcel Identification Number</td></tr>\n",
    "    <tr><td>TAXYEAR</td><td>The current certified tax year</td></tr>\n",
    "    <tr><td>ASOFDATE</td><td>The run date of this file</td></tr>\n",
    "</table>\n",
    "\n",
    "## Future Steps:\n",
    "- Further data exploration and feature engineering\n",
    "    - Find redundant or useless features\n",
    "    - Scale and encode features as appropiate\n",
    "    - Create new features as needed\n",
    "    - If we need new data sources, we can merge our data with a number of other dataset found at [The Western Pennsylvania Regional Data Center](https://data.wprdc.org/dataset).\n",
    "- Create clusters of parcels for each zipcode, then use the cluster number for a parcel in a regression anaylsis for that zipcode. For each zipcode, will plan on tuning hyperparameters with methods like GridSearch."
   ]
  },
  {
   "cell_type": "code",
   "execution_count": 8,
   "metadata": {},
   "outputs": [
    {
     "data": {
      "text/plain": [
       "'There are 86 fields in this dataset.'"
      ]
     },
     "execution_count": 8,
     "metadata": {},
     "output_type": "execute_result"
    }
   ],
   "source": [
    "\"There are {} fields in this dataset.\".format(len(property_assessments.columns))"
   ]
  },
  {
   "cell_type": "code",
   "execution_count": 9,
   "metadata": {},
   "outputs": [
    {
     "name": "stdout",
     "output_type": "stream",
     "text": [
      "<class 'pandas.core.frame.DataFrame'>\n",
      "RangeIndex: 580526 entries, 0 to 580525\n",
      "Data columns (total 86 columns):\n",
      " #   Column                Non-Null Count   Dtype  \n",
      "---  ------                --------------   -----  \n",
      " 0   PARID                 580526 non-null  object \n",
      " 1   PROPERTYHOUSENUM      580473 non-null  float64\n",
      " 2   PROPERTYFRACTION      580526 non-null  object \n",
      " 3   PROPERTYADDRESS       580526 non-null  object \n",
      " 4   PROPERTYCITY          580524 non-null  object \n",
      " 5   PROPERTYSTATE         580526 non-null  object \n",
      " 6   PROPERTYUNIT          580526 non-null  object \n",
      " 7   PROPERTYZIP           580525 non-null  float64\n",
      " 8   MUNICODE              580526 non-null  int64  \n",
      " 9   MUNIDESC              580526 non-null  object \n",
      " 10  SCHOOLCODE            580526 non-null  int64  \n",
      " 11  SCHOOLDESC            580526 non-null  object \n",
      " 12  LEGAL1                580506 non-null  object \n",
      " 13  LEGAL2                516362 non-null  object \n",
      " 14  LEGAL3                337723 non-null  object \n",
      " 15  NEIGHCODE             580526 non-null  object \n",
      " 16  NEIGHDESC             579609 non-null  object \n",
      " 17  TAXCODE               580526 non-null  object \n",
      " 18  TAXDESC               580526 non-null  object \n",
      " 19  TAXSUBCODE            1712 non-null    object \n",
      " 20  TAXSUBCODE_DESC       1712 non-null    object \n",
      " 21  OWNERCODE             580526 non-null  int64  \n",
      " 22  OWNERDESC             580526 non-null  object \n",
      " 23  CLASS                 580526 non-null  object \n",
      " 24  CLASSDESC             580526 non-null  object \n",
      " 25  USECODE               580526 non-null  int64  \n",
      " 26  USEDESC               580524 non-null  object \n",
      " 27  LOTAREA               580526 non-null  int64  \n",
      " 28  HOMESTEADFLAG         305389 non-null  object \n",
      " 29  FARMSTEADFLAG         6 non-null       object \n",
      " 30  CLEANGREEN            1686 non-null    object \n",
      " 31  ABATEMENTFLAG         582 non-null     object \n",
      " 32  RECORDDATE            338747 non-null  object \n",
      " 33  SALEDATE              573141 non-null  object \n",
      " 34  SALEPRICE             570691 non-null  float64\n",
      " 35  SALECODE              572141 non-null  object \n",
      " 36  SALEDESC              570586 non-null  object \n",
      " 37  DEEDBOOK              527973 non-null  object \n",
      " 38  DEEDPAGE              527767 non-null  object \n",
      " 39  PREVSALEDATE          372164 non-null  object \n",
      " 40  PREVSALEPRICE         370517 non-null  float64\n",
      " 41  PREVSALEDATE2         194944 non-null  object \n",
      " 42  PREVSALEPRICE2        194392 non-null  float64\n",
      " 43  CHANGENOTICEADDRESS1  580526 non-null  object \n",
      " 44  CHANGENOTICEADDRESS2  580526 non-null  object \n",
      " 45  CHANGENOTICEADDRESS3  580526 non-null  object \n",
      " 46  CHANGENOTICEADDRESS4  568302 non-null  object \n",
      " 47  COUNTYBUILDING        580526 non-null  int64  \n",
      " 48  COUNTYLAND            580526 non-null  int64  \n",
      " 49  COUNTYTOTAL           580526 non-null  int64  \n",
      " 50  COUNTYEXEMPTBLDG      580526 non-null  int64  \n",
      " 51  LOCALBUILDING         580526 non-null  int64  \n",
      " 52  LOCALLAND             580526 non-null  int64  \n",
      " 53  LOCALTOTAL            580526 non-null  int64  \n",
      " 54  FAIRMARKETBUILDING    580526 non-null  int64  \n",
      " 55  FAIRMARKETLAND        580526 non-null  int64  \n",
      " 56  FAIRMARKETTOTAL       580526 non-null  int64  \n",
      " 57  STYLE                 445485 non-null  object \n",
      " 58  STYLEDESC             445485 non-null  object \n",
      " 59  STORIES               445469 non-null  float64\n",
      " 60  YEARBLT               445485 non-null  float64\n",
      " 61  EXTERIORFINISH        445478 non-null  float64\n",
      " 62  EXTFINISH_DESC        445478 non-null  object \n",
      " 63  ROOF                  444769 non-null  float64\n",
      " 64  ROOFDESC              444769 non-null  object \n",
      " 65  BASEMENT              445381 non-null  float64\n",
      " 66  BASEMENTDESC          445381 non-null  object \n",
      " 67  GRADE                 445475 non-null  object \n",
      " 68  GRADEDESC             445475 non-null  object \n",
      " 69  CONDITION             445409 non-null  float64\n",
      " 70  CONDITIONDESC         445409 non-null  object \n",
      " 71  CDU                   445407 non-null  object \n",
      " 72  CDUDESC               445407 non-null  object \n",
      " 73  TOTALROOMS            445408 non-null  float64\n",
      " 74  BEDROOMS              445438 non-null  float64\n",
      " 75  FULLBATHS             445355 non-null  float64\n",
      " 76  HALFBATHS             441766 non-null  float64\n",
      " 77  HEATINGCOOLING        445301 non-null  object \n",
      " 78  HEATINGCOOLINGDESC    445301 non-null  object \n",
      " 79  FIREPLACES            411671 non-null  float64\n",
      " 80  BSMTGARAGE            425825 non-null  float64\n",
      " 81  FINISHEDLIVINGAREA    445485 non-null  float64\n",
      " 82  CARDNUMBER            445485 non-null  float64\n",
      " 83  ALT_ID                26235 non-null   object \n",
      " 84  TAXYEAR               580526 non-null  int64  \n",
      " 85  ASOFDATE              580526 non-null  object \n",
      "dtypes: float64(19), int64(16), object(51)\n",
      "memory usage: 380.9+ MB\n"
     ]
    }
   ],
   "source": [
    "property_assessments.info()"
   ]
  },
  {
   "cell_type": "code",
   "execution_count": 12,
   "metadata": {},
   "outputs": [
    {
     "data": {
      "text/plain": [
       "'There are 580526 unique parcel ids in this dataset'"
      ]
     },
     "execution_count": 12,
     "metadata": {},
     "output_type": "execute_result"
    }
   ],
   "source": [
    "\"There are {} unique parcel ids in this dataset\".format(len(property_assessments.PARID.unique()))"
   ]
  },
  {
   "cell_type": "code",
   "execution_count": 13,
   "metadata": {},
   "outputs": [
    {
     "data": {
      "text/plain": [
       "'The maximum sales price is 179395660.0 and the min sales price is 0.0'"
      ]
     },
     "execution_count": 13,
     "metadata": {},
     "output_type": "execute_result"
    }
   ],
   "source": [
    "\"The maximum sales price is {} and the min sales price is {}\".format(property_assessments.SALEPRICE.max(), property_assessments.SALEPRICE.min())"
   ]
  },
  {
   "cell_type": "code",
   "execution_count": 14,
   "metadata": {},
   "outputs": [
    {
     "data": {
      "text/plain": [
       "'There are 33862 different unique sale price values'"
      ]
     },
     "execution_count": 14,
     "metadata": {},
     "output_type": "execute_result"
    }
   ],
   "source": [
    "\"There are {} different unique sale price values\".format(len(property_assessments.SALEPRICE.value_counts()))"
   ]
  },
  {
   "cell_type": "code",
   "execution_count": 15,
   "metadata": {},
   "outputs": [
    {
     "name": "stdout",
     "output_type": "stream",
     "text": [
      "There are 347346 sales over $10,000\n",
      "There are 324493 sales over $20,000\n"
     ]
    }
   ],
   "source": [
    "sales_over_ten_thousand = property_assessments[property_assessments.SALEPRICE > 10000]\n",
    "sales_over_twenty_thousand = property_assessments[property_assessments.SALEPRICE > 20000]\n",
    "print(\"There are {} sales over $10,000\".format(len(sales_over_ten_thousand)))\n",
    "print(\"There are {} sales over $20,000\".format(len(sales_over_twenty_thousand)))"
   ]
  },
  {
   "cell_type": "code",
   "execution_count": 16,
   "metadata": {},
   "outputs": [
    {
     "data": {
      "text/plain": [
       "'There are 123 unique zipcodes in this dataset'"
      ]
     },
     "execution_count": 16,
     "metadata": {},
     "output_type": "execute_result"
    }
   ],
   "source": [
    "'There are {} unique zipcodes in this dataset'.format(len(property_assessments.PROPERTYZIP.unique()))"
   ]
  },
  {
   "cell_type": "code",
   "execution_count": 17,
   "metadata": {},
   "outputs": [
    {
     "data": {
      "text/html": [
       "<div>\n",
       "<style scoped>\n",
       "    .dataframe tbody tr th:only-of-type {\n",
       "        vertical-align: middle;\n",
       "    }\n",
       "\n",
       "    .dataframe tbody tr th {\n",
       "        vertical-align: top;\n",
       "    }\n",
       "\n",
       "    .dataframe thead th {\n",
       "        text-align: right;\n",
       "    }\n",
       "</style>\n",
       "<table border=\"1\" class=\"dataframe\">\n",
       "  <thead>\n",
       "    <tr style=\"text-align: right;\">\n",
       "      <th></th>\n",
       "      <th>PARID</th>\n",
       "      <th>PROPERTYHOUSENUM</th>\n",
       "      <th>PROPERTYFRACTION</th>\n",
       "      <th>PROPERTYADDRESS</th>\n",
       "      <th>PROPERTYCITY</th>\n",
       "      <th>PROPERTYSTATE</th>\n",
       "      <th>PROPERTYUNIT</th>\n",
       "      <th>MUNICODE</th>\n",
       "      <th>MUNIDESC</th>\n",
       "      <th>SCHOOLCODE</th>\n",
       "      <th>...</th>\n",
       "      <th>HALFBATHS</th>\n",
       "      <th>HEATINGCOOLING</th>\n",
       "      <th>HEATINGCOOLINGDESC</th>\n",
       "      <th>FIREPLACES</th>\n",
       "      <th>BSMTGARAGE</th>\n",
       "      <th>FINISHEDLIVINGAREA</th>\n",
       "      <th>CARDNUMBER</th>\n",
       "      <th>ALT_ID</th>\n",
       "      <th>TAXYEAR</th>\n",
       "      <th>ASOFDATE</th>\n",
       "    </tr>\n",
       "    <tr>\n",
       "      <th>PROPERTYZIP</th>\n",
       "      <th></th>\n",
       "      <th></th>\n",
       "      <th></th>\n",
       "      <th></th>\n",
       "      <th></th>\n",
       "      <th></th>\n",
       "      <th></th>\n",
       "      <th></th>\n",
       "      <th></th>\n",
       "      <th></th>\n",
       "      <th></th>\n",
       "      <th></th>\n",
       "      <th></th>\n",
       "      <th></th>\n",
       "      <th></th>\n",
       "      <th></th>\n",
       "      <th></th>\n",
       "      <th></th>\n",
       "      <th></th>\n",
       "      <th></th>\n",
       "      <th></th>\n",
       "    </tr>\n",
       "  </thead>\n",
       "  <tbody>\n",
       "    <tr>\n",
       "      <th>15003.0</th>\n",
       "      <td>480</td>\n",
       "      <td>480</td>\n",
       "      <td>480</td>\n",
       "      <td>480</td>\n",
       "      <td>480</td>\n",
       "      <td>480</td>\n",
       "      <td>480</td>\n",
       "      <td>480</td>\n",
       "      <td>480</td>\n",
       "      <td>480</td>\n",
       "      <td>...</td>\n",
       "      <td>332</td>\n",
       "      <td>338</td>\n",
       "      <td>338</td>\n",
       "      <td>325</td>\n",
       "      <td>333</td>\n",
       "      <td>338</td>\n",
       "      <td>338</td>\n",
       "      <td>0</td>\n",
       "      <td>480</td>\n",
       "      <td>480</td>\n",
       "    </tr>\n",
       "    <tr>\n",
       "      <th>15005.0</th>\n",
       "      <td>465</td>\n",
       "      <td>465</td>\n",
       "      <td>465</td>\n",
       "      <td>465</td>\n",
       "      <td>465</td>\n",
       "      <td>465</td>\n",
       "      <td>465</td>\n",
       "      <td>465</td>\n",
       "      <td>465</td>\n",
       "      <td>465</td>\n",
       "      <td>...</td>\n",
       "      <td>303</td>\n",
       "      <td>308</td>\n",
       "      <td>308</td>\n",
       "      <td>287</td>\n",
       "      <td>271</td>\n",
       "      <td>308</td>\n",
       "      <td>308</td>\n",
       "      <td>403</td>\n",
       "      <td>465</td>\n",
       "      <td>465</td>\n",
       "    </tr>\n",
       "    <tr>\n",
       "      <th>15006.0</th>\n",
       "      <td>157</td>\n",
       "      <td>157</td>\n",
       "      <td>157</td>\n",
       "      <td>157</td>\n",
       "      <td>157</td>\n",
       "      <td>157</td>\n",
       "      <td>157</td>\n",
       "      <td>157</td>\n",
       "      <td>157</td>\n",
       "      <td>157</td>\n",
       "      <td>...</td>\n",
       "      <td>133</td>\n",
       "      <td>136</td>\n",
       "      <td>136</td>\n",
       "      <td>128</td>\n",
       "      <td>133</td>\n",
       "      <td>136</td>\n",
       "      <td>136</td>\n",
       "      <td>0</td>\n",
       "      <td>157</td>\n",
       "      <td>157</td>\n",
       "    </tr>\n",
       "    <tr>\n",
       "      <th>15007.0</th>\n",
       "      <td>182</td>\n",
       "      <td>182</td>\n",
       "      <td>182</td>\n",
       "      <td>182</td>\n",
       "      <td>182</td>\n",
       "      <td>182</td>\n",
       "      <td>182</td>\n",
       "      <td>182</td>\n",
       "      <td>182</td>\n",
       "      <td>182</td>\n",
       "      <td>...</td>\n",
       "      <td>123</td>\n",
       "      <td>124</td>\n",
       "      <td>124</td>\n",
       "      <td>120</td>\n",
       "      <td>120</td>\n",
       "      <td>124</td>\n",
       "      <td>124</td>\n",
       "      <td>0</td>\n",
       "      <td>182</td>\n",
       "      <td>182</td>\n",
       "    </tr>\n",
       "    <tr>\n",
       "      <th>15012.0</th>\n",
       "      <td>24</td>\n",
       "      <td>24</td>\n",
       "      <td>24</td>\n",
       "      <td>24</td>\n",
       "      <td>24</td>\n",
       "      <td>24</td>\n",
       "      <td>24</td>\n",
       "      <td>24</td>\n",
       "      <td>24</td>\n",
       "      <td>24</td>\n",
       "      <td>...</td>\n",
       "      <td>8</td>\n",
       "      <td>8</td>\n",
       "      <td>8</td>\n",
       "      <td>7</td>\n",
       "      <td>7</td>\n",
       "      <td>8</td>\n",
       "      <td>8</td>\n",
       "      <td>0</td>\n",
       "      <td>24</td>\n",
       "      <td>24</td>\n",
       "    </tr>\n",
       "    <tr>\n",
       "      <th>...</th>\n",
       "      <td>...</td>\n",
       "      <td>...</td>\n",
       "      <td>...</td>\n",
       "      <td>...</td>\n",
       "      <td>...</td>\n",
       "      <td>...</td>\n",
       "      <td>...</td>\n",
       "      <td>...</td>\n",
       "      <td>...</td>\n",
       "      <td>...</td>\n",
       "      <td>...</td>\n",
       "      <td>...</td>\n",
       "      <td>...</td>\n",
       "      <td>...</td>\n",
       "      <td>...</td>\n",
       "      <td>...</td>\n",
       "      <td>...</td>\n",
       "      <td>...</td>\n",
       "      <td>...</td>\n",
       "      <td>...</td>\n",
       "      <td>...</td>\n",
       "    </tr>\n",
       "    <tr>\n",
       "      <th>15668.0</th>\n",
       "      <td>32</td>\n",
       "      <td>32</td>\n",
       "      <td>32</td>\n",
       "      <td>32</td>\n",
       "      <td>32</td>\n",
       "      <td>32</td>\n",
       "      <td>32</td>\n",
       "      <td>32</td>\n",
       "      <td>32</td>\n",
       "      <td>32</td>\n",
       "      <td>...</td>\n",
       "      <td>31</td>\n",
       "      <td>31</td>\n",
       "      <td>31</td>\n",
       "      <td>27</td>\n",
       "      <td>30</td>\n",
       "      <td>31</td>\n",
       "      <td>31</td>\n",
       "      <td>0</td>\n",
       "      <td>32</td>\n",
       "      <td>32</td>\n",
       "    </tr>\n",
       "    <tr>\n",
       "      <th>16046.0</th>\n",
       "      <td>1427</td>\n",
       "      <td>1427</td>\n",
       "      <td>1427</td>\n",
       "      <td>1427</td>\n",
       "      <td>1427</td>\n",
       "      <td>1427</td>\n",
       "      <td>1427</td>\n",
       "      <td>1427</td>\n",
       "      <td>1427</td>\n",
       "      <td>1427</td>\n",
       "      <td>...</td>\n",
       "      <td>1128</td>\n",
       "      <td>1135</td>\n",
       "      <td>1135</td>\n",
       "      <td>491</td>\n",
       "      <td>639</td>\n",
       "      <td>1138</td>\n",
       "      <td>1138</td>\n",
       "      <td>727</td>\n",
       "      <td>1427</td>\n",
       "      <td>1427</td>\n",
       "    </tr>\n",
       "    <tr>\n",
       "      <th>16056.0</th>\n",
       "      <td>3</td>\n",
       "      <td>3</td>\n",
       "      <td>3</td>\n",
       "      <td>3</td>\n",
       "      <td>3</td>\n",
       "      <td>3</td>\n",
       "      <td>3</td>\n",
       "      <td>3</td>\n",
       "      <td>3</td>\n",
       "      <td>3</td>\n",
       "      <td>...</td>\n",
       "      <td>3</td>\n",
       "      <td>3</td>\n",
       "      <td>3</td>\n",
       "      <td>3</td>\n",
       "      <td>3</td>\n",
       "      <td>3</td>\n",
       "      <td>3</td>\n",
       "      <td>0</td>\n",
       "      <td>3</td>\n",
       "      <td>3</td>\n",
       "    </tr>\n",
       "    <tr>\n",
       "      <th>16059.0</th>\n",
       "      <td>157</td>\n",
       "      <td>157</td>\n",
       "      <td>157</td>\n",
       "      <td>157</td>\n",
       "      <td>157</td>\n",
       "      <td>157</td>\n",
       "      <td>157</td>\n",
       "      <td>157</td>\n",
       "      <td>157</td>\n",
       "      <td>157</td>\n",
       "      <td>...</td>\n",
       "      <td>109</td>\n",
       "      <td>111</td>\n",
       "      <td>111</td>\n",
       "      <td>101</td>\n",
       "      <td>107</td>\n",
       "      <td>111</td>\n",
       "      <td>111</td>\n",
       "      <td>17</td>\n",
       "      <td>157</td>\n",
       "      <td>157</td>\n",
       "    </tr>\n",
       "    <tr>\n",
       "      <th>16229.0</th>\n",
       "      <td>21</td>\n",
       "      <td>21</td>\n",
       "      <td>21</td>\n",
       "      <td>21</td>\n",
       "      <td>21</td>\n",
       "      <td>21</td>\n",
       "      <td>21</td>\n",
       "      <td>21</td>\n",
       "      <td>21</td>\n",
       "      <td>21</td>\n",
       "      <td>...</td>\n",
       "      <td>10</td>\n",
       "      <td>9</td>\n",
       "      <td>9</td>\n",
       "      <td>10</td>\n",
       "      <td>10</td>\n",
       "      <td>10</td>\n",
       "      <td>10</td>\n",
       "      <td>0</td>\n",
       "      <td>21</td>\n",
       "      <td>21</td>\n",
       "    </tr>\n",
       "  </tbody>\n",
       "</table>\n",
       "<p>122 rows × 85 columns</p>\n",
       "</div>"
      ],
      "text/plain": [
       "             PARID  PROPERTYHOUSENUM  PROPERTYFRACTION  PROPERTYADDRESS  \\\n",
       "PROPERTYZIP                                                               \n",
       "15003.0        480               480               480              480   \n",
       "15005.0        465               465               465              465   \n",
       "15006.0        157               157               157              157   \n",
       "15007.0        182               182               182              182   \n",
       "15012.0         24                24                24               24   \n",
       "...            ...               ...               ...              ...   \n",
       "15668.0         32                32                32               32   \n",
       "16046.0       1427              1427              1427             1427   \n",
       "16056.0          3                 3                 3                3   \n",
       "16059.0        157               157               157              157   \n",
       "16229.0         21                21                21               21   \n",
       "\n",
       "             PROPERTYCITY  PROPERTYSTATE  PROPERTYUNIT  MUNICODE  MUNIDESC  \\\n",
       "PROPERTYZIP                                                                  \n",
       "15003.0               480            480           480       480       480   \n",
       "15005.0               465            465           465       465       465   \n",
       "15006.0               157            157           157       157       157   \n",
       "15007.0               182            182           182       182       182   \n",
       "15012.0                24             24            24        24        24   \n",
       "...                   ...            ...           ...       ...       ...   \n",
       "15668.0                32             32            32        32        32   \n",
       "16046.0              1427           1427          1427      1427      1427   \n",
       "16056.0                 3              3             3         3         3   \n",
       "16059.0               157            157           157       157       157   \n",
       "16229.0                21             21            21        21        21   \n",
       "\n",
       "             SCHOOLCODE  ...  HALFBATHS  HEATINGCOOLING  HEATINGCOOLINGDESC  \\\n",
       "PROPERTYZIP              ...                                                  \n",
       "15003.0             480  ...        332             338                 338   \n",
       "15005.0             465  ...        303             308                 308   \n",
       "15006.0             157  ...        133             136                 136   \n",
       "15007.0             182  ...        123             124                 124   \n",
       "15012.0              24  ...          8               8                   8   \n",
       "...                 ...  ...        ...             ...                 ...   \n",
       "15668.0              32  ...         31              31                  31   \n",
       "16046.0            1427  ...       1128            1135                1135   \n",
       "16056.0               3  ...          3               3                   3   \n",
       "16059.0             157  ...        109             111                 111   \n",
       "16229.0              21  ...         10               9                   9   \n",
       "\n",
       "             FIREPLACES  BSMTGARAGE  FINISHEDLIVINGAREA  CARDNUMBER  ALT_ID  \\\n",
       "PROPERTYZIP                                                                   \n",
       "15003.0             325         333                 338         338       0   \n",
       "15005.0             287         271                 308         308     403   \n",
       "15006.0             128         133                 136         136       0   \n",
       "15007.0             120         120                 124         124       0   \n",
       "15012.0               7           7                   8           8       0   \n",
       "...                 ...         ...                 ...         ...     ...   \n",
       "15668.0              27          30                  31          31       0   \n",
       "16046.0             491         639                1138        1138     727   \n",
       "16056.0               3           3                   3           3       0   \n",
       "16059.0             101         107                 111         111      17   \n",
       "16229.0              10          10                  10          10       0   \n",
       "\n",
       "             TAXYEAR  ASOFDATE  \n",
       "PROPERTYZIP                     \n",
       "15003.0          480       480  \n",
       "15005.0          465       465  \n",
       "15006.0          157       157  \n",
       "15007.0          182       182  \n",
       "15012.0           24        24  \n",
       "...              ...       ...  \n",
       "15668.0           32        32  \n",
       "16046.0         1427      1427  \n",
       "16056.0            3         3  \n",
       "16059.0          157       157  \n",
       "16229.0           21        21  \n",
       "\n",
       "[122 rows x 85 columns]"
      ]
     },
     "execution_count": 17,
     "metadata": {},
     "output_type": "execute_result"
    }
   ],
   "source": [
    "property_assessments.groupby(['PROPERTYZIP']).count()"
   ]
  },
  {
   "cell_type": "code",
   "execution_count": 18,
   "metadata": {},
   "outputs": [],
   "source": [
    "parcels_per_zipcode = property_assessments.PROPERTYZIP.value_counts()"
   ]
  },
  {
   "cell_type": "code",
   "execution_count": 19,
   "metadata": {},
   "outputs": [
    {
     "data": {
      "text/plain": [
       "'The most parcels in a zipcode is 18326, the least amount of parcels in a zipcode is 1.'"
      ]
     },
     "execution_count": 19,
     "metadata": {},
     "output_type": "execute_result"
    }
   ],
   "source": [
    "\"The most parcels in a zipcode is {}, the least amount of parcels in a zipcode is {}.\".format(parcels_per_zipcode.max(), parcels_per_zipcode.min())"
   ]
  },
  {
   "cell_type": "code",
   "execution_count": 20,
   "metadata": {},
   "outputs": [
    {
     "data": {
      "text/plain": [
       "count      122.000000\n",
       "mean      4758.401639\n",
       "std       4621.356963\n",
       "min          1.000000\n",
       "25%        512.750000\n",
       "50%       3730.500000\n",
       "75%       7486.750000\n",
       "max      18326.000000\n",
       "Name: PROPERTYZIP, dtype: float64"
      ]
     },
     "execution_count": 20,
     "metadata": {},
     "output_type": "execute_result"
    }
   ],
   "source": [
    "parcels_per_zipcode.describe()"
   ]
  },
  {
   "cell_type": "code",
   "execution_count": 21,
   "metadata": {},
   "outputs": [
    {
     "data": {
      "text/plain": [
       "'There are 175 unique Municipalities.'"
      ]
     },
     "execution_count": 21,
     "metadata": {},
     "output_type": "execute_result"
    }
   ],
   "source": [
    "\"There are {} unique Municipalities.\" .format(len(property_assessments.MUNICODE.unique()))"
   ]
  },
  {
   "cell_type": "code",
   "execution_count": 22,
   "metadata": {},
   "outputs": [
    {
     "data": {
      "text/plain": [
       "'There are 46 unique School Districts.'"
      ]
     },
     "execution_count": 22,
     "metadata": {},
     "output_type": "execute_result"
    }
   ],
   "source": [
    "\"There are {} unique School Districts.\" .format(len(property_assessments.SCHOOLCODE.unique()))"
   ]
  },
  {
   "cell_type": "code",
   "execution_count": 23,
   "metadata": {},
   "outputs": [
    {
     "data": {
      "text/plain": [
       "'There are 1000 unique Neighborhoods.'"
      ]
     },
     "execution_count": 23,
     "metadata": {},
     "output_type": "execute_result"
    }
   ],
   "source": [
    "\"There are {} unique Neighborhoods.\" .format(len(property_assessments.NEIGHCODE.unique()))"
   ]
  },
  {
   "cell_type": "markdown",
   "metadata": {},
   "source": [
    "> **Data feature - \"Class\"**\n",
    "\n",
    " >> Broad self-explanatory categories for describing the  general use of a parcel.\n",
    "Categories:  \n",
    "- R - RESIDENTIAL\n",
    "- U - UTILITIES\n",
    "- I - INDUSTRIAL\n",
    "- C - COMMERCIAL\n",
    "- O - OTHER\n",
    "- G - GOVERNMENT\n",
    "- F - AGRICULTURAL"
   ]
  },
  {
   "cell_type": "code",
   "execution_count": 24,
   "metadata": {},
   "outputs": [
    {
     "data": {
      "text/plain": [
       "'There are 7 unique Classes of Property.'"
      ]
     },
     "execution_count": 24,
     "metadata": {},
     "output_type": "execute_result"
    }
   ],
   "source": [
    "\"There are {} unique Classes of Property.\" .format(len(property_assessments.CLASS.unique()))"
   ]
  },
  {
   "cell_type": "code",
   "execution_count": 25,
   "metadata": {},
   "outputs": [
    {
     "data": {
      "text/plain": [
       "array(['C', 'R', 'G', 'O', 'U', 'I', 'F'], dtype=object)"
      ]
     },
     "execution_count": 25,
     "metadata": {},
     "output_type": "execute_result"
    }
   ],
   "source": [
    "#Displaying Types of Values - Also denotes whether there are nan values\n",
    "property_assessments.CLASS.unique()"
   ]
  },
  {
   "cell_type": "code",
   "execution_count": 26,
   "metadata": {},
   "outputs": [
    {
     "data": {
      "text/plain": [
       "CLASS\n",
       "C     6.25\n",
       "F     0.41\n",
       "G     2.94\n",
       "I     0.64\n",
       "O     0.13\n",
       "R    89.29\n",
       "U     0.34\n",
       "Name: PARID, dtype: float64"
      ]
     },
     "execution_count": 26,
     "metadata": {},
     "output_type": "execute_result"
    }
   ],
   "source": [
    "#Percentages for each class of parcel\n",
    "round(property_assessments.groupby(by='CLASS')['PARID'].count()/len(property_assessments)*100,2)"
   ]
  },
  {
   "cell_type": "markdown",
   "metadata": {},
   "source": [
    " > **Data feature - \"HOMESTEADFLAG\"**\n",
    "\n",
    " > >[Tax Code Resource](https://dced.pa.gov/local-government/property-tax-relief-homestead-exclusion/)\n",
    "\n",
    "> > Homestead designation is denoted by this feature; this allows the given property to qualify for a tax reduction through the decreasing the property evaulation prior to computing property tax."
   ]
  },
  {
   "cell_type": "code",
   "execution_count": 27,
   "metadata": {},
   "outputs": [],
   "source": [
    "#Displaying Possible Values\n",
    "#property_assessments.HOMESTEADFLAG.unique()"
   ]
  },
  {
   "cell_type": "code",
   "execution_count": 28,
   "metadata": {},
   "outputs": [
    {
     "data": {
      "text/plain": [
       "'There are 580526 unique Parcel IDs where there are 580526 entries within the dataset.'"
      ]
     },
     "execution_count": 28,
     "metadata": {},
     "output_type": "execute_result"
    }
   ],
   "source": [
    "#Checking for Duplicate PARID Values\n",
    "\"There are {} unique Parcel IDs where there are {} entries within the dataset.\"\\\n",
    ".format(len(property_assessments.PARID.unique()),len(property_assessments))"
   ]
  },
  {
   "cell_type": "code",
   "execution_count": 29,
   "metadata": {},
   "outputs": [
    {
     "data": {
      "text/plain": [
       "'52.61% of Parcels are Classified as Homesteads'"
      ]
     },
     "execution_count": 29,
     "metadata": {},
     "output_type": "execute_result"
    }
   ],
   "source": [
    "\"{}% of Parcels are Classified as Homesteads\"\\\n",
    ".format(round(list(property_assessments.groupby(by = 'HOMESTEADFLAG')['PARID'].count())[0]/len(property_assessments)*100,2))"
   ]
  },
  {
   "cell_type": "markdown",
   "metadata": {},
   "source": [
    "> **Data feature - \"CLEANGREEN\"**\n",
    "\n",
    ">> [Tax Code Resource](https://conservationtools.org/guides/44-clean-and-green)\n",
    "\n",
    ">> Cleangreen designation is denoted by this feature; this allows the given property to qualify for a tax reduction based on helping improve farmers bottom land.  The three types of land that can qualify for this designation are specified in above linked resource (Centered Around Agricultural Land).\n"
   ]
  },
  {
   "cell_type": "code",
   "execution_count": 30,
   "metadata": {},
   "outputs": [],
   "source": [
    "#Displaying Possible Values\n",
    "#property_assessments.CLEANGREEN.unique()"
   ]
  },
  {
   "cell_type": "code",
   "execution_count": 31,
   "metadata": {},
   "outputs": [
    {
     "data": {
      "text/plain": [
       "'0.29% of Parcels are Classified as Cleangreen'"
      ]
     },
     "execution_count": 31,
     "metadata": {},
     "output_type": "execute_result"
    }
   ],
   "source": [
    "\"{}% of Parcels are Classified as Cleangreen\"\\\n",
    ".format(round(list(property_assessments.groupby(by = 'CLEANGREEN')['PARID'].count())[0]/len(property_assessments)*100,2))"
   ]
  },
  {
   "cell_type": "markdown",
   "metadata": {},
   "source": [
    "> **Data feature - \"FARMSTEADFLAG\"**\n",
    "\n",
    ">> [Tax Code Resource](https://extension.psu.edu/understanding-the-homestead-and-farmstead-exclusions)\n",
    "\n",
    ">> Farmstead designation is denoted by this feature; this allows the given property to qualify for a tax reducation through the decreasing of the respective properties valuation prior to computing property tax owed."
   ]
  },
  {
   "cell_type": "code",
   "execution_count": 32,
   "metadata": {},
   "outputs": [
    {
     "data": {
      "text/plain": [
       "array([nan, 'FRM'], dtype=object)"
      ]
     },
     "execution_count": 32,
     "metadata": {},
     "output_type": "execute_result"
    }
   ],
   "source": [
    "#Displaying Possible Values\n",
    "property_assessments.FARMSTEADFLAG.unique()"
   ]
  },
  {
   "cell_type": "code",
   "execution_count": 33,
   "metadata": {},
   "outputs": [
    {
     "data": {
      "text/plain": [
       "'0.0% of Parcels are Classified as Farmsteads'"
      ]
     },
     "execution_count": 33,
     "metadata": {},
     "output_type": "execute_result"
    }
   ],
   "source": [
    "\"{}% of Parcels are Classified as Farmsteads\"\\\n",
    ".format(round(list(property_assessments.groupby(by = 'FARMSTEADFLAG')['PARID'].count())[0]/len(property_assessments)*100,2))"
   ]
  },
  {
   "cell_type": "markdown",
   "metadata": {},
   "source": [
    "# Baseline Model\n",
    "We'll build a baseline model to see how it performs. Anything that we build after, should be able to beat our baseline."
   ]
  },
  {
   "cell_type": "code",
   "execution_count": 89,
   "metadata": {},
   "outputs": [],
   "source": [
    "from sklearn.model_selection import train_test_split\n",
    "from sklearn.ensemble import GradientBoostingRegressor\n",
    "from sklearn.metrics import mean_squared_error"
   ]
  },
  {
   "cell_type": "code",
   "execution_count": 90,
   "metadata": {},
   "outputs": [],
   "source": [
    "# Split Data into Features and Values.\n",
    "property_assessments = property_assessments.dropna(subset = ['SALEPRICE'])\n",
    "\n",
    "X = property_assessments.loc[:,property_assessments.columns != 'SALEPRICE']\n",
    "X = X.select_dtypes(include=['bool','number','int','float'])\n",
    "X = X.dropna(axis=1, how='any')\n",
    "\n",
    "y = property_assessments['SALEPRICE']\n",
    "\n",
    "X_train, X_test, y_train, y_test = train_test_split(X, y, test_size=0.33, random_state=42)"
   ]
  },
  {
   "cell_type": "code",
   "execution_count": 92,
   "metadata": {},
   "outputs": [
    {
     "name": "stdout",
     "output_type": "stream",
     "text": [
      "Baseline Root Mean Squared Error:  910303.8478624838\n"
     ]
    }
   ],
   "source": [
    "clf = GradientBoostingRegressor(random_state=42).fit(X_train, y_train)\n",
    "\n",
    "predictions = clf.predict(X_test)\n",
    "\n",
    "rmse = mean_squared_error(y_test, predictions) ** 0.5\n",
    "print(\"Baseline Root Mean Squared Error: \", rmse)"
   ]
  },
  {
   "cell_type": "code",
   "execution_count": 94,
   "metadata": {},
   "outputs": [
    {
     "data": {
      "text/plain": [
       "array([ 46525.45990598, 188792.18253381,  81482.89861551,  97003.54113217,\n",
       "        36532.94635392])"
      ]
     },
     "execution_count": 94,
     "metadata": {},
     "output_type": "execute_result"
    }
   ],
   "source": [
    "predictions[:5]"
   ]
  },
  {
   "cell_type": "code",
   "execution_count": 95,
   "metadata": {},
   "outputs": [
    {
     "data": {
      "text/plain": [
       "127206         0.0\n",
       "578242    279000.0\n",
       "176441     12500.0\n",
       "293379    178000.0\n",
       "213573     30000.0\n",
       "Name: SALEPRICE, dtype: float64"
      ]
     },
     "execution_count": 95,
     "metadata": {},
     "output_type": "execute_result"
    }
   ],
   "source": [
    "y_test[:5]"
   ]
  },
  {
   "cell_type": "markdown",
   "metadata": {},
   "source": [
    "These results are bad. We can do better in the future hopefully."
   ]
  }
 ],
 "metadata": {
  "kernelspec": {
   "display_name": "Python 3",
   "language": "python",
   "name": "python3"
  },
  "language_info": {
   "codemirror_mode": {
    "name": "ipython",
    "version": 3
   },
   "file_extension": ".py",
   "mimetype": "text/x-python",
   "name": "python",
   "nbconvert_exporter": "python",
   "pygments_lexer": "ipython3",
   "version": "3.7.6"
  }
 },
 "nbformat": 4,
 "nbformat_minor": 4
}
