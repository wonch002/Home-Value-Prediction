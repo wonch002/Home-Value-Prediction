{
 "cells": [
  {
   "cell_type": "code",
   "execution_count": 1,
   "metadata": {},
   "outputs": [],
   "source": [
    "#Import Libraries\n",
    "import numpy as np\n",
    "import pandas as pd\n",
    "import matplotlib.pyplot as plt"
   ]
  },
  {
   "cell_type": "code",
   "execution_count": 2,
   "metadata": {},
   "outputs": [
    {
     "name": "stderr",
     "output_type": "stream",
     "text": [
      "C:\\Users\\chosb\\Anaconda3\\lib\\site-packages\\IPython\\core\\interactiveshell.py:3051: DtypeWarning: Columns (19,20,29,30,37,38,46,57,83) have mixed types.Specify dtype option on import or set low_memory=False.\n",
      "  interactivity=interactivity, compiler=compiler, result=result)\n"
     ]
    }
   ],
   "source": [
    "# Loading Data\n",
    "pa = pd.read_csv('allegney_county_assesment.csv')"
   ]
  },
  {
   "cell_type": "code",
   "execution_count": 3,
   "metadata": {},
   "outputs": [
    {
     "data": {
      "text/html": [
       "<div>\n",
       "<style scoped>\n",
       "    .dataframe tbody tr th:only-of-type {\n",
       "        vertical-align: middle;\n",
       "    }\n",
       "\n",
       "    .dataframe tbody tr th {\n",
       "        vertical-align: top;\n",
       "    }\n",
       "\n",
       "    .dataframe thead th {\n",
       "        text-align: right;\n",
       "    }\n",
       "</style>\n",
       "<table border=\"1\" class=\"dataframe\">\n",
       "  <thead>\n",
       "    <tr style=\"text-align: right;\">\n",
       "      <th></th>\n",
       "      <th>PARID</th>\n",
       "      <th>PROPERTYHOUSENUM</th>\n",
       "      <th>PROPERTYFRACTION</th>\n",
       "      <th>PROPERTYADDRESS</th>\n",
       "      <th>PROPERTYCITY</th>\n",
       "      <th>PROPERTYSTATE</th>\n",
       "      <th>PROPERTYUNIT</th>\n",
       "      <th>PROPERTYZIP</th>\n",
       "      <th>MUNICODE</th>\n",
       "      <th>MUNIDESC</th>\n",
       "      <th>...</th>\n",
       "      <th>HALFBATHS</th>\n",
       "      <th>HEATINGCOOLING</th>\n",
       "      <th>HEATINGCOOLINGDESC</th>\n",
       "      <th>FIREPLACES</th>\n",
       "      <th>BSMTGARAGE</th>\n",
       "      <th>FINISHEDLIVINGAREA</th>\n",
       "      <th>CARDNUMBER</th>\n",
       "      <th>ALT_ID</th>\n",
       "      <th>TAXYEAR</th>\n",
       "      <th>ASOFDATE</th>\n",
       "    </tr>\n",
       "  </thead>\n",
       "  <tbody>\n",
       "    <tr>\n",
       "      <th>0</th>\n",
       "      <td>0001G00217000000</td>\n",
       "      <td>100.0</td>\n",
       "      <td></td>\n",
       "      <td>1ST AVE</td>\n",
       "      <td>PITTSBURGH</td>\n",
       "      <td>PA</td>\n",
       "      <td></td>\n",
       "      <td>15222.0</td>\n",
       "      <td>101</td>\n",
       "      <td>1st Ward  - PITTSBURGH</td>\n",
       "      <td>...</td>\n",
       "      <td>NaN</td>\n",
       "      <td>NaN</td>\n",
       "      <td>NaN</td>\n",
       "      <td>NaN</td>\n",
       "      <td>NaN</td>\n",
       "      <td>NaN</td>\n",
       "      <td>NaN</td>\n",
       "      <td>NaN</td>\n",
       "      <td>2020</td>\n",
       "      <td>01-APR-20</td>\n",
       "    </tr>\n",
       "    <tr>\n",
       "      <th>1</th>\n",
       "      <td>0001G00224000000</td>\n",
       "      <td>0.0</td>\n",
       "      <td></td>\n",
       "      <td>FORT PITT BLVD</td>\n",
       "      <td>PITTSBURGH</td>\n",
       "      <td>PA</td>\n",
       "      <td></td>\n",
       "      <td>15222.0</td>\n",
       "      <td>101</td>\n",
       "      <td>1st Ward  - PITTSBURGH</td>\n",
       "      <td>...</td>\n",
       "      <td>NaN</td>\n",
       "      <td>NaN</td>\n",
       "      <td>NaN</td>\n",
       "      <td>NaN</td>\n",
       "      <td>NaN</td>\n",
       "      <td>NaN</td>\n",
       "      <td>NaN</td>\n",
       "      <td>NaN</td>\n",
       "      <td>2020</td>\n",
       "      <td>01-APR-20</td>\n",
       "    </tr>\n",
       "    <tr>\n",
       "      <th>2</th>\n",
       "      <td>0001G00224040100</td>\n",
       "      <td>151.0</td>\n",
       "      <td></td>\n",
       "      <td>FORT PITT BLVD</td>\n",
       "      <td>PITTSBURGH</td>\n",
       "      <td>PA</td>\n",
       "      <td>UNIT 401</td>\n",
       "      <td>15222.0</td>\n",
       "      <td>101</td>\n",
       "      <td>1st Ward  - PITTSBURGH</td>\n",
       "      <td>...</td>\n",
       "      <td>0.0</td>\n",
       "      <td>B</td>\n",
       "      <td>Central Heat with AC</td>\n",
       "      <td>NaN</td>\n",
       "      <td>NaN</td>\n",
       "      <td>1520.0</td>\n",
       "      <td>1.0</td>\n",
       "      <td>NaN</td>\n",
       "      <td>2020</td>\n",
       "      <td>01-APR-20</td>\n",
       "    </tr>\n",
       "    <tr>\n",
       "      <th>3</th>\n",
       "      <td>0001G00224040300</td>\n",
       "      <td>151.0</td>\n",
       "      <td></td>\n",
       "      <td>FORT PITT BLVD</td>\n",
       "      <td>PITTSBURGH</td>\n",
       "      <td>PA</td>\n",
       "      <td>UNIT 403</td>\n",
       "      <td>15222.0</td>\n",
       "      <td>101</td>\n",
       "      <td>1st Ward  - PITTSBURGH</td>\n",
       "      <td>...</td>\n",
       "      <td>0.0</td>\n",
       "      <td>B</td>\n",
       "      <td>Central Heat with AC</td>\n",
       "      <td>NaN</td>\n",
       "      <td>NaN</td>\n",
       "      <td>1858.0</td>\n",
       "      <td>1.0</td>\n",
       "      <td>NaN</td>\n",
       "      <td>2020</td>\n",
       "      <td>01-APR-20</td>\n",
       "    </tr>\n",
       "    <tr>\n",
       "      <th>4</th>\n",
       "      <td>0001G00224040400</td>\n",
       "      <td>151.0</td>\n",
       "      <td></td>\n",
       "      <td>FORT PITT BLVD</td>\n",
       "      <td>PITTSBURGH</td>\n",
       "      <td>PA</td>\n",
       "      <td>UNIT 404</td>\n",
       "      <td>15222.0</td>\n",
       "      <td>101</td>\n",
       "      <td>1st Ward  - PITTSBURGH</td>\n",
       "      <td>...</td>\n",
       "      <td>0.0</td>\n",
       "      <td>B</td>\n",
       "      <td>Central Heat with AC</td>\n",
       "      <td>NaN</td>\n",
       "      <td>NaN</td>\n",
       "      <td>1567.0</td>\n",
       "      <td>1.0</td>\n",
       "      <td>NaN</td>\n",
       "      <td>2020</td>\n",
       "      <td>01-APR-20</td>\n",
       "    </tr>\n",
       "  </tbody>\n",
       "</table>\n",
       "<p>5 rows × 86 columns</p>\n",
       "</div>"
      ],
      "text/plain": [
       "              PARID  PROPERTYHOUSENUM PROPERTYFRACTION PROPERTYADDRESS  \\\n",
       "0  0001G00217000000             100.0                          1ST AVE   \n",
       "1  0001G00224000000               0.0                   FORT PITT BLVD   \n",
       "2  0001G00224040100             151.0                   FORT PITT BLVD   \n",
       "3  0001G00224040300             151.0                   FORT PITT BLVD   \n",
       "4  0001G00224040400             151.0                   FORT PITT BLVD   \n",
       "\n",
       "  PROPERTYCITY PROPERTYSTATE PROPERTYUNIT  PROPERTYZIP  MUNICODE  \\\n",
       "0   PITTSBURGH            PA                   15222.0       101   \n",
       "1   PITTSBURGH            PA                   15222.0       101   \n",
       "2   PITTSBURGH            PA     UNIT 401      15222.0       101   \n",
       "3   PITTSBURGH            PA     UNIT 403      15222.0       101   \n",
       "4   PITTSBURGH            PA     UNIT 404      15222.0       101   \n",
       "\n",
       "                 MUNIDESC  ...  HALFBATHS HEATINGCOOLING  \\\n",
       "0  1st Ward  - PITTSBURGH  ...        NaN            NaN   \n",
       "1  1st Ward  - PITTSBURGH  ...        NaN            NaN   \n",
       "2  1st Ward  - PITTSBURGH  ...        0.0              B   \n",
       "3  1st Ward  - PITTSBURGH  ...        0.0              B   \n",
       "4  1st Ward  - PITTSBURGH  ...        0.0              B   \n",
       "\n",
       "     HEATINGCOOLINGDESC FIREPLACES BSMTGARAGE FINISHEDLIVINGAREA CARDNUMBER  \\\n",
       "0                   NaN        NaN        NaN                NaN        NaN   \n",
       "1                   NaN        NaN        NaN                NaN        NaN   \n",
       "2  Central Heat with AC        NaN        NaN             1520.0        1.0   \n",
       "3  Central Heat with AC        NaN        NaN             1858.0        1.0   \n",
       "4  Central Heat with AC        NaN        NaN             1567.0        1.0   \n",
       "\n",
       "  ALT_ID TAXYEAR   ASOFDATE  \n",
       "0    NaN    2020  01-APR-20  \n",
       "1    NaN    2020  01-APR-20  \n",
       "2    NaN    2020  01-APR-20  \n",
       "3    NaN    2020  01-APR-20  \n",
       "4    NaN    2020  01-APR-20  \n",
       "\n",
       "[5 rows x 86 columns]"
      ]
     },
     "execution_count": 3,
     "metadata": {},
     "output_type": "execute_result"
    }
   ],
   "source": [
    "pa.head()"
   ]
  },
  {
   "cell_type": "code",
   "execution_count": 4,
   "metadata": {},
   "outputs": [],
   "source": [
    "def one_hot_encode(df, column):\n",
    "    \"\"\"Implement one hot encoding on the DataFrame for the given column\"\"\"\n",
    "    df = pd.concat([df, pd.get_dummies(df[column],prefix=column, dtype=int, dummy_na=True)], axis=1)\n",
    "    df.drop([column],axis=1, inplace=True)\n",
    "    return df\n",
    "# NOTE: dummy_na=True treats NAN as a seperate Category."
   ]
  },
  {
   "cell_type": "markdown",
   "metadata": {},
   "source": [
    "# Drop SALEPRICE lower than 20,000 dollars\n",
    "We only want to make predictions for existing SalesPrices that are a reasonable price."
   ]
  },
  {
   "cell_type": "code",
   "execution_count": 5,
   "metadata": {},
   "outputs": [
    {
     "name": "stdout",
     "output_type": "stream",
     "text": [
      "Are there nulls in the SALEPRICE column?  False\n",
      "The shape of the dataset is:  (324493, 86)\n"
     ]
    }
   ],
   "source": [
    "pa = pa[pa['SALEPRICE'] > 20000]\n",
    "\n",
    "# Verify nans are dropped.\n",
    "print(\"Are there nulls in the SALEPRICE column? \", pa['SALEPRICE'].isnull().any())\n",
    "print(\"The shape of the dataset is: \", pa.shape)"
   ]
  },
  {
   "cell_type": "markdown",
   "metadata": {},
   "source": [
    "# Grab Valid Sales\n",
    "The SALECODE column tells us which Sales are valid, and which aren't. We want to grab the valid sales."
   ]
  },
  {
   "cell_type": "code",
   "execution_count": 6,
   "metadata": {},
   "outputs": [
    {
     "name": "stdout",
     "output_type": "stream",
     "text": [
      "The shape of the dataset is:  (166763, 86)\n"
     ]
    }
   ],
   "source": [
    "# Lowercase columns\n",
    "pa['SALECODE'] = pa['SALECODE'].str.lower()\n",
    "\n",
    "# Grab valid sales only\n",
    "pa = pa[pa['SALECODE'].isin(['0', 'u', 'ur'])]\n",
    "\n",
    "print(\"The shape of the dataset is: \", pa.shape)"
   ]
  },
  {
   "cell_type": "markdown",
   "metadata": {},
   "source": [
    "# Drop SALECODE and SALEDESC"
   ]
  },
  {
   "cell_type": "code",
   "execution_count": 7,
   "metadata": {},
   "outputs": [],
   "source": [
    "pa = pa.drop(['SALEDESC'], axis=1)\n",
    "pa = pa.drop(['SALECODE'], axis=1)"
   ]
  },
  {
   "cell_type": "markdown",
   "metadata": {},
   "source": [
    "# Drop TAXCODE and one-hot-encode TAXDESC"
   ]
  },
  {
   "cell_type": "code",
   "execution_count": 8,
   "metadata": {},
   "outputs": [],
   "source": [
    "pa = pa.drop(['TAXCODE'], axis=1)\n",
    "pa = one_hot_encode(pa, 'TAXDESC')"
   ]
  },
  {
   "cell_type": "markdown",
   "metadata": {},
   "source": [
    "# Drop TAXSUBCODE\n",
    "Very minimal variance. Mostly `nan`"
   ]
  },
  {
   "cell_type": "code",
   "execution_count": 9,
   "metadata": {},
   "outputs": [],
   "source": [
    "pa = pa.drop(['TAXSUBCODE'], axis=1)\n",
    "pa = pa.drop(['TAXSUBCODE_DESC'], axis=1)"
   ]
  },
  {
   "cell_type": "markdown",
   "metadata": {},
   "source": [
    "# One Hot Encode HOMESTEADFLAG\n",
    "Either `HOM` or `nan`. Calling one_hot_encode will create a binary column."
   ]
  },
  {
   "cell_type": "code",
   "execution_count": 10,
   "metadata": {},
   "outputs": [],
   "source": [
    "pa = one_hot_encode(pa, 'HOMESTEADFLAG')"
   ]
  },
  {
   "cell_type": "markdown",
   "metadata": {},
   "source": [
    "# One Hot Encode CLEANGREEN\n",
    "Either `Y` or `nan`. Calling one_hot_encode will create a binary column"
   ]
  },
  {
   "cell_type": "code",
   "execution_count": 11,
   "metadata": {},
   "outputs": [],
   "source": [
    "pa = one_hot_encode(pa, 'CLEANGREEN')"
   ]
  },
  {
   "cell_type": "markdown",
   "metadata": {},
   "source": [
    "# Drop FARMSTEADFLAG\n",
    "Very minimal variance. Mostly `nan` (Only 6 instances of `FRM`)"
   ]
  },
  {
   "cell_type": "code",
   "execution_count": 12,
   "metadata": {},
   "outputs": [],
   "source": [
    "pa = pa.drop(['FARMSTEADFLAG'], axis=1)"
   ]
  },
  {
   "cell_type": "markdown",
   "metadata": {},
   "source": [
    "# One Hot Encode ABATEMENTFLAG\n",
    "Either `Y` or `nan`"
   ]
  },
  {
   "cell_type": "code",
   "execution_count": 13,
   "metadata": {},
   "outputs": [],
   "source": [
    "pa = one_hot_encode(pa, 'ABATEMENTFLAG')"
   ]
  },
  {
   "cell_type": "markdown",
   "metadata": {},
   "source": [
    "# Binning PREVSALEPRICE\n",
    "Bin PREVSALEPRICES. `NAN` columns won't be put into a bin (ie. all columns for PREVSALEPRICE will be 0)"
   ]
  },
  {
   "cell_type": "code",
   "execution_count": 14,
   "metadata": {
    "scrolled": true
   },
   "outputs": [
    {
     "name": "stdout",
     "output_type": "stream",
     "text": [
      "There are 61487 null previous Sale Prices\n"
     ]
    }
   ],
   "source": [
    "print(f\"There are {pa['PREVSALEPRICE'].isna().sum()} null previous Sale Prices\")"
   ]
  },
  {
   "cell_type": "code",
   "execution_count": 15,
   "metadata": {},
   "outputs": [],
   "source": [
    "pa['PREVSALEPRICE'] = pd.qcut(pa['PREVSALEPRICE'], 15, duplicates='drop')\n",
    "pa = one_hot_encode(pa, 'PREVSALEPRICE')"
   ]
  },
  {
   "cell_type": "markdown",
   "metadata": {},
   "source": [
    "# Binning PREVSALEPRICE2\n",
    "Bin PREVSALEPRICES2. `NAN` columns won't be put into a bin (ie. all columns for PREVSALEPRICE2 will be 0)"
   ]
  },
  {
   "cell_type": "code",
   "execution_count": 16,
   "metadata": {},
   "outputs": [],
   "source": [
    "pa['PREVSALEPRICE2'] = pd.qcut(pa['PREVSALEPRICE2'], 15, duplicates='drop')\n",
    "pa = one_hot_encode(pa, 'PREVSALEPRICE2')"
   ]
  },
  {
   "cell_type": "markdown",
   "metadata": {},
   "source": [
    "# We will keep COUNTYBUILDING AS IS\n",
    "This is a continuous feature that is clean and has no NULLs"
   ]
  },
  {
   "cell_type": "code",
   "execution_count": 17,
   "metadata": {},
   "outputs": [
    {
     "data": {
      "text/plain": [
       "False"
      ]
     },
     "execution_count": 17,
     "metadata": {},
     "output_type": "execute_result"
    }
   ],
   "source": [
    "pa['COUNTYBUILDING'].isnull().any()"
   ]
  },
  {
   "cell_type": "markdown",
   "metadata": {},
   "source": [
    "# We will keep COUNTYLAND AS IS\n",
    "This is a continuous feature that is clean and has no NULLs"
   ]
  },
  {
   "cell_type": "code",
   "execution_count": 18,
   "metadata": {},
   "outputs": [
    {
     "data": {
      "text/plain": [
       "False"
      ]
     },
     "execution_count": 18,
     "metadata": {},
     "output_type": "execute_result"
    }
   ],
   "source": [
    "pa['COUNTYLAND'].isnull().any()"
   ]
  },
  {
   "cell_type": "markdown",
   "metadata": {},
   "source": [
    "# We will keep COUNTYTOTAL AS IS\n",
    "This is a continuous feature that is clean and has no NULLs"
   ]
  },
  {
   "cell_type": "code",
   "execution_count": 19,
   "metadata": {},
   "outputs": [
    {
     "data": {
      "text/plain": [
       "False"
      ]
     },
     "execution_count": 19,
     "metadata": {},
     "output_type": "execute_result"
    }
   ],
   "source": [
    "pa['COUNTYTOTAL'].isnull().any()"
   ]
  },
  {
   "cell_type": "markdown",
   "metadata": {},
   "source": [
    "# Drop COUNTYEXEMPTBLDG\n",
    "Almost all 0. "
   ]
  },
  {
   "cell_type": "code",
   "execution_count": 20,
   "metadata": {},
   "outputs": [],
   "source": [
    "pa = pa.drop(['COUNTYEXEMPTBLDG'], axis=1)"
   ]
  },
  {
   "cell_type": "markdown",
   "metadata": {},
   "source": [
    "# We will keep LOCALBUILDING as is\n",
    "This is a continuous feature that is clean and has no NULLs"
   ]
  },
  {
   "cell_type": "code",
   "execution_count": 21,
   "metadata": {},
   "outputs": [
    {
     "data": {
      "text/plain": [
       "0"
      ]
     },
     "execution_count": 21,
     "metadata": {},
     "output_type": "execute_result"
    }
   ],
   "source": [
    "pa['LOCALBUILDING'].isna().sum()"
   ]
  },
  {
   "cell_type": "markdown",
   "metadata": {},
   "source": [
    "# We will keep LOCALLAND as is\n",
    "This is a continuous feature that is clean and has no NULLs"
   ]
  },
  {
   "cell_type": "code",
   "execution_count": 22,
   "metadata": {},
   "outputs": [
    {
     "data": {
      "text/plain": [
       "0"
      ]
     },
     "execution_count": 22,
     "metadata": {},
     "output_type": "execute_result"
    }
   ],
   "source": [
    "pa['LOCALLAND'].isna().sum()"
   ]
  },
  {
   "cell_type": "markdown",
   "metadata": {},
   "source": [
    "# We will keep FAIRMARKETBUILDING as is\n",
    "This is a continuous feature that is clean and has no NULLs"
   ]
  },
  {
   "cell_type": "code",
   "execution_count": 23,
   "metadata": {},
   "outputs": [
    {
     "data": {
      "text/plain": [
       "0"
      ]
     },
     "execution_count": 23,
     "metadata": {},
     "output_type": "execute_result"
    }
   ],
   "source": [
    "pa['FAIRMARKETBUILDING'].isna().sum()"
   ]
  },
  {
   "cell_type": "markdown",
   "metadata": {},
   "source": [
    "# We will keep FAIRMARKETLAND as is\n",
    "This is a continuous feature that is clean and has no NULLs"
   ]
  },
  {
   "cell_type": "code",
   "execution_count": 24,
   "metadata": {},
   "outputs": [
    {
     "data": {
      "text/plain": [
       "0"
      ]
     },
     "execution_count": 24,
     "metadata": {},
     "output_type": "execute_result"
    }
   ],
   "source": [
    "pa['FAIRMARKETLAND'].isna().sum()"
   ]
  },
  {
   "cell_type": "markdown",
   "metadata": {},
   "source": [
    "# We will keep FAIRMARKETTOTAL as is\n",
    "This is a continuous feature that is clean and has no NULLs"
   ]
  },
  {
   "cell_type": "code",
   "execution_count": 25,
   "metadata": {},
   "outputs": [
    {
     "data": {
      "text/plain": [
       "0"
      ]
     },
     "execution_count": 25,
     "metadata": {},
     "output_type": "execute_result"
    }
   ],
   "source": [
    "pa['FAIRMARKETTOTAL'].isna().sum()"
   ]
  },
  {
   "cell_type": "markdown",
   "metadata": {},
   "source": [
    "# Drop OWNERCODE and one-hot-encode OWNERDESC"
   ]
  },
  {
   "cell_type": "code",
   "execution_count": 26,
   "metadata": {},
   "outputs": [],
   "source": [
    "pa = pa.drop(['OWNERCODE'], axis=1)\n",
    "pa = one_hot_encode(pa, 'OWNERDESC')"
   ]
  },
  {
   "cell_type": "markdown",
   "metadata": {},
   "source": [
    "# Drop CLASS One Hot Encode CLASS_DESC"
   ]
  },
  {
   "cell_type": "code",
   "execution_count": 27,
   "metadata": {},
   "outputs": [],
   "source": [
    "pa = pa.drop(['CLASS'], axis=1)\n",
    "pa = one_hot_encode(pa, 'CLASSDESC')"
   ]
  },
  {
   "cell_type": "markdown",
   "metadata": {},
   "source": [
    "# Drop STYLE and One Hot Encode STYLEDESC"
   ]
  },
  {
   "cell_type": "code",
   "execution_count": 28,
   "metadata": {},
   "outputs": [],
   "source": [
    "pa = pa.drop(['STYLE'], axis=1)\n",
    "pa = one_hot_encode(pa, 'STYLEDESC')"
   ]
  },
  {
   "cell_type": "markdown",
   "metadata": {},
   "source": [
    "# Clean STORIES\n",
    "* Round to nearest half\n",
    "\n",
    "* Impute nans with average\n",
    "\n",
    "* One Hot Encode as they number of stories is still categorical"
   ]
  },
  {
   "cell_type": "code",
   "execution_count": 29,
   "metadata": {},
   "outputs": [],
   "source": [
    "# Round stories to the nearest half.\n",
    "pa['STORIES'] = round(pa['STORIES'] * 2) / 2\n",
    "\n",
    "# Fill NANs with mean stories.\n",
    "mean_stories = round(pa['STORIES'].mean() * 2) / 2\n",
    "pa['STORIES'] = pa['STORIES'].fillna(value=mean_stories)\n",
    "\n",
    "pa = one_hot_encode(pa, 'STORIES')"
   ]
  },
  {
   "cell_type": "markdown",
   "metadata": {},
   "source": [
    "# Map Year to Reference Year\n",
    "* Additionally set NAN's to avg year"
   ]
  },
  {
   "cell_type": "code",
   "execution_count": 30,
   "metadata": {},
   "outputs": [],
   "source": [
    "pa['YEARBLT'] = 2020 - pa['YEARBLT']\n",
    "pa['YEARBLT'] = pa['YEARBLT'].fillna(round(pa['YEARBLT'].mean()))"
   ]
  },
  {
   "cell_type": "markdown",
   "metadata": {},
   "source": [
    "# Drop EXTERIORFINISH and One Hot Encode EXTFINISH_DESC"
   ]
  },
  {
   "cell_type": "code",
   "execution_count": 31,
   "metadata": {},
   "outputs": [],
   "source": [
    "pa = pa.drop(['EXTERIORFINISH'], axis=1)\n",
    "pa = one_hot_encode(pa, 'EXTFINISH_DESC')"
   ]
  },
  {
   "cell_type": "markdown",
   "metadata": {},
   "source": [
    "# Drop ROOF and One Hot Encode ROOFDESC"
   ]
  },
  {
   "cell_type": "code",
   "execution_count": 32,
   "metadata": {},
   "outputs": [],
   "source": [
    "pa = pa.drop(['ROOF'], axis=1)\n",
    "pa = one_hot_encode(pa, 'ROOFDESC')"
   ]
  },
  {
   "cell_type": "markdown",
   "metadata": {},
   "source": [
    "# Drop BASEMENT and One Hot Encode BASEMENTDESC"
   ]
  },
  {
   "cell_type": "code",
   "execution_count": 33,
   "metadata": {},
   "outputs": [],
   "source": [
    "pa = pa.drop(['BASEMENT'], axis=1)\n",
    "pa = one_hot_encode(pa, 'BASEMENTDESC')"
   ]
  },
  {
   "cell_type": "markdown",
   "metadata": {},
   "source": [
    "# One Hot Encode GRADE"
   ]
  },
  {
   "cell_type": "code",
   "execution_count": 34,
   "metadata": {},
   "outputs": [],
   "source": [
    "pa = pa.drop(['GRADE'], axis=1)\n",
    "pa = one_hot_encode(pa, 'GRADEDESC')"
   ]
  },
  {
   "cell_type": "markdown",
   "metadata": {},
   "source": [
    "# Drop ROOF and One Hot Encode ROOFDESC"
   ]
  },
  {
   "cell_type": "code",
   "execution_count": 35,
   "metadata": {},
   "outputs": [],
   "source": [
    "pa = pa.drop(['CONDITION'], axis=1)\n",
    "pa = one_hot_encode(pa, 'CONDITIONDESC')"
   ]
  },
  {
   "cell_type": "markdown",
   "metadata": {},
   "source": [
    "# One Hot Encode CDU"
   ]
  },
  {
   "cell_type": "code",
   "execution_count": 36,
   "metadata": {},
   "outputs": [],
   "source": [
    "pa = pa.drop(['CDU'], axis=1)\n",
    "pa = one_hot_encode(pa, 'CDUDESC')"
   ]
  },
  {
   "cell_type": "markdown",
   "metadata": {},
   "source": [
    "# TOTALROOMS\n",
    "* Fill NANs with average\n",
    "\n",
    "Keep as is."
   ]
  },
  {
   "cell_type": "code",
   "execution_count": 37,
   "metadata": {},
   "outputs": [],
   "source": [
    "pa['TOTALROOMS'] = pa['TOTALROOMS'].fillna(value=round(pa['TOTALROOMS'].mean())) "
   ]
  },
  {
   "cell_type": "markdown",
   "metadata": {},
   "source": [
    "# BEDROOMS\n",
    "* Fill NANs with average\n",
    "\n",
    "Keep as is."
   ]
  },
  {
   "cell_type": "code",
   "execution_count": 38,
   "metadata": {},
   "outputs": [],
   "source": [
    "pa['BEDROOMS'] = pa['BEDROOMS'].fillna(value=round(pa['BEDROOMS'].mean())) "
   ]
  },
  {
   "cell_type": "markdown",
   "metadata": {},
   "source": [
    "# FULLBATHS\n",
    "* Fill NANs with average\n",
    "\n",
    "Keep as is."
   ]
  },
  {
   "cell_type": "code",
   "execution_count": 39,
   "metadata": {},
   "outputs": [],
   "source": [
    "pa['FULLBATHS'] = pa['FULLBATHS'].fillna(value=round(pa['FULLBATHS'].mean())) "
   ]
  },
  {
   "cell_type": "markdown",
   "metadata": {},
   "source": [
    "# HALFBATHS\n",
    "* Fill NANs with average\n",
    "\n",
    "Keep as is."
   ]
  },
  {
   "cell_type": "code",
   "execution_count": 40,
   "metadata": {},
   "outputs": [],
   "source": [
    "pa['HALFBATHS'] = pa['HALFBATHS'].fillna(value=round(pa['HALFBATHS'].mean())) "
   ]
  },
  {
   "cell_type": "markdown",
   "metadata": {},
   "source": [
    "# One Hot Encode HEATINGCOOLING"
   ]
  },
  {
   "cell_type": "code",
   "execution_count": 41,
   "metadata": {},
   "outputs": [],
   "source": [
    "pa = pa.drop(['HEATINGCOOLING'], axis=1)\n",
    "pa = one_hot_encode(pa, 'HEATINGCOOLINGDESC')"
   ]
  },
  {
   "cell_type": "markdown",
   "metadata": {},
   "source": [
    "# FIREPLACES\n",
    "* Fill NANs with average\n",
    "\n",
    "Keep as is."
   ]
  },
  {
   "cell_type": "code",
   "execution_count": 42,
   "metadata": {},
   "outputs": [],
   "source": [
    "pa['FIREPLACES'] = pa['FIREPLACES'].fillna(value=round(pa['FIREPLACES'].mean())) "
   ]
  },
  {
   "cell_type": "markdown",
   "metadata": {},
   "source": [
    "# BSMTGARAGE\n",
    "* Fill NANs with average\n",
    "\n",
    "Keep as is."
   ]
  },
  {
   "cell_type": "code",
   "execution_count": 43,
   "metadata": {},
   "outputs": [],
   "source": [
    "pa['BSMTGARAGE'] = pa['BSMTGARAGE'].fillna(value=round(pa['BSMTGARAGE'].mean())) "
   ]
  },
  {
   "cell_type": "markdown",
   "metadata": {},
   "source": [
    "# FINISHEDLIVINGAREA\n",
    "* Fill NANs with average.\n",
    "\n",
    "Keep as is."
   ]
  },
  {
   "cell_type": "code",
   "execution_count": 44,
   "metadata": {},
   "outputs": [],
   "source": [
    "pa['FINISHEDLIVINGAREA'] = pa['FINISHEDLIVINGAREA'].fillna(value=round(pa['FINISHEDLIVINGAREA'].mean())) "
   ]
  },
  {
   "cell_type": "markdown",
   "metadata": {},
   "source": [
    "# Dropping MUNIDESC and MUNICODE\n",
    "These values seem to have limited value (maybe?) Dropping for now."
   ]
  },
  {
   "cell_type": "code",
   "execution_count": 45,
   "metadata": {},
   "outputs": [],
   "source": [
    "pa = pa.drop(['MUNIDESC'], axis=1)\n",
    "pa = pa.drop(['MUNICODE'], axis=1)"
   ]
  },
  {
   "cell_type": "markdown",
   "metadata": {},
   "source": [
    "# Drop SCHOOLCODE\n",
    "\n",
    "School code seems like it would be predictive, but it's too large for us to label as categorical. Not sure what to do here. Dropping for now."
   ]
  },
  {
   "cell_type": "code",
   "execution_count": 46,
   "metadata": {},
   "outputs": [],
   "source": [
    "pa = pa.drop(['SCHOOLCODE'], axis=1)\n",
    "pa = pa.drop(['SCHOOLDESC'], axis=1)"
   ]
  },
  {
   "cell_type": "markdown",
   "metadata": {},
   "source": [
    "# DROP NEIGHCODE\n",
    "Same sentiment as SCHOOLCODE. Seems valuable, but not sure how to effectively capture the info."
   ]
  },
  {
   "cell_type": "code",
   "execution_count": 47,
   "metadata": {},
   "outputs": [],
   "source": [
    "pa = pa.drop(['NEIGHCODE'], axis=1)\n",
    "pa = pa.drop(['NEIGHDESC'], axis=1)"
   ]
  },
  {
   "cell_type": "markdown",
   "metadata": {},
   "source": [
    "# LOTAREA\n",
    "* Fill NANs with average\n",
    "\n",
    "Keep as is."
   ]
  },
  {
   "cell_type": "code",
   "execution_count": 48,
   "metadata": {},
   "outputs": [],
   "source": [
    "pa['LOTAREA'] = pa['LOTAREA'].fillna(value=round(pa['LOTAREA'].mean())) "
   ]
  },
  {
   "cell_type": "markdown",
   "metadata": {},
   "source": [
    "# Drop USECODE and USEDESC\n",
    "These are more specific than Class. We'll drop them for now as they add a lot of dimensionality."
   ]
  },
  {
   "cell_type": "code",
   "execution_count": 49,
   "metadata": {},
   "outputs": [],
   "source": [
    "pa = pa.drop(['USECODE'], axis=1)\n",
    "pa = pa.drop(['USEDESC'], axis=1)"
   ]
  },
  {
   "cell_type": "markdown",
   "metadata": {},
   "source": [
    "# Drop RECORDDATE and SALEDATE \n",
    "Dropping for now... We may want to create a reference date that we can map each date to."
   ]
  },
  {
   "cell_type": "code",
   "execution_count": 50,
   "metadata": {},
   "outputs": [],
   "source": [
    "pa = pa.drop(['RECORDDATE'], axis=1)\n",
    "pa = pa.drop(['SALEDATE'], axis=1)"
   ]
  },
  {
   "cell_type": "markdown",
   "metadata": {},
   "source": [
    "# Dropping Unneeded Columns\n"
   ]
  },
  {
   "cell_type": "code",
   "execution_count": 51,
   "metadata": {},
   "outputs": [],
   "source": [
    "pa = pa.drop(['DEEDBOOK', 'DEEDPAGE'], axis=1) # DEED\n",
    "pa = pa.drop(['CHANGENOTICEADDRESS1', 'CHANGENOTICEADDRESS2', 'CHANGENOTICEADDRESS3', 'CHANGENOTICEADDRESS4'], axis=1) # ADDRESS\n",
    "pa = pa.drop(['CARDNUMBER', 'ALT_ID', 'ASOFDATE', 'TAXYEAR'], axis=1) # EXTRA\n",
    "pa = pa.drop(['LEGAL1', 'LEGAL2', 'LEGAL3'], axis=1) # LEGAL\n",
    "pa = pa.drop(['PROPERTYUNIT', 'PROPERTYSTATE', 'PROPERTYADDRESS', 'PROPERTYHOUSENUM', 'PARID'], axis=1) # LEGAL\n",
    "pa = pa.drop(['PROPERTYFRACTION', 'PROPERTYCITY'], axis=1)\n",
    "pa = pa.drop(['PREVSALEDATE', 'PREVSALEDATE2'], axis=1)"
   ]
  },
  {
   "cell_type": "code",
   "execution_count": 52,
   "metadata": {},
   "outputs": [
    {
     "data": {
      "text/plain": [
       "['PROPERTYZIP',\n",
       " 'LOTAREA',\n",
       " 'SALEPRICE',\n",
       " 'COUNTYBUILDING',\n",
       " 'COUNTYLAND',\n",
       " 'COUNTYTOTAL',\n",
       " 'LOCALBUILDING',\n",
       " 'LOCALLAND',\n",
       " 'LOCALTOTAL',\n",
       " 'FAIRMARKETBUILDING',\n",
       " 'FAIRMARKETLAND',\n",
       " 'FAIRMARKETTOTAL',\n",
       " 'YEARBLT',\n",
       " 'TOTALROOMS',\n",
       " 'BEDROOMS',\n",
       " 'FULLBATHS',\n",
       " 'HALFBATHS',\n",
       " 'FIREPLACES',\n",
       " 'BSMTGARAGE',\n",
       " 'FINISHEDLIVINGAREA',\n",
       " 'TAXDESC_10 - Exempt',\n",
       " 'TAXDESC_12 - Public Utility Realty Tax - PURTA',\n",
       " 'TAXDESC_20 - Taxable',\n",
       " 'TAXDESC_nan',\n",
       " 'HOMESTEADFLAG_HOM',\n",
       " 'HOMESTEADFLAG_nan',\n",
       " 'CLEANGREEN_Y',\n",
       " 'CLEANGREEN_nan',\n",
       " 'ABATEMENTFLAG_Y',\n",
       " 'ABATEMENTFLAG_nan',\n",
       " 'PREVSALEPRICE_(-0.001, 1.0]',\n",
       " 'PREVSALEPRICE_(1.0, 17000.0]',\n",
       " 'PREVSALEPRICE_(17000.0, 36000.0]',\n",
       " 'PREVSALEPRICE_(36000.0, 51456.0]',\n",
       " 'PREVSALEPRICE_(51456.0, 66500.0]',\n",
       " 'PREVSALEPRICE_(66500.0, 83000.0]',\n",
       " 'PREVSALEPRICE_(83000.0, 105000.0]',\n",
       " 'PREVSALEPRICE_(105000.0, 131700.0]',\n",
       " 'PREVSALEPRICE_(131700.0, 170000.0]',\n",
       " 'PREVSALEPRICE_(170000.0, 255000.0]',\n",
       " 'PREVSALEPRICE_(255000.0, 55000000.0]',\n",
       " 'PREVSALEPRICE_nan',\n",
       " 'PREVSALEPRICE2_(-0.001, 1.0]',\n",
       " 'PREVSALEPRICE2_(1.0, 8367.6]',\n",
       " 'PREVSALEPRICE2_(8367.6, 30000.0]',\n",
       " 'PREVSALEPRICE2_(30000.0, 47000.0]',\n",
       " 'PREVSALEPRICE2_(47000.0, 62000.0]',\n",
       " 'PREVSALEPRICE2_(62000.0, 78000.0]',\n",
       " 'PREVSALEPRICE2_(78000.0, 95000.0]',\n",
       " 'PREVSALEPRICE2_(95000.0, 123000.0]',\n",
       " 'PREVSALEPRICE2_(123000.0, 159900.0]',\n",
       " 'PREVSALEPRICE2_(159900.0, 239900.0]',\n",
       " 'PREVSALEPRICE2_(239900.0, 51500000.0]',\n",
       " 'PREVSALEPRICE2_nan',\n",
       " 'OWNERDESC_CORPORATION',\n",
       " 'OWNERDESC_CORPORATION-RAILROAD',\n",
       " 'OWNERDESC_REGULAR',\n",
       " 'OWNERDESC_REGULAR-ESTATE',\n",
       " 'OWNERDESC_REGULAR-ETAL',\n",
       " 'OWNERDESC_REGULAR-ETUX OR ET VIR',\n",
       " 'OWNERDESC_nan',\n",
       " 'CLASSDESC_AGRICULTURAL',\n",
       " 'CLASSDESC_COMMERCIAL',\n",
       " 'CLASSDESC_GOVERNMENT',\n",
       " 'CLASSDESC_INDUSTRIAL',\n",
       " 'CLASSDESC_OTHER',\n",
       " 'CLASSDESC_RESIDENTIAL',\n",
       " 'CLASSDESC_UTILITIES',\n",
       " 'CLASSDESC_nan',\n",
       " 'STYLEDESC_BI-LEVEL',\n",
       " 'STYLEDESC_BUNGALOW',\n",
       " 'STYLEDESC_CAPE COD',\n",
       " 'STYLEDESC_COLONIAL',\n",
       " 'STYLEDESC_CONDO',\n",
       " 'STYLEDESC_CONDO CONV',\n",
       " 'STYLEDESC_CONDO END',\n",
       " 'STYLEDESC_CONDO GRDN',\n",
       " 'STYLEDESC_CONDO HR',\n",
       " 'STYLEDESC_CONDO INT',\n",
       " 'STYLEDESC_CONDO PAT/CARG',\n",
       " 'STYLEDESC_CONDO SINGLE',\n",
       " 'STYLEDESC_CONTEMPORARY',\n",
       " 'STYLEDESC_CONVENTIONAL',\n",
       " 'STYLEDESC_LOG CABIN',\n",
       " 'STYLEDESC_MANUFACTURED',\n",
       " 'STYLEDESC_MODULAR HOME',\n",
       " 'STYLEDESC_MULTI-FAMILY',\n",
       " 'STYLEDESC_OLD STYLE',\n",
       " 'STYLEDESC_OTHER',\n",
       " 'STYLEDESC_RANCH',\n",
       " 'STYLEDESC_ROW END',\n",
       " 'STYLEDESC_ROW INTERIOR',\n",
       " 'STYLEDESC_SEMI DETACHED',\n",
       " 'STYLEDESC_SPLIT LEVEL',\n",
       " 'STYLEDESC_TOWNHOUSE',\n",
       " 'STYLEDESC_TUDOR',\n",
       " 'STYLEDESC_VICTORIAN',\n",
       " 'STYLEDESC_nan',\n",
       " 'STORIES_1.0',\n",
       " 'STORIES_1.5',\n",
       " 'STORIES_2.0',\n",
       " 'STORIES_2.5',\n",
       " 'STORIES_3.0',\n",
       " 'STORIES_4.0',\n",
       " 'STORIES_nan',\n",
       " 'EXTFINISH_DESC_Brick',\n",
       " 'EXTFINISH_DESC_Concrete',\n",
       " 'EXTFINISH_DESC_Concrete Block',\n",
       " 'EXTFINISH_DESC_Frame',\n",
       " 'EXTFINISH_DESC_Log',\n",
       " 'EXTFINISH_DESC_Masonry FRAME',\n",
       " 'EXTFINISH_DESC_Stone',\n",
       " 'EXTFINISH_DESC_Stucco',\n",
       " 'EXTFINISH_DESC_nan',\n",
       " 'ROOFDESC_METAL',\n",
       " 'ROOFDESC_ROLL',\n",
       " 'ROOFDESC_RUBBER',\n",
       " 'ROOFDESC_SHINGLE',\n",
       " 'ROOFDESC_SLATE',\n",
       " 'ROOFDESC_TILE',\n",
       " 'ROOFDESC_nan',\n",
       " 'BASEMENTDESC_Crawl',\n",
       " 'BASEMENTDESC_Full',\n",
       " 'BASEMENTDESC_None',\n",
       " 'BASEMENTDESC_Part',\n",
       " 'BASEMENTDESC_Slab/Piers',\n",
       " 'BASEMENTDESC_nan',\n",
       " 'GRADEDESC_AVERAGE',\n",
       " 'GRADEDESC_AVERAGE +',\n",
       " 'GRADEDESC_AVERAGE -',\n",
       " 'GRADEDESC_BELOW AVERAGE',\n",
       " 'GRADEDESC_BELOW AVERAGE +',\n",
       " 'GRADEDESC_BELOW AVERAGE -',\n",
       " 'GRADEDESC_EXCELLENT',\n",
       " 'GRADEDESC_EXCELLENT +',\n",
       " 'GRADEDESC_EXCELLENT -',\n",
       " 'GRADEDESC_GOOD',\n",
       " 'GRADEDESC_GOOD +',\n",
       " 'GRADEDESC_GOOD -',\n",
       " 'GRADEDESC_HIGHEST COST -',\n",
       " 'GRADEDESC_Highest Cost',\n",
       " 'GRADEDESC_Highest Cost +',\n",
       " 'GRADEDESC_POOR',\n",
       " 'GRADEDESC_POOR +',\n",
       " 'GRADEDESC_POOR -',\n",
       " 'GRADEDESC_VERY GOOD',\n",
       " 'GRADEDESC_VERY GOOD +',\n",
       " 'GRADEDESC_VERY GOOD -',\n",
       " 'GRADEDESC_nan',\n",
       " 'CONDITIONDESC_AVERAGE',\n",
       " 'CONDITIONDESC_EXCELLENT',\n",
       " 'CONDITIONDESC_FAIR',\n",
       " 'CONDITIONDESC_GOOD',\n",
       " 'CONDITIONDESC_POOR',\n",
       " 'CONDITIONDESC_UNSOUND',\n",
       " 'CONDITIONDESC_VERY GOOD',\n",
       " 'CONDITIONDESC_VERY POOR',\n",
       " 'CONDITIONDESC_nan',\n",
       " 'CDUDESC_AVERAGE',\n",
       " 'CDUDESC_EXCELLENT',\n",
       " 'CDUDESC_FAIR',\n",
       " 'CDUDESC_GOOD',\n",
       " 'CDUDESC_POOR',\n",
       " 'CDUDESC_UNSOUND',\n",
       " 'CDUDESC_VERY GOOD',\n",
       " 'CDUDESC_VERY POOR',\n",
       " 'CDUDESC_nan',\n",
       " 'HEATINGCOOLINGDESC_Central Heat',\n",
       " 'HEATINGCOOLINGDESC_Central Heat with AC',\n",
       " 'HEATINGCOOLINGDESC_Electric',\n",
       " 'HEATINGCOOLINGDESC_Electric Heat with AC',\n",
       " 'HEATINGCOOLINGDESC_Floor Furnace',\n",
       " 'HEATINGCOOLINGDESC_Floor Furnace with AC',\n",
       " 'HEATINGCOOLINGDESC_Heat Pump',\n",
       " 'HEATINGCOOLINGDESC_Heat Pump with AC',\n",
       " 'HEATINGCOOLINGDESC_No Heat but with AC',\n",
       " 'HEATINGCOOLINGDESC_None',\n",
       " 'HEATINGCOOLINGDESC_Other',\n",
       " 'HEATINGCOOLINGDESC_Unit Heat',\n",
       " 'HEATINGCOOLINGDESC_Unit Heat with AC',\n",
       " 'HEATINGCOOLINGDESC_Wall Furnace',\n",
       " 'HEATINGCOOLINGDESC_Wall Furnace with AC',\n",
       " 'HEATINGCOOLINGDESC_nan']"
      ]
     },
     "execution_count": 52,
     "metadata": {},
     "output_type": "execute_result"
    }
   ],
   "source": [
    "pa.columns.tolist()"
   ]
  },
  {
   "cell_type": "code",
   "execution_count": 53,
   "metadata": {},
   "outputs": [],
   "source": [
    "pa.to_csv(\"preprocess.csv\", index=False)"
   ]
  },
  {
   "cell_type": "code",
   "execution_count": 62,
   "metadata": {},
   "outputs": [
    {
     "data": {
      "text/plain": [
       "15237.0    7235\n",
       "15108.0    6169\n",
       "15235.0    6017\n",
       "15102.0    5270\n",
       "15236.0    4885\n",
       "           ... \n",
       "16229.0       5\n",
       "15083.0       4\n",
       "15089.0       2\n",
       "16056.0       1\n",
       "15012.0       1\n",
       "Name: PROPERTYZIP, Length: 117, dtype: int64"
      ]
     },
     "execution_count": 62,
     "metadata": {},
     "output_type": "execute_result"
    }
   ],
   "source": [
    "pa['PROPERTYZIP'].value_counts()"
   ]
  }
 ],
 "metadata": {
  "kernelspec": {
   "display_name": "Python 3",
   "language": "python",
   "name": "python3"
  },
  "language_info": {
   "codemirror_mode": {
    "name": "ipython",
    "version": 3
   },
   "file_extension": ".py",
   "mimetype": "text/x-python",
   "name": "python",
   "nbconvert_exporter": "python",
   "pygments_lexer": "ipython3",
   "version": "3.7.6"
  }
 },
 "nbformat": 4,
 "nbformat_minor": 4
}
