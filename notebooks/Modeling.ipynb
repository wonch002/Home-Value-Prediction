{
 "cells": [
  {
   "cell_type": "markdown",
   "metadata": {},
   "source": [
    "# Modeling\n",
    "\n",
    "Now that we have explored our data, and cleaned it up into an acceptable format, we are ready to run some modeling techniques on it. We will begin by building multiple generic models on the data set to see how well it performs. After this, we will build a Neural Network to see if we can improve the performance from the baseline models."
   ]
  },
  {
   "cell_type": "code",
   "execution_count": 11,
   "metadata": {},
   "outputs": [],
   "source": [
    "#Import Libraries\n",
    "import numpy as np\n",
    "import pandas as pd\n",
    "pd.set_option('display.max_columns', None)\n",
    "import matplotlib.pyplot as plt"
   ]
  },
  {
   "cell_type": "markdown",
   "metadata": {},
   "source": [
    "### Loading Dataset\n",
    "\n",
    "This dataset is already cleaned up and preprocessed. It is expected that this dataset has the following columns:\n",
    "* SALEPRICE\n",
    "* PROPERTYZIP\n",
    "\n",
    "> NOTE/TODO: Currently, we don't do anything with the PROPERTYZIP. We plan to build a model for each zipcode, but that is pending our preliminary results (to see if we need to even attempt such a thing)."
   ]
  },
  {
   "cell_type": "code",
   "execution_count": 12,
   "metadata": {},
   "outputs": [],
   "source": [
    "# Loading Data\n",
    "data = pd.read_csv('output_total_df.csv')\n",
    "\n",
    "# Renaming columns to not include brackets, spaces, or commas\n",
    "column_mapping = {}\n",
    "for col in list(data.columns):\n",
    "\n",
    "    new_col = col.replace(']', ')')\n",
    "    new_col = new_col.replace('[', '(')\n",
    "    new_col = new_col.replace(', ', '-')\n",
    "    new_col = new_col.replace(' ', '')\n",
    "    column_mapping[col] = new_col\n",
    "\n",
    "data = data.rename(columns=column_mapping)\n",
    "\n",
    "# Drop Nulls\n",
    "data = data.dropna()"
   ]
  },
  {
   "cell_type": "code",
   "execution_count": 13,
   "metadata": {},
   "outputs": [
    {
     "data": {
      "text/html": [
       "<div>\n",
       "<style scoped>\n",
       "    .dataframe tbody tr th:only-of-type {\n",
       "        vertical-align: middle;\n",
       "    }\n",
       "\n",
       "    .dataframe tbody tr th {\n",
       "        vertical-align: top;\n",
       "    }\n",
       "\n",
       "    .dataframe thead th {\n",
       "        text-align: right;\n",
       "    }\n",
       "</style>\n",
       "<table border=\"1\" class=\"dataframe\">\n",
       "  <thead>\n",
       "    <tr style=\"text-align: right;\">\n",
       "      <th></th>\n",
       "      <th>Unnamed:0</th>\n",
       "      <th>STYLE</th>\n",
       "      <th>ROOF</th>\n",
       "      <th>EXTFINISH</th>\n",
       "      <th>BASEMENT</th>\n",
       "      <th>STORIES</th>\n",
       "      <th>TOTALROOMS</th>\n",
       "      <th>BEDROOMS</th>\n",
       "      <th>FULLBATHS</th>\n",
       "      <th>HALFBATHS</th>\n",
       "      <th>FINISHEDLIVINGAREA</th>\n",
       "      <th>ZIPCODE</th>\n",
       "      <th>YEARSOLD</th>\n",
       "      <th>Condition</th>\n",
       "      <th>GRADE</th>\n",
       "      <th>CDU</th>\n",
       "      <th>LOTAREA</th>\n",
       "      <th>COUNTYTOTAL</th>\n",
       "      <th>COUNTYBUILDING</th>\n",
       "      <th>COUNTYLAND</th>\n",
       "      <th>SALEPRICE</th>\n",
       "    </tr>\n",
       "  </thead>\n",
       "  <tbody>\n",
       "    <tr>\n",
       "      <th>0</th>\n",
       "      <td>2</td>\n",
       "      <td>24.0</td>\n",
       "      <td>2.0</td>\n",
       "      <td>6.0</td>\n",
       "      <td>5.0</td>\n",
       "      <td>-1.264172</td>\n",
       "      <td>-2.140282</td>\n",
       "      <td>-1.237946</td>\n",
       "      <td>0.782665</td>\n",
       "      <td>-0.947308</td>\n",
       "      <td>-0.245785</td>\n",
       "      <td>95.0</td>\n",
       "      <td>-1.942389</td>\n",
       "      <td>0.012626</td>\n",
       "      <td>-4.275111</td>\n",
       "      <td>4.0</td>\n",
       "      <td>-0.295716</td>\n",
       "      <td>1.875418</td>\n",
       "      <td>2.771835</td>\n",
       "      <td>-1.2102</td>\n",
       "      <td>525000.0</td>\n",
       "    </tr>\n",
       "    <tr>\n",
       "      <th>1</th>\n",
       "      <td>11</td>\n",
       "      <td>24.0</td>\n",
       "      <td>2.0</td>\n",
       "      <td>6.0</td>\n",
       "      <td>5.0</td>\n",
       "      <td>-1.264172</td>\n",
       "      <td>-2.140282</td>\n",
       "      <td>-2.394149</td>\n",
       "      <td>-0.763327</td>\n",
       "      <td>0.796003</td>\n",
       "      <td>-0.529069</td>\n",
       "      <td>95.0</td>\n",
       "      <td>-1.942389</td>\n",
       "      <td>0.012626</td>\n",
       "      <td>-4.275111</td>\n",
       "      <td>4.0</td>\n",
       "      <td>-0.295716</td>\n",
       "      <td>1.661966</td>\n",
       "      <td>2.505806</td>\n",
       "      <td>-1.2102</td>\n",
       "      <td>394000.0</td>\n",
       "    </tr>\n",
       "    <tr>\n",
       "      <th>2</th>\n",
       "      <td>70</td>\n",
       "      <td>24.0</td>\n",
       "      <td>2.0</td>\n",
       "      <td>6.0</td>\n",
       "      <td>5.0</td>\n",
       "      <td>-1.264172</td>\n",
       "      <td>-0.934785</td>\n",
       "      <td>-0.081743</td>\n",
       "      <td>0.782665</td>\n",
       "      <td>-0.947308</td>\n",
       "      <td>0.402313</td>\n",
       "      <td>95.0</td>\n",
       "      <td>-1.942389</td>\n",
       "      <td>0.012626</td>\n",
       "      <td>-4.275111</td>\n",
       "      <td>4.0</td>\n",
       "      <td>-0.295716</td>\n",
       "      <td>3.357076</td>\n",
       "      <td>4.618456</td>\n",
       "      <td>-1.2102</td>\n",
       "      <td>355900.0</td>\n",
       "    </tr>\n",
       "    <tr>\n",
       "      <th>3</th>\n",
       "      <td>72</td>\n",
       "      <td>24.0</td>\n",
       "      <td>2.0</td>\n",
       "      <td>6.0</td>\n",
       "      <td>5.0</td>\n",
       "      <td>-1.264172</td>\n",
       "      <td>-1.537534</td>\n",
       "      <td>-1.237946</td>\n",
       "      <td>-0.763327</td>\n",
       "      <td>0.796003</td>\n",
       "      <td>-0.364626</td>\n",
       "      <td>95.0</td>\n",
       "      <td>-1.942389</td>\n",
       "      <td>0.012626</td>\n",
       "      <td>-4.275111</td>\n",
       "      <td>4.0</td>\n",
       "      <td>-0.295716</td>\n",
       "      <td>1.775422</td>\n",
       "      <td>2.647209</td>\n",
       "      <td>-1.2102</td>\n",
       "      <td>333325.0</td>\n",
       "    </tr>\n",
       "    <tr>\n",
       "      <th>4</th>\n",
       "      <td>74</td>\n",
       "      <td>24.0</td>\n",
       "      <td>2.0</td>\n",
       "      <td>6.0</td>\n",
       "      <td>5.0</td>\n",
       "      <td>-1.264172</td>\n",
       "      <td>-1.537534</td>\n",
       "      <td>-1.237946</td>\n",
       "      <td>0.782665</td>\n",
       "      <td>-0.947308</td>\n",
       "      <td>-0.342516</td>\n",
       "      <td>95.0</td>\n",
       "      <td>-1.942389</td>\n",
       "      <td>0.012626</td>\n",
       "      <td>-4.275111</td>\n",
       "      <td>4.0</td>\n",
       "      <td>-0.295716</td>\n",
       "      <td>2.296551</td>\n",
       "      <td>3.296702</td>\n",
       "      <td>-1.2102</td>\n",
       "      <td>382000.0</td>\n",
       "    </tr>\n",
       "  </tbody>\n",
       "</table>\n",
       "</div>"
      ],
      "text/plain": [
       "   Unnamed:0  STYLE  ROOF  EXTFINISH  BASEMENT   STORIES  TOTALROOMS  \\\n",
       "0          2   24.0   2.0        6.0       5.0 -1.264172   -2.140282   \n",
       "1         11   24.0   2.0        6.0       5.0 -1.264172   -2.140282   \n",
       "2         70   24.0   2.0        6.0       5.0 -1.264172   -0.934785   \n",
       "3         72   24.0   2.0        6.0       5.0 -1.264172   -1.537534   \n",
       "4         74   24.0   2.0        6.0       5.0 -1.264172   -1.537534   \n",
       "\n",
       "   BEDROOMS  FULLBATHS  HALFBATHS  FINISHEDLIVINGAREA  ZIPCODE  YEARSOLD  \\\n",
       "0 -1.237946   0.782665  -0.947308           -0.245785     95.0 -1.942389   \n",
       "1 -2.394149  -0.763327   0.796003           -0.529069     95.0 -1.942389   \n",
       "2 -0.081743   0.782665  -0.947308            0.402313     95.0 -1.942389   \n",
       "3 -1.237946  -0.763327   0.796003           -0.364626     95.0 -1.942389   \n",
       "4 -1.237946   0.782665  -0.947308           -0.342516     95.0 -1.942389   \n",
       "\n",
       "   Condition     GRADE  CDU   LOTAREA  COUNTYTOTAL  COUNTYBUILDING  \\\n",
       "0   0.012626 -4.275111  4.0 -0.295716     1.875418        2.771835   \n",
       "1   0.012626 -4.275111  4.0 -0.295716     1.661966        2.505806   \n",
       "2   0.012626 -4.275111  4.0 -0.295716     3.357076        4.618456   \n",
       "3   0.012626 -4.275111  4.0 -0.295716     1.775422        2.647209   \n",
       "4   0.012626 -4.275111  4.0 -0.295716     2.296551        3.296702   \n",
       "\n",
       "   COUNTYLAND  SALEPRICE  \n",
       "0     -1.2102   525000.0  \n",
       "1     -1.2102   394000.0  \n",
       "2     -1.2102   355900.0  \n",
       "3     -1.2102   333325.0  \n",
       "4     -1.2102   382000.0  "
      ]
     },
     "execution_count": 13,
     "metadata": {},
     "output_type": "execute_result"
    }
   ],
   "source": [
    "data.head()"
   ]
  },
  {
   "cell_type": "markdown",
   "metadata": {},
   "source": [
    "## Train/Validation/Test Split\n",
    "\n",
    "We will split our dataset into three sets:\n",
    "* Training - (77%)\n",
    "* Validation - (16.5%)\n",
    "* Testing - (16.5%)"
   ]
  },
  {
   "cell_type": "code",
   "execution_count": 14,
   "metadata": {},
   "outputs": [
    {
     "name": "stdout",
     "output_type": "stream",
     "text": [
      "Training Shape:  (96248, 19)\n",
      "Validation Shape:  (23703, 19)\n",
      "Testing Shape:  (23704, 19)\n"
     ]
    }
   ],
   "source": [
    "from sklearn.model_selection import train_test_split\n",
    "\n",
    "X = data.drop(['Unnamed:0', 'SALEPRICE'], axis=1)\n",
    "Y = data['SALEPRICE']\n",
    "\n",
    "X_train, X_test, y_train, y_test = train_test_split(X, Y, test_size=0.33, shuffle=True)\n",
    "X_val, X_test, y_val, y_test = train_test_split(X_test, y_test, test_size=0.5, shuffle=True)\n",
    "\n",
    "print(\"Training Shape: \", X_train.shape)\n",
    "print(\"Validation Shape: \", X_val.shape)\n",
    "print(\"Testing Shape: \", X_test.shape)"
   ]
  },
  {
   "cell_type": "code",
   "execution_count": 15,
   "metadata": {},
   "outputs": [
    {
     "data": {
      "text/html": [
       "<div>\n",
       "<style scoped>\n",
       "    .dataframe tbody tr th:only-of-type {\n",
       "        vertical-align: middle;\n",
       "    }\n",
       "\n",
       "    .dataframe tbody tr th {\n",
       "        vertical-align: top;\n",
       "    }\n",
       "\n",
       "    .dataframe thead th {\n",
       "        text-align: right;\n",
       "    }\n",
       "</style>\n",
       "<table border=\"1\" class=\"dataframe\">\n",
       "  <thead>\n",
       "    <tr style=\"text-align: right;\">\n",
       "      <th></th>\n",
       "      <th>STYLE</th>\n",
       "      <th>ROOF</th>\n",
       "      <th>EXTFINISH</th>\n",
       "      <th>BASEMENT</th>\n",
       "      <th>STORIES</th>\n",
       "      <th>TOTALROOMS</th>\n",
       "      <th>BEDROOMS</th>\n",
       "      <th>FULLBATHS</th>\n",
       "      <th>HALFBATHS</th>\n",
       "      <th>FINISHEDLIVINGAREA</th>\n",
       "      <th>ZIPCODE</th>\n",
       "      <th>YEARSOLD</th>\n",
       "      <th>Condition</th>\n",
       "      <th>GRADE</th>\n",
       "      <th>CDU</th>\n",
       "      <th>LOTAREA</th>\n",
       "      <th>COUNTYTOTAL</th>\n",
       "      <th>COUNTYBUILDING</th>\n",
       "      <th>COUNTYLAND</th>\n",
       "    </tr>\n",
       "  </thead>\n",
       "  <tbody>\n",
       "    <tr>\n",
       "      <th>12663</th>\n",
       "      <td>24.0</td>\n",
       "      <td>2.0</td>\n",
       "      <td>6.0</td>\n",
       "      <td>5.0</td>\n",
       "      <td>-1.264172</td>\n",
       "      <td>-1.537534</td>\n",
       "      <td>-1.237946</td>\n",
       "      <td>-0.763327</td>\n",
       "      <td>-0.947308</td>\n",
       "      <td>-1.112219</td>\n",
       "      <td>95.0</td>\n",
       "      <td>2.115945</td>\n",
       "      <td>1.797994</td>\n",
       "      <td>2.118914</td>\n",
       "      <td>5.0</td>\n",
       "      <td>-0.102745</td>\n",
       "      <td>-0.852333</td>\n",
       "      <td>-0.944175</td>\n",
       "      <td>-0.328983</td>\n",
       "    </tr>\n",
       "  </tbody>\n",
       "</table>\n",
       "</div>"
      ],
      "text/plain": [
       "       STYLE  ROOF  EXTFINISH  BASEMENT   STORIES  TOTALROOMS  BEDROOMS  \\\n",
       "12663   24.0   2.0        6.0       5.0 -1.264172   -1.537534 -1.237946   \n",
       "\n",
       "       FULLBATHS  HALFBATHS  FINISHEDLIVINGAREA  ZIPCODE  YEARSOLD  Condition  \\\n",
       "12663  -0.763327  -0.947308           -1.112219     95.0  2.115945   1.797994   \n",
       "\n",
       "          GRADE  CDU   LOTAREA  COUNTYTOTAL  COUNTYBUILDING  COUNTYLAND  \n",
       "12663  2.118914  5.0 -0.102745    -0.852333       -0.944175   -0.328983  "
      ]
     },
     "execution_count": 15,
     "metadata": {},
     "output_type": "execute_result"
    }
   ],
   "source": [
    "X_train.head(1)"
   ]
  },
  {
   "cell_type": "markdown",
   "metadata": {},
   "source": [
    "# Modeling\n",
    "We will build some models on our data and see which model performs the best. The following models will be evaluated:\n",
    "\n",
    "* XGBoost\n",
    "* RandomForest\n",
    "* KNearest Neighbors\n",
    "* Support Vector Machine\n",
    "* Gradient Boosted Decision Tree"
   ]
  },
  {
   "cell_type": "markdown",
   "metadata": {},
   "source": [
    "## Testing Function\n",
    "Here we will define a function that accepts a model, parameters, and data. This model will build the model and test it.\n",
    "\n",
    "This function will be useful for testing all of our models."
   ]
  },
  {
   "cell_type": "code",
   "execution_count": 16,
   "metadata": {},
   "outputs": [],
   "source": [
    "from sklearn.metrics import mean_squared_log_error\n",
    "from sklearn.metrics import mean_squared_error\n",
    "from sklearn.metrics import r2_score\n",
    "import time\n",
    "\n",
    "def test_model(model, params, model_name, X_train, y_train, X_test, Y_test):\n",
    "    \"\"\"Trains model, and evaluates it.\n",
    "        PARAMS:\n",
    "            model_choice - SKLearn Model: Model to be trained\n",
    "            params - dictionary: Dictionary of parameters to feed the model\n",
    "            X_train - DataFrame: Training Data, Features\n",
    "            y_train - DataFrame: Training Data, Targets\n",
    "            X_test - DataFrame: Testing Data, Features\n",
    "            y_test - DataFrame: Testing Data, Targets\n",
    "        \n",
    "        RETURNS:\n",
    "            Mean Squared Log Error, Tree Explainer, Model Name - tuple(float, Explainer, String): Accuracy for specified model and parameters. \n",
    "    \"\"\"\n",
    "    print(\"Begin \", model_name)\n",
    "    start = time.time()\n",
    "\n",
    "    # Run model and get predictions and Mean Squared Log Error\n",
    "    clf = model(**params)\n",
    "    clf.fit(X_train, y_train)\n",
    "    \n",
    "    predictions = clf.predict(X_test)\n",
    "    if predictions.min() < 10000:\n",
    "        print(\"\\t- [WARNING] - Out of bounds prediction... Replacing with 10,000\")\n",
    "        predictions[predictions < 0] = 10000\n",
    "    \n",
    "    msle = mean_squared_log_error(Y_test, predictions)\n",
    "    rmse = mean_squared_error(Y_test, predictions)**0.5\n",
    "    r2 = r2_score(Y_test, predictions)\n",
    "    \n",
    "    print(f\"\\t- MSLE: \", msle)\n",
    "    print(f\"\\t- RMSE: \", rmse)\n",
    "    print(f\"\\t- R^2: \", r2)\n",
    "    \n",
    "    print(\"\\t- Time Elapsed: \", time.time() - start)\n",
    "    \n",
    "    return (msle, clf, model_name)"
   ]
  },
  {
   "cell_type": "markdown",
   "metadata": {},
   "source": [
    "## Testing Models\n",
    "We will run all of the following models through the testing function:\n",
    "* XGBoost\n",
    "* RandomForest\n",
    "* KNearest Neighbors\n",
    "* Support Vector Machine\n",
    "* Gradient Boosted Decision Tree\n",
    "\n",
    "Each of these models will be trained on the `Training Set` and evaluated on the `Validation Set`. The model that performs the best on the evaluation set (lowest `Mean Squared Log Error`), will be promoted to the next phase of model tuning (Hyper Parameter Tuning)."
   ]
  },
  {
   "cell_type": "code",
   "execution_count": 17,
   "metadata": {
    "scrolled": false
   },
   "outputs": [
    {
     "name": "stdout",
     "output_type": "stream",
     "text": [
      "Begin  XGBoost\n",
      "\t- [WARNING] - Out of bounds prediction... Replacing with 10,000\n",
      "\t- MSLE:  0.25192550371235434\n",
      "\t- RMSE:  54125.77829782926\n",
      "\t- R^2:  0.7400719225692916\n",
      "\t- Time Elapsed:  4.448635101318359\n",
      "Begin  Random Forest\n",
      "\t- MSLE:  0.251020810896491\n",
      "\t- RMSE:  54547.013431834246\n",
      "\t- R^2:  0.7360103866620327\n",
      "\t- Time Elapsed:  77.58210611343384\n",
      "Begin  KNeighbors\n",
      "\t- MSLE:  0.2806998968462539\n",
      "\t- RMSE:  59574.86877651987\n",
      "\t- R^2:  0.6851011499160429\n",
      "\t- Time Elapsed:  23.34947681427002\n",
      "Begin  Support Vector Machine\n",
      "\t- [WARNING] - Out of bounds prediction... Replacing with 10,000\n",
      "\t- MSLE:  0.28793060415909666\n",
      "\t- RMSE:  63210.41862398516\n",
      "\t- R^2:  0.6454951191322128\n",
      "\t- Time Elapsed:  0.29523372650146484\n",
      "Begin  GradientBoostingRegressor\n",
      "\t- [WARNING] - Out of bounds prediction... Replacing with 10,000\n",
      "\t- MSLE:  0.2536600811554908\n",
      "\t- RMSE:  54216.017522928625\n",
      "\t- R^2:  0.7392044889041048\n",
      "\t- Time Elapsed:  16.779532194137573\n"
     ]
    }
   ],
   "source": [
    "from sklearn.svm import LinearSVR\n",
    "from sklearn.neighbors import KNeighborsRegressor\n",
    "from sklearn.ensemble import GradientBoostingRegressor\n",
    "from sklearn.ensemble import RandomForestRegressor\n",
    "import xgboost as xgb\n",
    "\n",
    "knc_params = {}\n",
    "svr_params = {}\n",
    "gbr_params = {}\n",
    "xgb_params = {'objective':'reg:squarederror'}\n",
    "rf_params = {}\n",
    "\n",
    "models_to_test = [\n",
    "    (xgb.XGBRegressor, xgb_params, \"XGBoost\"),\n",
    "    (RandomForestRegressor, rf_params, \"Random Forest\"),\n",
    "    (KNeighborsRegressor, knc_params, \"KNeighbors\"),\n",
    "    (LinearSVR, svr_params, \"Support Vector Machine\"),\n",
    "    (GradientBoostingRegressor, gbr_params, \"GradientBoostingRegressor\")\n",
    "]\n",
    "\n",
    "results = []\n",
    "for model in models_to_test:\n",
    "    results += [test_model(model[0], model[1], model[2], X_train, y_train, X_val, y_val)]"
   ]
  },
  {
   "cell_type": "code",
   "execution_count": 18,
   "metadata": {},
   "outputs": [
    {
     "name": "stdout",
     "output_type": "stream",
     "text": [
      "Best Model:  Random Forest\n"
     ]
    }
   ],
   "source": [
    "# Sort results by the best accuracy.\n",
    "results.sort(key = lambda x: x[0], reverse=False)\n",
    "\n",
    "print(\"Best Model: \", results[0][2])"
   ]
  },
  {
   "cell_type": "markdown",
   "metadata": {},
   "source": [
    "## Hyper Parameter Tuning\n",
    "`Random Forest` has the best performance.\n",
    "\n",
    "We will now run a Grid Search on it to see which parameters might be most effective. We have already run a Randomized Grid Search (in the past) to see how we should narrow down our parameter space. \n",
    "\n",
    "    > NOTE: We are choosing to use a smaller `max_depth`. We do this so it can act as a regularization term. We may not get better results (than a higher max_depth), but we will get a more general model."
   ]
  },
  {
   "cell_type": "code",
   "execution_count": null,
   "metadata": {
    "scrolled": true
   },
   "outputs": [
    {
     "name": "stdout",
     "output_type": "stream",
     "text": [
      "Begin  RandomForest\n",
      "Fitting 3 folds for each of 48 candidates, totalling 144 fits\n"
     ]
    },
    {
     "name": "stderr",
     "output_type": "stream",
     "text": [
      "[Parallel(n_jobs=-1)]: Using backend LokyBackend with 8 concurrent workers.\n",
      "[Parallel(n_jobs=-1)]: Done   2 tasks      | elapsed:  1.0min\n",
      "[Parallel(n_jobs=-1)]: Done   9 tasks      | elapsed:  2.2min\n",
      "[Parallel(n_jobs=-1)]: Done  16 tasks      | elapsed:  3.4min\n",
      "[Parallel(n_jobs=-1)]: Done  25 tasks      | elapsed:  5.3min\n",
      "[Parallel(n_jobs=-1)]: Done  34 tasks      | elapsed:  7.3min\n",
      "[Parallel(n_jobs=-1)]: Done  45 tasks      | elapsed:  9.7min\n",
      "[Parallel(n_jobs=-1)]: Done  56 tasks      | elapsed: 12.4min\n"
     ]
    }
   ],
   "source": [
    "from sklearn.model_selection import GridSearchCV\n",
    "\n",
    "def grid_search(clf, params, model_name, X_train, y_train, X_test, y_test):\n",
    "    \"\"\"Run Grid Search on a model\"\"\"\n",
    "    print(\"Begin \", model_name)\n",
    "    \n",
    "    start = time.time()\n",
    "\n",
    "    clf = GridSearchCV(clf(), params, refit=False, scoring='neg_mean_squared_log_error', cv=3, n_jobs=-1, verbose=10)\n",
    "    clf.fit(X_train, y_train)\n",
    "    \n",
    "    print(\"\\t- Best Score: \", clf.best_score_)\n",
    "    print(\"\\t- Time Elapsed: \", time.time() - start)\n",
    "    \n",
    "    return (clf.best_score_, clf, model_name)\n",
    "\n",
    "params_rf = {\n",
    "    'bootstrap': [True],\n",
    "    'max_depth': [5, 7, 10], # Making this small to act as regularization.\n",
    "    'max_features': ['auto'],\n",
    "    'min_samples_leaf': [1, 2],\n",
    "    'min_samples_split': [2, 4],\n",
    "    'n_estimators': [100, 200, 300, 400]\n",
    "}\n",
    "\n",
    "models_to_tune = [\n",
    "    (RandomForestRegressor, params_rf, \"RandomForest\")\n",
    "]\n",
    "\n",
    "tuned_results = []\n",
    "for model in models_to_tune:\n",
    "    tuned_results += [grid_search(model[0], model[1], model[2], X_train, y_train, X_val, y_val)]"
   ]
  },
  {
   "cell_type": "markdown",
   "metadata": {},
   "source": [
    "## Best Parameters\n",
    "We can view the best parameters by extracting `cv_results_`. This will allow us to see how the best parameters compared to the other parameters.\n",
    "\n",
    "During the Hyper Parameter Tuning process, this was useful in order to narrow the search space down. For example, We saw consistently worse results during the following:\n",
    "* bootstrap : False\n",
    "* max_features : sq_rt\n",
    "\n",
    "Armed with this knowledge, we were able to reduce the number of parameters we need to search over, so GridSearch might be more efficient"
   ]
  },
  {
   "cell_type": "code",
   "execution_count": null,
   "metadata": {},
   "outputs": [],
   "source": [
    "# Grab parameter results\n",
    "param_results = pd.DataFrame(tuned_results[0][1].cv_results_).sort_values('rank_test_score')\n",
    "\n",
    "# Write Parameters to CSV\n",
    "import os\n",
    "# if file does not exist write header \n",
    "if not os.path.isfile('random_forest_params.csv'):\n",
    "    param_results.to_csv('random_forest_params.csv', header=True)\n",
    "else: # else it exists so append without writing the header\n",
    "    param_results.to_csv('random_forest_params.csv', mode='a', header=False)\n",
    "\n",
    "param_results.head()"
   ]
  },
  {
   "cell_type": "markdown",
   "metadata": {},
   "source": [
    "## Evaluate Model\n",
    "\n",
    "We will evaluate the performance of the `RandomForestRegressor` model on the \n",
    "* Training Set\n",
    "* Validation Set\n",
    "* Testing Set\n",
    "\n",
    "Understanding how the results varies within each of the data sets will help us understand how well the model is generalizing to new data. We expect to see a similar results across all data sets.\n",
    "\n",
    "> NOTE: We will only using the results on the `testing` for determining to accept or decline our model. "
   ]
  },
  {
   "cell_type": "code",
   "execution_count": null,
   "metadata": {},
   "outputs": [],
   "source": [
    "from sklearn.metrics import mean_squared_log_error\n",
    "\n",
    "start = time.time()\n",
    "\n",
    "best_clf = RandomForestRegressor(**tuned_results[0][1].best_params_).fit(X_train, y_train)\n",
    "\n",
    "print(\"Time Elapsed: \", time.time() - start)\n",
    "\n",
    "predictions = best_clf.predict(X_train)\n",
    "msle = mean_squared_log_error(y_train, predictions)\n",
    "print(\"Training Mean Squared Log Error: \", msle)\n",
    "\n",
    "predictions = best_clf.predict(X_val)\n",
    "msle = mean_squared_log_error(y_val, predictions)\n",
    "print(\"Validation Mean Squared Log Error: \", msle)\n",
    "\n",
    "predictions = best_clf.predict(X_test)\n",
    "msle = mean_squared_log_error(y_test, predictions)\n",
    "print(\"Testing Mean Squared Log Error: \", msle)"
   ]
  },
  {
   "cell_type": "markdown",
   "metadata": {},
   "source": [
    "## Zillow's Zestimate\n",
    "Zillow presents their results via a table that displays the following:\n",
    "* Median Error\n",
    "* Homes With ZESTIMATES\n",
    "* Within 5% of Sale Price\n",
    "* Within 10% of Sale Price\n",
    "* Within 20% of Sale Price\n",
    "\n",
    "We will develop the same metrics from our results and compare them to Zillows results on `Pittsburgh PA`"
   ]
  },
  {
   "cell_type": "code",
   "execution_count": null,
   "metadata": {
    "scrolled": false
   },
   "outputs": [],
   "source": [
    "y_test = y_test.reset_index(drop=True)\n",
    "\n",
    "# Concatentate Predictions with Actual\n",
    "comparison = pd.concat([pd.Series(predictions), y_test], axis=1)\n",
    "comparison = comparison.rename(columns={0:'PREDICTION'})\n",
    "\n",
    "# Calculate `Percent Error`\n",
    "## |(Prediction - SalePrice) / SalePrice|\n",
    "comparison['PERCENT ERROR'] = abs((comparison['PREDICTION'] - comparison['SALEPRICE']) / comparison['SALEPRICE'])\n",
    "\n",
    "# Write to CSV\n",
    "comparison.to_csv('predictions.csv')"
   ]
  },
  {
   "cell_type": "code",
   "execution_count": null,
   "metadata": {},
   "outputs": [],
   "source": [
    "comparison.head()"
   ]
  },
  {
   "cell_type": "code",
   "execution_count": null,
   "metadata": {},
   "outputs": [],
   "source": [
    "# Obtain Metrics to create table.\n",
    "\n",
    "area = 'Pittsburgh, PA'\n",
    "median_error = comparison['PERCENT ERROR'].median() * 100\n",
    "total_estimates = comparison.shape[0]\n",
    "five_percent = comparison[comparison['PERCENT ERROR'] <= 0.05].shape[0] / comparison.shape[0] * 100\n",
    "ten_percent = comparison[comparison['PERCENT ERROR'] <= 0.10].shape[0] / comparison.shape[0] * 100\n",
    "twenty_percent = comparison[comparison['PERCENT ERROR'] <= 0.20].shape[0] / comparison.shape[0] * 100\n",
    "\n",
    "column_names = ['METROPOLITAN AREA', 'MEDIAN ERROR', 'HOMES WITH ESTIMATE', 'WITH 5% OF SALEPRICE', 'WITH 10% OF SALEPRICE', 'WITH 20% OF SALEPRICE']\n",
    "\n",
    "results_lst = [area, median_error, total_estimates, five_percent, ten_percent, twenty_percent]\n",
    "zillow_lst = ['Pittsburgh, PA', 2.5, 10900, 77.6, 93.2, 98.4]\n",
    "\n",
    "results = pd.DataFrame([results_lst, zillow_lst], index=['Our Results', 'Zillow'], columns=column_names)\n",
    "\n",
    "results.head()"
   ]
  },
  {
   "cell_type": "markdown",
   "metadata": {},
   "source": [
    "# Feature Importance:\n",
    "\n",
    "### Random Forest Feature Importance\n",
    "Random Forest has a built in feature importance, which will tell us how important each feature is. However, this does not tell us what kind of values the features should have.\n",
    "\n",
    "\n",
    "### SHAP (SHapley Additive exPlanations)\n",
    "SHAP measures the impact of variables taking into account the interaction with other variables. \n",
    "\n",
    "This will be better than the feature importances found in Random Forest because we can now see how the value of each feature affects the final result.\n",
    "\n",
    "Reference: \n",
    "* https://towardsdatascience.com/explain-your-model-with-the-shap-values-bc36aac4de3d\n",
    "\n",
    "* https://blog.datascienceheroes.com/how-to-interpret-shap-values-in-r/Which features are more important to XGBoost?"
   ]
  },
  {
   "cell_type": "code",
   "execution_count": 9,
   "metadata": {},
   "outputs": [
    {
     "data": {
      "image/png": "[encoded data removed]",
      "text/plain": [
       "<Figure size 432x288 with 1 Axes>"
      ]
     },
     "metadata": {
      "needs_background": "light"
     },
     "output_type": "display_data"
    }
   ],
   "source": [
    "features = X.columns.tolist()\n",
    "importances = results[0][1].feature_importances_\n",
    "indices = np.argsort(importances)\n",
    "\n",
    "plt.title('Feature Importances')\n",
    "plt.barh(range(len(indices)), importances[indices], color='b', align='center')\n",
    "plt.yticks(range(len(indices)), [features[i] for i in indices])\n",
    "plt.xlabel('Relative Importance')\n",
    "plt.show()"
   ]
  },
  {
   "cell_type": "code",
   "execution_count": 11,
   "metadata": {},
   "outputs": [
    {
     "name": "stdout",
     "output_type": "stream",
     "text": [
      "0.34.0\n"
     ]
    }
   ],
   "source": [
    "import shap\n",
    "print(shap.__version__)\n",
    "\n",
    "# May need to run the following as system admin in anaconda command prompt\n",
    "## conda install -c conda-forge shap"
   ]
  },
  {
   "cell_type": "code",
   "execution_count": null,
   "metadata": {},
   "outputs": [
    {
     "name": "stderr",
     "output_type": "stream",
     "text": [
      "Setting feature_perturbation = \"tree_path_dependent\" because no background data was given.\n"
     ]
    }
   ],
   "source": [
    "shap_values = shap.TreeExplainer(results[0][1]).shap_values(X_train)"
   ]
  },
  {
   "cell_type": "code",
   "execution_count": null,
   "metadata": {},
   "outputs": [],
   "source": [
    "shap.summary_plot(shap_values, X_train, plot_type=\"bar\")"
   ]
  },
  {
   "cell_type": "code",
   "execution_count": null,
   "metadata": {},
   "outputs": [],
   "source": [
    "shap.summary_plot(shap_values, X_train) # Change to Red and Green"
   ]
  },
  {
   "cell_type": "markdown",
   "metadata": {},
   "source": [
    "## Results\n",
    "\n",
    "We tested the following models:\n",
    "* XGBoost\n",
    "* RandomForest\n",
    "* KNearest Neighbors\n",
    "* Support Vector Machine\n",
    "* Gradient Boosted Decision Tree\n",
    "\n",
    "The best performing model was `RandomForest`. Once we found the best performing model, we implemented a `Grid Search` which aimed to exhaustively explore a specified grid and find the best parameters. Once we tuned our parameters, we tested our predictions on our Training, Validation, and Testing set.\n",
    "\n",
    "Our testing set had a RMSE of `4780.84`. This indicates that we still have a lot of room for improvements, so we might want to attempt a different approach."
   ]
  }
 ],
 "metadata": {
  "kernelspec": {
   "display_name": "Python 3",
   "language": "python",
   "name": "python3"
  },
  "language_info": {
   "codemirror_mode": {
    "name": "ipython",
    "version": 3
   },
   "file_extension": ".py",
   "mimetype": "text/x-python",
   "name": "python",
   "nbconvert_exporter": "python",
   "pygments_lexer": "ipython3",
   "version": "3.7.6"
  }
 },
 "nbformat": 4,
 "nbformat_minor": 4
}
