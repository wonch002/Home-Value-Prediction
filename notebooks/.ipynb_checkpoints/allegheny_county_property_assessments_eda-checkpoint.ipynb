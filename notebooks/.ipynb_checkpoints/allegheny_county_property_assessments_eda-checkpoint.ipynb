{
 "cells": [
  {
   "cell_type": "code",
   "execution_count": 36,
   "metadata": {},
   "outputs": [],
   "source": [
    "import pandas as pd\n",
    "import numpy as np\n",
    "import matplotlib.pyplot as plt"
   ]
  },
  {
   "cell_type": "code",
   "execution_count": null,
   "metadata": {},
   "outputs": [],
   "source": [
    "# data file paths\n",
    "property_assessments = pd.read_csv('allegney_county_assesment_f2b8d575-e256-4718-94ad-1e12239ddb92.csv')\n",
    "data_dictionary = pd.read_csv('allegney_county_data_dictionary_d31e1b1c-215d-4693-9898-154ca49050a4.csv')"
   ]
  },
  {
   "cell_type": "markdown",
   "metadata": {},
   "source": [
    "# Allegheny County Property Assessments\n",
    "\n",
    "## Overview\n",
    "\n",
    "### Business Problem\n",
    "Create a dynamic pricing tool that will predict the actual land parcel sale price, given all the features of a parcel and some key factors that affect real estate prices. In addition, we aim to add a comparative market analysis to the dynamic pricing model.\n",
    "\n",
    "We see this providing value to individuals looking to sell their home as follows:\n",
    "- help home sellers evaluate local relators\n",
    "- increase home sellers' confidence in setting the price of their home without a relator\n",
    "\n",
    "## Dataset\n",
    "\n",
    "**Title:** Allegheny County Property Assessments\n",
    "\n",
    "**Source:** Allegheny County, hosted by The Western Pennsylvania Regional Data Center.\n",
    "\n",
    "**Link:** https://data.wprdc.org/dataset/property-assessments\n",
    "\n",
    "**Allegheny County Property Assessment Data User Guide:** https://docs.google.com/document/d/1eYuJOh4_CBitclhhgeJv6iLStPjtouhXV1_2cwei_-s\n",
    "\n",
    "**License:** Creative Commons CCZero\n",
    "\n",
    "**General Description**:\n",
    "\n",
    "From the The Western Pennsylvania Regional Data Center website:\n",
    "<blockquote source='https://data.wprdc.org/dataset/property-assessments'>\n",
    "Real Property parcel characteristics for Allegheny County, PA. Includes information pertaining to land, values, sales, abatements, and building characteristics (if residential) by parcel. Disclaimer: Parcel information is provided from the Office of Property Assessments in Allegheny County. Content and availability are subject to change. Please review the Data Dictionary for details on included fields before each use. Property characteristics and values change due to a variety of factors such as court rulings, municipality permit processing and subdivision plans. Consequently the assessment system parcel data is continually changing. Please take the dynamic nature of this information into consideration before using it. Excludes name and contact information for property owners, as required by Ordinance 3478-07.\n",
    "</blockquote>\n",
    "Allegheny County is located in Pennsylvania (see map below created by David Benbennick with Public domain license, hosted by Wikimedia Commons).\n",
    "\n",
    "<a title=\"David Benbennick / Public domain\" href=\"https://commons.wikimedia.org/wiki/File:Map_of_Pennsylvania_highlighting_Allegheny_County.svg\"><img width=\"300\" alt=\"Map of Pennsylvania highlighting Allegheny County\" src=\"https://upload.wikimedia.org/wikipedia/commons/thumb/a/ad/Map_of_Pennsylvania_highlighting_Allegheny_County.svg/512px-Map_of_Pennsylvania_highlighting_Allegheny_County.svg.png\"></a>\n",
    "\n",
    "**Dataset Fields**\n",
    "\n",
    "There are 86 fields in this dataset, including:\n",
    "\n",
    "- PARID: a unique identifier for a land parcel\n",
    "- SALEPRICE: \n"
   ]
  },
  {
   "cell_type": "code",
   "execution_count": 8,
   "metadata": {},
   "outputs": [
    {
     "data": {
      "text/plain": [
       "'There are 86 fields in this dataset.'"
      ]
     },
     "execution_count": 8,
     "metadata": {},
     "output_type": "execute_result"
    }
   ],
   "source": [
    "\"There are {} fields in this dataset.\".format(len(property_assessments.columns))"
   ]
  },
  {
   "cell_type": "code",
   "execution_count": 4,
   "metadata": {},
   "outputs": [
    {
     "name": "stdout",
     "output_type": "stream",
     "text": [
      "<class 'pandas.core.frame.DataFrame'>\n",
      "RangeIndex: 580526 entries, 0 to 580525\n",
      "Data columns (total 86 columns):\n",
      "PARID                   580526 non-null object\n",
      "PROPERTYHOUSENUM        580473 non-null float64\n",
      "PROPERTYFRACTION        580526 non-null object\n",
      "PROPERTYADDRESS         580526 non-null object\n",
      "PROPERTYCITY            580524 non-null object\n",
      "PROPERTYSTATE           580526 non-null object\n",
      "PROPERTYUNIT            580526 non-null object\n",
      "PROPERTYZIP             580525 non-null float64\n",
      "MUNICODE                580526 non-null int64\n",
      "MUNIDESC                580526 non-null object\n",
      "SCHOOLCODE              580526 non-null int64\n",
      "SCHOOLDESC              580526 non-null object\n",
      "LEGAL1                  580506 non-null object\n",
      "LEGAL2                  516362 non-null object\n",
      "LEGAL3                  337723 non-null object\n",
      "NEIGHCODE               580526 non-null object\n",
      "NEIGHDESC               579609 non-null object\n",
      "TAXCODE                 580526 non-null object\n",
      "TAXDESC                 580526 non-null object\n",
      "TAXSUBCODE              1712 non-null object\n",
      "TAXSUBCODE_DESC         1712 non-null object\n",
      "OWNERCODE               580526 non-null int64\n",
      "OWNERDESC               580526 non-null object\n",
      "CLASS                   580526 non-null object\n",
      "CLASSDESC               580526 non-null object\n",
      "USECODE                 580526 non-null int64\n",
      "USEDESC                 580524 non-null object\n",
      "LOTAREA                 580526 non-null int64\n",
      "HOMESTEADFLAG           305389 non-null object\n",
      "FARMSTEADFLAG           6 non-null object\n",
      "CLEANGREEN              1686 non-null object\n",
      "ABATEMENTFLAG           582 non-null object\n",
      "RECORDDATE              338747 non-null object\n",
      "SALEDATE                573141 non-null object\n",
      "SALEPRICE               570691 non-null float64\n",
      "SALECODE                572141 non-null object\n",
      "SALEDESC                570586 non-null object\n",
      "DEEDBOOK                527973 non-null object\n",
      "DEEDPAGE                527767 non-null object\n",
      "PREVSALEDATE            372164 non-null object\n",
      "PREVSALEPRICE           370517 non-null float64\n",
      "PREVSALEDATE2           194944 non-null object\n",
      "PREVSALEPRICE2          194392 non-null float64\n",
      "CHANGENOTICEADDRESS1    580526 non-null object\n",
      "CHANGENOTICEADDRESS2    580526 non-null object\n",
      "CHANGENOTICEADDRESS3    580526 non-null object\n",
      "CHANGENOTICEADDRESS4    568302 non-null object\n",
      "COUNTYBUILDING          580526 non-null int64\n",
      "COUNTYLAND              580526 non-null int64\n",
      "COUNTYTOTAL             580526 non-null int64\n",
      "COUNTYEXEMPTBLDG        580526 non-null int64\n",
      "LOCALBUILDING           580526 non-null int64\n",
      "LOCALLAND               580526 non-null int64\n",
      "LOCALTOTAL              580526 non-null int64\n",
      "FAIRMARKETBUILDING      580526 non-null int64\n",
      "FAIRMARKETLAND          580526 non-null int64\n",
      "FAIRMARKETTOTAL         580526 non-null int64\n",
      "STYLE                   445485 non-null object\n",
      "STYLEDESC               445485 non-null object\n",
      "STORIES                 445469 non-null float64\n",
      "YEARBLT                 445485 non-null float64\n",
      "EXTERIORFINISH          445478 non-null float64\n",
      "EXTFINISH_DESC          445478 non-null object\n",
      "ROOF                    444769 non-null float64\n",
      "ROOFDESC                444769 non-null object\n",
      "BASEMENT                445381 non-null float64\n",
      "BASEMENTDESC            445381 non-null object\n",
      "GRADE                   445475 non-null object\n",
      "GRADEDESC               445475 non-null object\n",
      "CONDITION               445409 non-null float64\n",
      "CONDITIONDESC           445409 non-null object\n",
      "CDU                     445407 non-null object\n",
      "CDUDESC                 445407 non-null object\n",
      "TOTALROOMS              445408 non-null float64\n",
      "BEDROOMS                445438 non-null float64\n",
      "FULLBATHS               445355 non-null float64\n",
      "HALFBATHS               441766 non-null float64\n",
      "HEATINGCOOLING          445301 non-null object\n",
      "HEATINGCOOLINGDESC      445301 non-null object\n",
      "FIREPLACES              411671 non-null float64\n",
      "BSMTGARAGE              425825 non-null float64\n",
      "FINISHEDLIVINGAREA      445485 non-null float64\n",
      "CARDNUMBER              445485 non-null float64\n",
      "ALT_ID                  26235 non-null object\n",
      "TAXYEAR                 580526 non-null int64\n",
      "ASOFDATE                580526 non-null object\n",
      "dtypes: float64(19), int64(16), object(51)\n",
      "memory usage: 380.9+ MB\n"
     ]
    }
   ],
   "source": [
    "property_assessments.info()"
   ]
  },
  {
   "cell_type": "code",
   "execution_count": 11,
   "metadata": {},
   "outputs": [
    {
     "data": {
      "text/plain": [
       "'There are 580526 unique parcel ids in this dataset'"
      ]
     },
     "execution_count": 11,
     "metadata": {},
     "output_type": "execute_result"
    }
   ],
   "source": [
    "\"There are {} unique parcel ids in this dataset\".format(len(property_assessments.PARID.unique()))"
   ]
  },
  {
   "cell_type": "code",
   "execution_count": 26,
   "metadata": {},
   "outputs": [
    {
     "data": {
      "text/plain": [
       "'The maximum sales price is 179395660.0 and the min sales price is 0.0'"
      ]
     },
     "execution_count": 26,
     "metadata": {},
     "output_type": "execute_result"
    }
   ],
   "source": [
    "\"The maximum sales price is {} and the min sales price is {}\".format(property_assessments.SALEPRICE.max(), property_assessments.SALEPRICE.min())"
   ]
  },
  {
   "cell_type": "code",
   "execution_count": 46,
   "metadata": {},
   "outputs": [
    {
     "data": {
      "text/plain": [
       "'There are 33862 different unique sale price values'"
      ]
     },
     "execution_count": 46,
     "metadata": {},
     "output_type": "execute_result"
    }
   ],
   "source": [
    "\"There are {} different unique sale price values\".format(len(property_assessments.SALEPRICE.value_counts()))"
   ]
  },
  {
   "cell_type": "code",
   "execution_count": 34,
   "metadata": {},
   "outputs": [
    {
     "name": "stdout",
     "output_type": "stream",
     "text": [
      "There are 347346 sales over $10,000\n",
      "There are 324493 sales over $20,000\n"
     ]
    }
   ],
   "source": [
    "sales_over_ten_thousand = property_assessments[property_assessments.SALEPRICE > 10000]\n",
    "sales_over_twenty_thousand = property_assessments[property_assessments.SALEPRICE > 20000]\n",
    "print(\"There are {} sales over $10,000\".format(len(sales_over_ten_thousand)))\n",
    "print(\"There are {} sales over $20,000\".format(len(sales_over_twenty_thousand)))"
   ]
  },
  {
   "cell_type": "code",
   "execution_count": 49,
   "metadata": {},
   "outputs": [
    {
     "data": {
      "text/plain": [
       "'There are 123 unique zipcodes in this dataset'"
      ]
     },
     "execution_count": 49,
     "metadata": {},
     "output_type": "execute_result"
    }
   ],
   "source": [
    "'There are {} unique zipcodes in this dataset'.format(len(property_assessments.PROPERTYZIP.unique()))"
   ]
  },
  {
   "cell_type": "code",
   "execution_count": null,
   "metadata": {},
   "outputs": [],
   "source": []
  }
 ],
 "metadata": {
  "kernelspec": {
   "display_name": "Python 3",
   "language": "python",
   "name": "python3"
  },
  "language_info": {
   "codemirror_mode": {
    "name": "ipython",
    "version": 3
   },
   "file_extension": ".py",
   "mimetype": "text/x-python",
   "name": "python",
   "nbconvert_exporter": "python",
   "pygments_lexer": "ipython3",
   "version": "3.7.3"
  }
 },
 "nbformat": 4,
 "nbformat_minor": 4
}
