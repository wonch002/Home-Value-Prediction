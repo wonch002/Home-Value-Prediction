{
 "cells": [
  {
   "cell_type": "code",
   "execution_count": 20,
   "metadata": {},
   "outputs": [],
   "source": [
    "import os\n",
    "#os.environ[\"JAVA_HOME\"] = \"/usr/lib/jvm/java-8-openjdk-amd64\"\n",
    "#os.environ[\"SPARK_HOME\"] = \"/content/spark-2.3.1-bin-hadoop2.7\"\n",
    "\n",
    "import findspark\n",
    "findspark.init()\n",
    "from pyspark import SparkContext\n",
    "sc = SparkContext.getOrCreate()\n",
    "\n",
    "import pyspark\n",
    "from pyspark.sql import SparkSession\n",
    "spark = SparkSession.builder.getOrCreate() \n",
    "spark\n",
    "\n",
    "import matplotlib.pyplot as plt"
   ]
  },
  {
   "cell_type": "markdown",
   "metadata": {},
   "source": [
    "# Overview\n",
    "\n",
    "## Business Problem\n",
    "\n",
    "<blockquote source=\"https://docs.google.com/document/d/1WQ5MPTmzHR7PWzl6byvtts_TQ-4c1goZAuW4rE3EtDY/edit\">\n",
    "    Zillow gives consumers as much information as possible about homes and the housing market, marking the first time consumers had access to this type of home value information at no cost.\n",
    "Predict the actual sale price, given all the features of a home and some key factors that affect real estate prices.\n",
    "    <br/>\n",
    "    <b>Business goal:</b> Create a Dynamic Pricing tool that will predict the actual home sale price, given all the features of a home and some key factors that affect real estate prices.\n",
    "</blockquote>\n",
    "\n",
    "Zillow describes zestimate as follows:\n",
    "\n",
    "<blockquote source=\"https://www.zillow.com/zestimate/\">\n",
    "The Zestimate® home valuation model is Zillow’s estimate of a home's market value. The Zestimate incorporates public and user-submitted data, taking into account home facts, location and market conditions.\n",
    "<br />\n",
    "It is not an appraisal and it should be used as a starting point. We encourage buyers, sellers and homeowners to supplement the Zestimate with other research such as visiting the home, getting a professional appraisal of the home, or requesting a comparative market analysis (CMA) from a real estate agent.\n",
    "</blockquote>\n",
    "    \n",
    "Plan for improving the existing zestimate:\n",
    "    \n",
    "- Based on [Airbnb's Dynamic Pricing Model](https://github.com/tule2236/Airbnb-Dynamic-Pricing-Optimization), we plan to augment the zestimate with a comparative market analysis akin to the expertise given by a local relator.\n",
    "\n",
    "The added comparative market analysis adds value as follows:\n",
    "- help home sellers evaluate local relators\n",
    "- increase home sellers' confidence in setting the price of their home without a relator\n",
    "\n",
    "## Data Sources\n",
    "\n",
    "In the first version of this project, we will focus on the static data provided by the Zillow's Kaggle competition. When implementing the competitive price analysis, we will look for local government datasets, and, if there is time, we will look into web scraping new data sources.\n",
    "\n",
    "# References\n",
    "\n",
    "Thottuvaikkatumana, R. (2016). Apache Spark 2 for Beginners. Packt Publishing.\n",
    "\n",
    "tule2236 (2018). Dynamic Pricing Optimization for Airbnb. Retrieved from https://github.com/tule2236/Airbnb-Dynamic-Pricing-Optimization.\n",
    "\n",
    "Zillow Kaggle Comepetition https://www.kaggle.com/c/zillow-prize-1/data."
   ]
  },
  {
   "cell_type": "markdown",
   "metadata": {},
   "source": [
    "# Data Exploration\n",
    "* Full list of real estate properties in three counties (Los Angeles, Orange, and Ventura, California). \n",
    "* All training transactions occurred before October 15, 2016 (and a few after Oct 15, 2016).\n",
    "* Testing data are tranactions between October 15 and December 31, 2016.\n",
    "\n",
    "### Objective\n",
    "We are supposed to predict 6 time points for all properties (October 2016 (201610), November 2016 (201611), December 2016 (201612), October 2017 (201710), November 2017 (201711), and December 2017 (201712).\n",
    "\n",
    "Our target variable is the log-error between their Zestimate and the actual sale price. \n",
    "\n",
    "`logerror = log(Zestimate) - log(SalePrice)`\n",
    "\n",
    "This is given to us in the train.csv file.\n",
    "\n",
    "# Download the data\n",
    "Download the data from https://www.kaggle.com/c/zillow-prize-1/data and extract it into a folder called `zillow-prize-1`. This folder should be in the base level directory (the same directory as the .gitignore file).\n",
    "\n",
    "### What is the data?\n",
    "\n",
    "All features can be found in `properties_2016.csv` and `properties_2017.csv`. These two csv represent all homes in 2016 and 2017, and the properties of their house.\n",
    "\n",
    "Training data can are found in `train_2016.csv` and `train_2017.csv`"
   ]
  },
  {
   "cell_type": "code",
   "execution_count": 2,
   "metadata": {},
   "outputs": [],
   "source": [
    "features_location = \"../zillow-prize-1/properties_2017.csv\"\n",
    "train1_location = \"../zillow-prize-1/train_2016_v2.csv\"\n",
    "train2_location = \"../zillow-prize-1/train_2017.csv\"\n",
    "test_location = \"../zillow-prize-1/sample_submission.csv\"\n",
    "\n",
    "\n",
    "features = spark.read.csv(features_location, header=True)\n",
    "training1 = spark.read.csv(train1_location, header=True)\n",
    "training2 = spark.read.csv(train2_location, header=True)\n",
    "testing = spark.read.csv(test_location, header=True)"
   ]
  },
  {
   "cell_type": "markdown",
   "metadata": {},
   "source": [
    "### What does our features look like?"
   ]
  },
  {
   "cell_type": "code",
   "execution_count": 7,
   "metadata": {},
   "outputs": [
    {
     "name": "stdout",
     "output_type": "stream",
     "text": [
      "Feature Schema: \n",
      "root\n",
      " |-- parcelid: string (nullable = true)\n",
      " |-- airconditioningtypeid: string (nullable = true)\n",
      " |-- architecturalstyletypeid: string (nullable = true)\n",
      " |-- basementsqft: string (nullable = true)\n",
      " |-- bathroomcnt: string (nullable = true)\n",
      " |-- bedroomcnt: string (nullable = true)\n",
      " |-- buildingclasstypeid: string (nullable = true)\n",
      " |-- buildingqualitytypeid: string (nullable = true)\n",
      " |-- calculatedbathnbr: string (nullable = true)\n",
      " |-- decktypeid: string (nullable = true)\n",
      " |-- finishedfloor1squarefeet: string (nullable = true)\n",
      " |-- calculatedfinishedsquarefeet: string (nullable = true)\n",
      " |-- finishedsquarefeet12: string (nullable = true)\n",
      " |-- finishedsquarefeet13: string (nullable = true)\n",
      " |-- finishedsquarefeet15: string (nullable = true)\n",
      " |-- finishedsquarefeet50: string (nullable = true)\n",
      " |-- finishedsquarefeet6: string (nullable = true)\n",
      " |-- fips: string (nullable = true)\n",
      " |-- fireplacecnt: string (nullable = true)\n",
      " |-- fullbathcnt: string (nullable = true)\n",
      " |-- garagecarcnt: string (nullable = true)\n",
      " |-- garagetotalsqft: string (nullable = true)\n",
      " |-- hashottuborspa: string (nullable = true)\n",
      " |-- heatingorsystemtypeid: string (nullable = true)\n",
      " |-- latitude: string (nullable = true)\n",
      " |-- longitude: string (nullable = true)\n",
      " |-- lotsizesquarefeet: string (nullable = true)\n",
      " |-- poolcnt: string (nullable = true)\n",
      " |-- poolsizesum: string (nullable = true)\n",
      " |-- pooltypeid10: string (nullable = true)\n",
      " |-- pooltypeid2: string (nullable = true)\n",
      " |-- pooltypeid7: string (nullable = true)\n",
      " |-- propertycountylandusecode: string (nullable = true)\n",
      " |-- propertylandusetypeid: string (nullable = true)\n",
      " |-- propertyzoningdesc: string (nullable = true)\n",
      " |-- rawcensustractandblock: string (nullable = true)\n",
      " |-- regionidcity: string (nullable = true)\n",
      " |-- regionidcounty: string (nullable = true)\n",
      " |-- regionidneighborhood: string (nullable = true)\n",
      " |-- regionidzip: string (nullable = true)\n",
      " |-- roomcnt: string (nullable = true)\n",
      " |-- storytypeid: string (nullable = true)\n",
      " |-- threequarterbathnbr: string (nullable = true)\n",
      " |-- typeconstructiontypeid: string (nullable = true)\n",
      " |-- unitcnt: string (nullable = true)\n",
      " |-- yardbuildingsqft17: string (nullable = true)\n",
      " |-- yardbuildingsqft26: string (nullable = true)\n",
      " |-- yearbuilt: string (nullable = true)\n",
      " |-- numberofstories: string (nullable = true)\n",
      " |-- fireplaceflag: string (nullable = true)\n",
      " |-- structuretaxvaluedollarcnt: string (nullable = true)\n",
      " |-- taxvaluedollarcnt: string (nullable = true)\n",
      " |-- assessmentyear: string (nullable = true)\n",
      " |-- landtaxvaluedollarcnt: string (nullable = true)\n",
      " |-- taxamount: string (nullable = true)\n",
      " |-- taxdelinquencyflag: string (nullable = true)\n",
      " |-- taxdelinquencyyear: string (nullable = true)\n",
      " |-- censustractandblock: string (nullable = true)\n",
      "\n"
     ]
    }
   ],
   "source": [
    "print(\"Feature Schema: \")\n",
    "features.printSchema()"
   ]
  },
  {
   "cell_type": "code",
   "execution_count": 8,
   "metadata": {},
   "outputs": [
    {
     "name": "stdout",
     "output_type": "stream",
     "text": [
      "The first entry:\n",
      "-RECORD 0--------------------------------------\n",
      " parcelid                     | 10754147       \n",
      " airconditioningtypeid        | null           \n",
      " architecturalstyletypeid     | null           \n",
      " basementsqft                 | null           \n",
      " bathroomcnt                  | 0.0            \n",
      " bedroomcnt                   | 0.0            \n",
      " buildingclasstypeid          | null           \n",
      " buildingqualitytypeid        | null           \n",
      " calculatedbathnbr            | null           \n",
      " decktypeid                   | null           \n",
      " finishedfloor1squarefeet     | null           \n",
      " calculatedfinishedsquarefeet | null           \n",
      " finishedsquarefeet12         | null           \n",
      " finishedsquarefeet13         | null           \n",
      " finishedsquarefeet15         | null           \n",
      " finishedsquarefeet50         | null           \n",
      " finishedsquarefeet6          | null           \n",
      " fips                         | 06037          \n",
      " fireplacecnt                 | null           \n",
      " fullbathcnt                  | null           \n",
      " garagecarcnt                 | null           \n",
      " garagetotalsqft              | null           \n",
      " hashottuborspa               | null           \n",
      " heatingorsystemtypeid        | null           \n",
      " latitude                     | 34144442       \n",
      " longitude                    | -118654084     \n",
      " lotsizesquarefeet            | 85768.0        \n",
      " poolcnt                      | null           \n",
      " poolsizesum                  | null           \n",
      " pooltypeid10                 | null           \n",
      " pooltypeid2                  | null           \n",
      " pooltypeid7                  | null           \n",
      " propertycountylandusecode    | 010D           \n",
      " propertylandusetypeid        | 269            \n",
      " propertyzoningdesc           | null           \n",
      " rawcensustractandblock       | 060378002.0410 \n",
      " regionidcity                 | 37688          \n",
      " regionidcounty               | 3101           \n",
      " regionidneighborhood         | null           \n",
      " regionidzip                  | 96337          \n",
      " roomcnt                      | 0.0            \n",
      " storytypeid                  | null           \n",
      " threequarterbathnbr          | null           \n",
      " typeconstructiontypeid       | null           \n",
      " unitcnt                      | null           \n",
      " yardbuildingsqft17           | null           \n",
      " yardbuildingsqft26           | null           \n",
      " yearbuilt                    | null           \n",
      " numberofstories              | null           \n",
      " fireplaceflag                | null           \n",
      " structuretaxvaluedollarcnt   | null           \n",
      " taxvaluedollarcnt            | 9.0            \n",
      " assessmentyear               | 2016           \n",
      " landtaxvaluedollarcnt        | 9.0            \n",
      " taxamount                    | null           \n",
      " taxdelinquencyflag           | null           \n",
      " taxdelinquencyyear           | null           \n",
      " censustractandblock          | null           \n",
      "only showing top 1 row\n",
      "\n"
     ]
    }
   ],
   "source": [
    "print(\"The first entry:\")\n",
    "features.show(1, vertical=True)"
   ]
  },
  {
   "cell_type": "code",
   "execution_count": 17,
   "metadata": {},
   "outputs": [
    {
     "name": "stdout",
     "output_type": "stream",
     "text": [
      "+-------+---------------------+\n",
      "|summary|airconditioningtypeid|\n",
      "+-------+---------------------+\n",
      "|  count|               815362|\n",
      "|   mean|   1.9457234945950388|\n",
      "| stddev|   3.1605068777112315|\n",
      "|    min|                    1|\n",
      "|    max|                    9|\n",
      "+-------+---------------------+\n",
      "\n"
     ]
    }
   ],
   "source": [
    "features.describe('airconditioningtypeid').show()"
   ]
  },
  {
   "cell_type": "code",
   "execution_count": 13,
   "metadata": {},
   "outputs": [
    {
     "name": "stdout",
     "output_type": "stream",
     "text": [
      "+-------+---------------------+\n",
      "|summary|landtaxvaluedollarcnt|\n",
      "+-------+---------------------+\n",
      "|  count|              2925291|\n",
      "|   mean|   268455.76912108914|\n",
      "| stddev|    486509.7132898551|\n",
      "|    min|                  1.0|\n",
      "|    max|             999996.0|\n",
      "+-------+---------------------+\n",
      "\n"
     ]
    }
   ],
   "source": [
    "features.describe('landtaxvaluedollarcnt').show()"
   ]
  },
  {
   "cell_type": "code",
   "execution_count": 14,
   "metadata": {},
   "outputs": [
    {
     "name": "stdout",
     "output_type": "stream",
     "text": [
      "+-------+-------------------+\n",
      "|summary|       fireplacecnt|\n",
      "+-------+-------------------+\n",
      "|  count|             313124|\n",
      "|   mean| 1.1689586234207534|\n",
      "| stddev|0.46185487571362344|\n",
      "|    min|                  1|\n",
      "|    max|                  9|\n",
      "+-------+-------------------+\n",
      "\n"
     ]
    }
   ],
   "source": [
    "features.describe('fireplacecnt').show()"
   ]
  },
  {
   "cell_type": "code",
   "execution_count": 9,
   "metadata": {},
   "outputs": [
    {
     "data": {
      "text/plain": [
       "'The size of our data is 2985217 rows and 58 columns.'"
      ]
     },
     "execution_count": 9,
     "metadata": {},
     "output_type": "execute_result"
    }
   ],
   "source": [
    "# What is the size of our DataFrame?\n",
    "\"The size of our data is {} rows and {} columns.\".format(features.count(), len(features.columns))"
   ]
  },
  {
   "cell_type": "code",
   "execution_count": 50,
   "metadata": {},
   "outputs": [
    {
     "data": {
      "text/plain": [
       "['parcelid',\n",
       " 'airconditioningtypeid',\n",
       " 'architecturalstyletypeid',\n",
       " 'basementsqft',\n",
       " 'bathroomcnt',\n",
       " 'bedroomcnt',\n",
       " 'buildingclasstypeid',\n",
       " 'buildingqualitytypeid',\n",
       " 'calculatedbathnbr',\n",
       " 'decktypeid',\n",
       " 'finishedfloor1squarefeet',\n",
       " 'calculatedfinishedsquarefeet',\n",
       " 'finishedsquarefeet12',\n",
       " 'finishedsquarefeet13',\n",
       " 'finishedsquarefeet15',\n",
       " 'finishedsquarefeet50',\n",
       " 'finishedsquarefeet6',\n",
       " 'fips',\n",
       " 'fireplacecnt',\n",
       " 'fullbathcnt',\n",
       " 'garagecarcnt',\n",
       " 'garagetotalsqft',\n",
       " 'hashottuborspa',\n",
       " 'heatingorsystemtypeid',\n",
       " 'latitude',\n",
       " 'longitude',\n",
       " 'lotsizesquarefeet',\n",
       " 'poolcnt',\n",
       " 'poolsizesum',\n",
       " 'pooltypeid10',\n",
       " 'pooltypeid2',\n",
       " 'pooltypeid7',\n",
       " 'propertycountylandusecode',\n",
       " 'propertylandusetypeid',\n",
       " 'propertyzoningdesc',\n",
       " 'rawcensustractandblock',\n",
       " 'regionidcity',\n",
       " 'regionidcounty',\n",
       " 'regionidneighborhood',\n",
       " 'regionidzip',\n",
       " 'roomcnt',\n",
       " 'storytypeid',\n",
       " 'threequarterbathnbr',\n",
       " 'typeconstructiontypeid',\n",
       " 'unitcnt',\n",
       " 'yardbuildingsqft17',\n",
       " 'yardbuildingsqft26',\n",
       " 'yearbuilt',\n",
       " 'numberofstories',\n",
       " 'fireplaceflag',\n",
       " 'structuretaxvaluedollarcnt',\n",
       " 'taxvaluedollarcnt',\n",
       " 'assessmentyear',\n",
       " 'landtaxvaluedollarcnt',\n",
       " 'taxamount',\n",
       " 'taxdelinquencyflag',\n",
       " 'taxdelinquencyyear',\n",
       " 'censustractandblock']"
      ]
     },
     "execution_count": 50,
     "metadata": {},
     "output_type": "execute_result"
    }
   ],
   "source": [
    "# Lets see all of the rows.\n",
    "features.columns"
   ]
  },
  {
   "cell_type": "markdown",
   "metadata": {},
   "source": [
    "### What does our training set look like?"
   ]
  },
  {
   "cell_type": "code",
   "execution_count": 59,
   "metadata": {},
   "outputs": [],
   "source": [
    "# Concatentate 2016 and 2017\n",
    "training = training1.union(training2)"
   ]
  },
  {
   "cell_type": "code",
   "execution_count": 60,
   "metadata": {},
   "outputs": [
    {
     "name": "stdout",
     "output_type": "stream",
     "text": [
      "+--------+--------+---------------+\n",
      "|parcelid|logerror|transactiondate|\n",
      "+--------+--------+---------------+\n",
      "|11016594|  0.0276|     2016-01-01|\n",
      "|14366692| -0.1684|     2016-01-01|\n",
      "|12098116|  -0.004|     2016-01-01|\n",
      "+--------+--------+---------------+\n",
      "only showing top 3 rows\n",
      "\n"
     ]
    }
   ],
   "source": [
    "training.show(3)"
   ]
  },
  {
   "cell_type": "code",
   "execution_count": 63,
   "metadata": {},
   "outputs": [
    {
     "name": "stdout",
     "output_type": "stream",
     "text": [
      "(167888, 3)\n",
      "2016 Count:  (90275, 3)\n",
      "2017 Count:  (77613, 3)\n"
     ]
    }
   ],
   "source": [
    "# What is the size of our DataFrame?\n",
    "print((training.count(), len(training.columns)))\n",
    "print(\"2016 Count: \", (training1.count(), len(training1.columns)))\n",
    "print(\"2017 Count: \", (training2.count(), len(training2.columns)))"
   ]
  },
  {
   "cell_type": "code",
   "execution_count": 62,
   "metadata": {},
   "outputs": [
    {
     "data": {
      "text/plain": [
       "['parcelid', 'logerror', 'transactiondate']"
      ]
     },
     "execution_count": 62,
     "metadata": {},
     "output_type": "execute_result"
    }
   ],
   "source": [
    "# Lets see all of the rows.\n",
    "training.columns"
   ]
  },
  {
   "cell_type": "markdown",
   "metadata": {},
   "source": [
    "## Things to note about training data\n",
    "We can join the features with the parcelid. \n",
    "\n",
    "We are predicting the value of 'logerror'.\n",
    "\n",
    "We will want to potentially implement timeseries of this (with transactiondate)."
   ]
  },
  {
   "cell_type": "markdown",
   "metadata": {},
   "source": [
    "# What does our testing set look like?"
   ]
  },
  {
   "cell_type": "code",
   "execution_count": 10,
   "metadata": {},
   "outputs": [
    {
     "name": "stdout",
     "output_type": "stream",
     "text": [
      "+--------+------+------+------+------+------+------+\n",
      "|ParcelId|201610|201611|201612|201710|201711|201712|\n",
      "+--------+------+------+------+------+------+------+\n",
      "|10754147|     0|     0|     0|     0|     0|     0|\n",
      "|10759547|     0|     0|     0|     0|     0|     0|\n",
      "|10843547|     0|     0|     0|     0|     0|     0|\n",
      "+--------+------+------+------+------+------+------+\n",
      "only showing top 3 rows\n",
      "\n"
     ]
    }
   ],
   "source": [
    "testing.show(3)"
   ]
  },
  {
   "cell_type": "code",
   "execution_count": 56,
   "metadata": {},
   "outputs": [
    {
     "name": "stdout",
     "output_type": "stream",
     "text": [
      "(2985217, 7)\n"
     ]
    }
   ],
   "source": [
    "# What is the size of our DataFrame?\n",
    "print((testing.count(), len(testing.columns)))"
   ]
  },
  {
   "cell_type": "markdown",
   "metadata": {},
   "source": [
    "We would want to exclude the testing data. I think?"
   ]
  },
  {
   "cell_type": "code",
   "execution_count": 64,
   "metadata": {},
   "outputs": [
    {
     "data": {
      "text/plain": [
       "['ParcelId', '201610', '201611', '201612', '201710', '201711', '201712']"
      ]
     },
     "execution_count": 64,
     "metadata": {},
     "output_type": "execute_result"
    }
   ],
   "source": [
    "# Lets see all of the rows.\n",
    "testing.columns"
   ]
  },
  {
   "cell_type": "markdown",
   "metadata": {},
   "source": [
    "### Things to note about the testing set\n",
    "1. We will want to exclude all things in the training set. \n",
    "2. The ideal `zscore` is 0. \n",
    "    * I'm not 100% sure what this means for us...\n",
    "        * Do we just try to predict the `zscore` in the training set?\n",
    "  \n",
    "I'm not sure if this is actually our testing set... hmm"
   ]
  }
 ],
 "metadata": {
  "kernelspec": {
   "display_name": "Python 3",
   "language": "python",
   "name": "python3"
  },
  "language_info": {
   "codemirror_mode": {
    "name": "ipython",
    "version": 3
   },
   "file_extension": ".py",
   "mimetype": "text/x-python",
   "name": "python",
   "nbconvert_exporter": "python",
   "pygments_lexer": "ipython3",
   "version": "3.7.3"
  }
 },
 "nbformat": 4,
 "nbformat_minor": 4
}
