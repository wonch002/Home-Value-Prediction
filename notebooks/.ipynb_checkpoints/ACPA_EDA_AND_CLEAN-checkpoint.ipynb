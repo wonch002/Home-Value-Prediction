{
 "cells": [
  {
   "cell_type": "code",
   "execution_count": 2,
   "metadata": {},
   "outputs": [],
   "source": [
    "#Import Libraries\n",
    "import numpy as np\n",
    "import pandas as pd\n",
    "import matplotlib.pyplot as plt"
   ]
  },
  {
   "cell_type": "code",
   "execution_count": 3,
   "metadata": {},
   "outputs": [
    {
     "name": "stderr",
     "output_type": "stream",
     "text": [
      "C:\\Anaconda\\lib\\site-packages\\IPython\\core\\interactiveshell.py:3057: DtypeWarning: Columns (19,20,29,30,37,38,46,57,83) have mixed types. Specify dtype option on import or set low_memory=False.\n",
      "  interactivity=interactivity, compiler=compiler, result=result)\n"
     ]
    }
   ],
   "source": [
    "# Loading Data\n",
    "property_assessments = pd.read_csv('allegney_county_assesment.csv')"
   ]
  },
  {
   "cell_type": "code",
   "execution_count": 4,
   "metadata": {},
   "outputs": [],
   "source": [
    "#Helper Functions\n",
    "\n",
    "#Detect if NAN\n",
    "def isNaN(num):\n",
    "    return num != num\n",
    "\n",
    "#One-Hot encode\n",
    "def col_split(column):\n",
    "    '''column = (pandas.Series) column of dataframe that we wish to split. Returns pandas.DataFrame with split columns.'''\n",
    "    \n",
    "    try:\n",
    "        #Defining a Dictionary with all possible values as keys\n",
    "        temp_dict = {}\n",
    "        for element in column.unique():\n",
    "            temp_dict[element] = np.linspace(0,0,len(column))\n",
    "    except AttributeError:\n",
    "        print('Make sure you are passing in a Pandas Series (One Column)!')\n",
    "        return\n",
    "        \n",
    "    #Sorting all observations\n",
    "    for i in range(len(column)):\n",
    "        temp_dict[column.iloc[i]][i] = 1              \n",
    "    \n",
    "    #Defining new Pandas DataFrame\n",
    "    df = pd.DataFrame(temp_dict,columns=column.unique())\n",
    "    \n",
    "    #Returning Dataframe\n",
    "    return df\n",
    "\n",
    "def col_bool(column):\n",
    "    '''column = (pandas.Series) column of dataframe that we wish to split. Returns pandas.DataFrame with binary column.'''\n",
    "    \n",
    "    #Length of column\n",
    "    l = len(column)\n",
    "    \n",
    "    #Generating List \n",
    "    temp_list = np.linspace(0,0,l)\n",
    "    for i in range(len(column)):\n",
    "        if isNaN(column.iloc[i]) == False:\n",
    "            temp_list[i] = 1\n",
    "    return pd.DataFrame(temp_list,columns=[column.name])\n",
    "\n",
    "#Calculate Percentage of Each Value Present in Column\n",
    "def col_dist(df,column_name):\n",
    "    '''df = (pandas.DataFrame) data dataframe for all data\n",
    "       column_name = (str) name of column that we want the distribution from.'''\n",
    "    print('Unique Values : ', df[column_name].unique())\n",
    "    l = len(df)\n",
    "    temp = df.groupby(by = column_name)[column_name].count()\n",
    "    print('\\nCount of Values w/o nan : ', temp)\n",
    "    for i in range(len(temp)):\n",
    "        print('\\nValue {} Percentage = {}%'.format(i, round(temp[i]/l*100,3)))\n",
    "    \n",
    "    return\n",
    "    "
   ]
  },
  {
   "cell_type": "markdown",
   "metadata": {},
   "source": [
    "---"
   ]
  },
  {
   "cell_type": "markdown",
   "metadata": {},
   "source": [
    "# Allegney County Property Assessment Data Cleaning"
   ]
  },
  {
   "cell_type": "markdown",
   "metadata": {},
   "source": [
    "*The purpose of this jupyter notebook is to document and clean features within the dataset.  Cleaning is undertaken with no model selection in mind, thus no preprocessing steps are taken.*"
   ]
  },
  {
   "cell_type": "markdown",
   "metadata": {},
   "source": [
    "### Vocab"
   ]
  },
  {
   "cell_type": "markdown",
   "metadata": {},
   "source": [
    "**Parcel** - is an identification for taxation purposes for a property. [Ref](https://www.landwatch.org/pages/publications02/roomenough/legal.html)\n",
    "\n",
    "**Lot** - is a recognized subdivision of property with a written legal description that addresses permissions or constraints upon its development. [Ref](https://www.landwatch.org/pages/publications02/roomenough/legal.html)"
   ]
  },
  {
   "cell_type": "markdown",
   "metadata": {},
   "source": [
    "---"
   ]
  },
  {
   "cell_type": "markdown",
   "metadata": {},
   "source": [
    "## Financial Features"
   ]
  },
  {
   "cell_type": "markdown",
   "metadata": {},
   "source": [
    "> **TAXCODE**\n",
    ">> Tax Status indicates whether or not real estate taxes apply to a parcel's assessment.   Parcels may be Taxable (must pay local taxes), Exempt (pay no taxes), or PURTA [Public Utility Realty Tax Act (if taxes are paid, they are paid into a state fund rather than to local taxing bodies)].\n",
    "Values:  'E' , 'T' or 'P' ."
   ]
  },
  {
   "cell_type": "markdown",
   "metadata": {},
   "source": [
    "Further Information:\n",
    "\n",
    "- 'E' denotes a Parcel as Tax Exempt.\n",
    "\n",
    "- 'T' denotes a Parcel as Taxable (pays local taxes)\n",
    "\n",
    "- 'P' denotes a Parcel as Public Utility Realty Tax [Ref](https://www.google.com/search?q=Public+Utility+Realty+Tax+Act&rlz=1C1CHBF_enUS867US867&oq=Public+&aqs=chrome.0.69i59j69i57j69i59j69i61j69i60j69i61j69i60l2.1375j0j7&sourceid=chrome&ie=UTF-8)."
   ]
  },
  {
   "cell_type": "code",
   "execution_count": 5,
   "metadata": {},
   "outputs": [
    {
     "data": {
      "text/html": [
       "<div>\n",
       "<style scoped>\n",
       "    .dataframe tbody tr th:only-of-type {\n",
       "        vertical-align: middle;\n",
       "    }\n",
       "\n",
       "    .dataframe tbody tr th {\n",
       "        vertical-align: top;\n",
       "    }\n",
       "\n",
       "    .dataframe thead th {\n",
       "        text-align: right;\n",
       "    }\n",
       "</style>\n",
       "<table border=\"1\" class=\"dataframe\">\n",
       "  <thead>\n",
       "    <tr style=\"text-align: right;\">\n",
       "      <th></th>\n",
       "      <th>T</th>\n",
       "      <th>E</th>\n",
       "      <th>P</th>\n",
       "    </tr>\n",
       "  </thead>\n",
       "  <tbody>\n",
       "    <tr>\n",
       "      <th>0</th>\n",
       "      <td>1.0</td>\n",
       "      <td>0.0</td>\n",
       "      <td>0.0</td>\n",
       "    </tr>\n",
       "    <tr>\n",
       "      <th>1</th>\n",
       "      <td>1.0</td>\n",
       "      <td>0.0</td>\n",
       "      <td>0.0</td>\n",
       "    </tr>\n",
       "    <tr>\n",
       "      <th>2</th>\n",
       "      <td>1.0</td>\n",
       "      <td>0.0</td>\n",
       "      <td>0.0</td>\n",
       "    </tr>\n",
       "    <tr>\n",
       "      <th>3</th>\n",
       "      <td>1.0</td>\n",
       "      <td>0.0</td>\n",
       "      <td>0.0</td>\n",
       "    </tr>\n",
       "    <tr>\n",
       "      <th>4</th>\n",
       "      <td>1.0</td>\n",
       "      <td>0.0</td>\n",
       "      <td>0.0</td>\n",
       "    </tr>\n",
       "  </tbody>\n",
       "</table>\n",
       "</div>"
      ],
      "text/plain": [
       "     T    E    P\n",
       "0  1.0  0.0  0.0\n",
       "1  1.0  0.0  0.0\n",
       "2  1.0  0.0  0.0\n",
       "3  1.0  0.0  0.0\n",
       "4  1.0  0.0  0.0"
      ]
     },
     "execution_count": 5,
     "metadata": {},
     "output_type": "execute_result"
    }
   ],
   "source": [
    "#One-Hot Encoding TAXCODE\n",
    "taxcode_df = col_split(property_assessments['TAXCODE'])\n",
    "taxcode_df.head(5)"
   ]
  },
  {
   "cell_type": "markdown",
   "metadata": {},
   "source": [
    "---"
   ]
  },
  {
   "cell_type": "markdown",
   "metadata": {},
   "source": [
    "> **TAXSUBCODE**\n",
    ">> Tax Sub Code applies only to parcels having the PURTA tax status.  Public Utilities may not have to pay taxes (E-Exempt) or they may have to pay taxes into a state fund (T-Taxable). "
   ]
  },
  {
   "cell_type": "code",
   "execution_count": 6,
   "metadata": {},
   "outputs": [
    {
     "name": "stdout",
     "output_type": "stream",
     "text": [
      "Unique Values :  [nan 'T' 'E']\n",
      "\n",
      "Count of Values w/o nan :  TAXSUBCODE\n",
      "E     680\n",
      "T    1032\n",
      "Name: TAXSUBCODE, dtype: int64\n",
      "\n",
      "Value 0 Percentage = 0.117%\n",
      "\n",
      "Value 1 Percentage = 0.178%\n"
     ]
    }
   ],
   "source": [
    "#EDA on TAXSUBCODE\n",
    "col_dist(property_assessments,'TAXSUBCODE')"
   ]
  },
  {
   "cell_type": "markdown",
   "metadata": {},
   "source": [
    "Based on Percentages we can probably ignore this feature."
   ]
  },
  {
   "cell_type": "markdown",
   "metadata": {},
   "source": [
    "---"
   ]
  },
  {
   "cell_type": "markdown",
   "metadata": {},
   "source": [
    "> **HOMESTEADFLAG**\n",
    ">> A property owner may apply for a homestead reduction on their primary residence.  If granted (indicated by 'HOM') the owner will receive a standard reduction on their assessment for County taxes under Act 50.  They may also receive a variable reduction on their School taxes under Act 1."
   ]
  },
  {
   "cell_type": "code",
   "execution_count": 7,
   "metadata": {},
   "outputs": [
    {
     "name": "stdout",
     "output_type": "stream",
     "text": [
      "Unique Values :  [nan 'HOM']\n",
      "\n",
      "Count of Values w/o nan :  HOMESTEADFLAG\n",
      "HOM    305389\n",
      "Name: HOMESTEADFLAG, dtype: int64\n",
      "\n",
      "Value 0 Percentage = 52.606%\n"
     ]
    }
   ],
   "source": [
    "#EDA on HOMESTEADFLAG\n",
    "col_dist(property_assessments,'HOMESTEADFLAG')"
   ]
  },
  {
   "cell_type": "code",
   "execution_count": 8,
   "metadata": {},
   "outputs": [
    {
     "data": {
      "text/html": [
       "<div>\n",
       "<style scoped>\n",
       "    .dataframe tbody tr th:only-of-type {\n",
       "        vertical-align: middle;\n",
       "    }\n",
       "\n",
       "    .dataframe tbody tr th {\n",
       "        vertical-align: top;\n",
       "    }\n",
       "\n",
       "    .dataframe thead th {\n",
       "        text-align: right;\n",
       "    }\n",
       "</style>\n",
       "<table border=\"1\" class=\"dataframe\">\n",
       "  <thead>\n",
       "    <tr style=\"text-align: right;\">\n",
       "      <th></th>\n",
       "      <th>HOMESTEADFLAG</th>\n",
       "    </tr>\n",
       "  </thead>\n",
       "  <tbody>\n",
       "    <tr>\n",
       "      <th>0</th>\n",
       "      <td>0.0</td>\n",
       "    </tr>\n",
       "    <tr>\n",
       "      <th>1</th>\n",
       "      <td>0.0</td>\n",
       "    </tr>\n",
       "    <tr>\n",
       "      <th>2</th>\n",
       "      <td>1.0</td>\n",
       "    </tr>\n",
       "    <tr>\n",
       "      <th>3</th>\n",
       "      <td>0.0</td>\n",
       "    </tr>\n",
       "    <tr>\n",
       "      <th>4</th>\n",
       "      <td>1.0</td>\n",
       "    </tr>\n",
       "  </tbody>\n",
       "</table>\n",
       "</div>"
      ],
      "text/plain": [
       "   HOMESTEADFLAG\n",
       "0            0.0\n",
       "1            0.0\n",
       "2            1.0\n",
       "3            0.0\n",
       "4            1.0"
      ]
     },
     "execution_count": 8,
     "metadata": {},
     "output_type": "execute_result"
    }
   ],
   "source": [
    "#Creating Homesteadflag dataframe\n",
    "Homesteadflag_df = col_bool(property_assessments['HOMESTEADFLAG'])\n",
    "Homesteadflag_df.head(5)"
   ]
  },
  {
   "cell_type": "markdown",
   "metadata": {},
   "source": [
    "---"
   ]
  },
  {
   "cell_type": "markdown",
   "metadata": {},
   "source": [
    "> **CLEANGREEN**\n",
    ">> This field indicates that a parcel is receiving a reduction in their assessment due to the state’s Clean and Green preferential assessment program."
   ]
  },
  {
   "cell_type": "code",
   "execution_count": 9,
   "metadata": {},
   "outputs": [
    {
     "name": "stdout",
     "output_type": "stream",
     "text": [
      "Unique Values :  [nan 'Y']\n",
      "\n",
      "Count of Values w/o nan :  CLEANGREEN\n",
      "Y    1686\n",
      "Name: CLEANGREEN, dtype: int64\n",
      "\n",
      "Value 0 Percentage = 0.29%\n"
     ]
    }
   ],
   "source": [
    "#EDA on CLEANGREEN\n",
    "col_dist(property_assessments,'CLEANGREEN')"
   ]
  },
  {
   "cell_type": "code",
   "execution_count": 10,
   "metadata": {},
   "outputs": [
    {
     "data": {
      "text/html": [
       "<div>\n",
       "<style scoped>\n",
       "    .dataframe tbody tr th:only-of-type {\n",
       "        vertical-align: middle;\n",
       "    }\n",
       "\n",
       "    .dataframe tbody tr th {\n",
       "        vertical-align: top;\n",
       "    }\n",
       "\n",
       "    .dataframe thead th {\n",
       "        text-align: right;\n",
       "    }\n",
       "</style>\n",
       "<table border=\"1\" class=\"dataframe\">\n",
       "  <thead>\n",
       "    <tr style=\"text-align: right;\">\n",
       "      <th></th>\n",
       "      <th>CLEANGREEN</th>\n",
       "    </tr>\n",
       "  </thead>\n",
       "  <tbody>\n",
       "    <tr>\n",
       "      <th>0</th>\n",
       "      <td>0.0</td>\n",
       "    </tr>\n",
       "    <tr>\n",
       "      <th>1</th>\n",
       "      <td>0.0</td>\n",
       "    </tr>\n",
       "    <tr>\n",
       "      <th>2</th>\n",
       "      <td>0.0</td>\n",
       "    </tr>\n",
       "    <tr>\n",
       "      <th>3</th>\n",
       "      <td>0.0</td>\n",
       "    </tr>\n",
       "    <tr>\n",
       "      <th>4</th>\n",
       "      <td>0.0</td>\n",
       "    </tr>\n",
       "  </tbody>\n",
       "</table>\n",
       "</div>"
      ],
      "text/plain": [
       "   CLEANGREEN\n",
       "0         0.0\n",
       "1         0.0\n",
       "2         0.0\n",
       "3         0.0\n",
       "4         0.0"
      ]
     },
     "execution_count": 10,
     "metadata": {},
     "output_type": "execute_result"
    }
   ],
   "source": [
    "#Creating Cleangreen dataframe\n",
    "Cleangreen_df = col_bool(property_assessments['CLEANGREEN'])\n",
    "Cleangreen_df.head(5)"
   ]
  },
  {
   "cell_type": "markdown",
   "metadata": {},
   "source": [
    "---"
   ]
  },
  {
   "cell_type": "markdown",
   "metadata": {},
   "source": [
    "> **FARMSTEAD**\n",
    ">> A property owner may apply for a farmstead reduction if their primary residence is a farm with at least 10 contiguous acres.  If granted (indicated by 'FRM') the owner will receive a standard reduction on their assessment for County taxes under Act 50."
   ]
  },
  {
   "cell_type": "code",
   "execution_count": 11,
   "metadata": {},
   "outputs": [
    {
     "name": "stdout",
     "output_type": "stream",
     "text": [
      "Unique Values :  [nan 'FRM']\n",
      "\n",
      "Count of Values w/o nan :  FARMSTEADFLAG\n",
      "FRM    6\n",
      "Name: FARMSTEADFLAG, dtype: int64\n",
      "\n",
      "Value 0 Percentage = 0.001%\n"
     ]
    }
   ],
   "source": [
    "#EDA on FARMSTEAD\n",
    "col_dist(property_assessments,'FARMSTEADFLAG')"
   ]
  },
  {
   "cell_type": "code",
   "execution_count": 12,
   "metadata": {},
   "outputs": [
    {
     "data": {
      "text/html": [
       "<div>\n",
       "<style scoped>\n",
       "    .dataframe tbody tr th:only-of-type {\n",
       "        vertical-align: middle;\n",
       "    }\n",
       "\n",
       "    .dataframe tbody tr th {\n",
       "        vertical-align: top;\n",
       "    }\n",
       "\n",
       "    .dataframe thead th {\n",
       "        text-align: right;\n",
       "    }\n",
       "</style>\n",
       "<table border=\"1\" class=\"dataframe\">\n",
       "  <thead>\n",
       "    <tr style=\"text-align: right;\">\n",
       "      <th></th>\n",
       "      <th>FARMSTEADFLAG</th>\n",
       "    </tr>\n",
       "  </thead>\n",
       "  <tbody>\n",
       "    <tr>\n",
       "      <th>0</th>\n",
       "      <td>0.0</td>\n",
       "    </tr>\n",
       "    <tr>\n",
       "      <th>1</th>\n",
       "      <td>0.0</td>\n",
       "    </tr>\n",
       "    <tr>\n",
       "      <th>2</th>\n",
       "      <td>0.0</td>\n",
       "    </tr>\n",
       "    <tr>\n",
       "      <th>3</th>\n",
       "      <td>0.0</td>\n",
       "    </tr>\n",
       "    <tr>\n",
       "      <th>4</th>\n",
       "      <td>0.0</td>\n",
       "    </tr>\n",
       "  </tbody>\n",
       "</table>\n",
       "</div>"
      ],
      "text/plain": [
       "   FARMSTEADFLAG\n",
       "0            0.0\n",
       "1            0.0\n",
       "2            0.0\n",
       "3            0.0\n",
       "4            0.0"
      ]
     },
     "execution_count": 12,
     "metadata": {},
     "output_type": "execute_result"
    }
   ],
   "source": [
    "#Creating Farmstead Dataframe\n",
    "Farmstead_df = col_bool(property_assessments['FARMSTEADFLAG'])\n",
    "Farmstead_df.head(5)"
   ]
  },
  {
   "cell_type": "markdown",
   "metadata": {},
   "source": [
    "---"
   ]
  },
  {
   "cell_type": "markdown",
   "metadata": {},
   "source": [
    "> **ABATEMENT**\n",
    ">> \"This field indicates that a parcel is receiving a reduction in their County assessment due to a County-approved incentive program.   Specific programs and amounts vary according to the County resolutions and ordinances in effect at the time.  Consult the Office of Property Assessments web page to see the current types of Abatements.\n",
    "\n",
    ">> Abatements have been available to residential property owners as incentives for new construction and for building improvements.  Abatements for commercial properties have been available for local economic revitalization programs.\n"
   ]
  },
  {
   "cell_type": "code",
   "execution_count": 13,
   "metadata": {},
   "outputs": [
    {
     "name": "stdout",
     "output_type": "stream",
     "text": [
      "Unique Values :  [nan 'Y']\n",
      "\n",
      "Count of Values w/o nan :  ABATEMENTFLAG\n",
      "Y    582\n",
      "Name: ABATEMENTFLAG, dtype: int64\n",
      "\n",
      "Value 0 Percentage = 0.1%\n"
     ]
    }
   ],
   "source": [
    "#EDA on Abatement\n",
    "col_dist(property_assessments,'ABATEMENTFLAG')"
   ]
  },
  {
   "cell_type": "code",
   "execution_count": 14,
   "metadata": {},
   "outputs": [
    {
     "data": {
      "text/html": [
       "<div>\n",
       "<style scoped>\n",
       "    .dataframe tbody tr th:only-of-type {\n",
       "        vertical-align: middle;\n",
       "    }\n",
       "\n",
       "    .dataframe tbody tr th {\n",
       "        vertical-align: top;\n",
       "    }\n",
       "\n",
       "    .dataframe thead th {\n",
       "        text-align: right;\n",
       "    }\n",
       "</style>\n",
       "<table border=\"1\" class=\"dataframe\">\n",
       "  <thead>\n",
       "    <tr style=\"text-align: right;\">\n",
       "      <th></th>\n",
       "      <th>ABATEMENTFLAG</th>\n",
       "    </tr>\n",
       "  </thead>\n",
       "  <tbody>\n",
       "    <tr>\n",
       "      <th>0</th>\n",
       "      <td>0.0</td>\n",
       "    </tr>\n",
       "    <tr>\n",
       "      <th>1</th>\n",
       "      <td>0.0</td>\n",
       "    </tr>\n",
       "    <tr>\n",
       "      <th>2</th>\n",
       "      <td>0.0</td>\n",
       "    </tr>\n",
       "    <tr>\n",
       "      <th>3</th>\n",
       "      <td>0.0</td>\n",
       "    </tr>\n",
       "    <tr>\n",
       "      <th>4</th>\n",
       "      <td>0.0</td>\n",
       "    </tr>\n",
       "  </tbody>\n",
       "</table>\n",
       "</div>"
      ],
      "text/plain": [
       "   ABATEMENTFLAG\n",
       "0            0.0\n",
       "1            0.0\n",
       "2            0.0\n",
       "3            0.0\n",
       "4            0.0"
      ]
     },
     "execution_count": 14,
     "metadata": {},
     "output_type": "execute_result"
    }
   ],
   "source": [
    "#Creating Abatement Dataframe\n",
    "Abatement_df = col_bool(property_assessments['ABATEMENTFLAG'])\n",
    "Abatement_df.head(5)"
   ]
  },
  {
   "cell_type": "markdown",
   "metadata": {},
   "source": [
    "---"
   ]
  },
  {
   "cell_type": "markdown",
   "metadata": {},
   "source": [
    "> **SALEPRICE**\n",
    ">> \"Amount paid for the sale \n",
    "(also called the consideration).\""
   ]
  },
  {
   "cell_type": "code",
   "execution_count": 15,
   "metadata": {},
   "outputs": [
    {
     "name": "stdout",
     "output_type": "stream",
     "text": [
      "Percentage of unique = 5.83%\n"
     ]
    },
    {
     "data": {
      "image/png": "[encoded data removed]",
      "text/plain": [
       "<Figure size 432x288 with 1 Axes>"
      ]
     },
     "metadata": {
      "needs_background": "light"
     },
     "output_type": "display_data"
    }
   ],
   "source": [
    "#EDA on Salerprice\n",
    "plt.plot(np.linspace(0,len(property_assessments)-1,len(property_assessments)),property_assessments['SALEPRICE'],'x')\n",
    "print('Percentage of unique = {}%'.format(round((len(property_assessments['SALEPRICE'].unique())*100)/len(property_assessments),2)))"
   ]
  },
  {
   "cell_type": "markdown",
   "metadata": {},
   "source": [
    "---"
   ]
  },
  {
   "cell_type": "markdown",
   "metadata": {},
   "source": [
    "> **SALECODE**\n",
    ">> A subjective categorization (code) as to whether or not the sale price was representative of current market value. These categorizations are subject to change as sales are reviewed by the Office of Property Assessments or during a reassessment. See further details in the Sale Validation Codes Details tab of the \"Property Sale Transaction Data Dictionary\".  "
   ]
  },
  {
   "cell_type": "code",
   "execution_count": 16,
   "metadata": {},
   "outputs": [
    {
     "name": "stdout",
     "output_type": "stream",
     "text": [
      "Unique Values :  ['6' 'H' '0' 'AA' 'UR' '36' '9' '3' nan '13' '35' '8' 'Z' 'U' '16' 'DT'\n",
      " '14' '1' 'XX' '99' 'GV' '5' '4' 'VH' '29' 'ND' 'YY' '21' 'N' '2' '5V'\n",
      " 'PV' '28' '32' '5N' 'IP' 'UX' '19' '27' '25' '50' '33' '7' 'VB' 'S' '24'\n",
      " 'PA' 'X' '37' 'h' 'BK' '34' 'IN' '0X' 'PX' 'Q' 'GQ' 'n' 'a' 'O' 'z' 'EZ'\n",
      " 's' 'FG' 'IF' 'V' 'HJ' '0N' 'FQ' 'WX' 'UN' '5n' 'QQ' '5v' 'u' 'AE' ' U'\n",
      " 'IH' 'AG' 'FA' 'EV' 'R']\n",
      "\n",
      "Count of Values w/o nan :  SALECODE\n",
      " U         1\n",
      "0     131161\n",
      "0N         8\n",
      "0X        70\n",
      "1       4923\n",
      "13      1255\n",
      "14     14940\n",
      "16      2884\n",
      "19       345\n",
      "2       3433\n",
      "21      1765\n",
      "24       491\n",
      "25        23\n",
      "27      1951\n",
      "28      2258\n",
      "29       288\n",
      "3     133338\n",
      "32        96\n",
      "33      2321\n",
      "34       180\n",
      "35      1732\n",
      "36     31409\n",
      "37      1729\n",
      "4      11844\n",
      "5        957\n",
      "50       364\n",
      "5N       299\n",
      "5V       617\n",
      "5n         1\n",
      "5v         1\n",
      "       ...  \n",
      "IN         5\n",
      "IP         9\n",
      "N      37878\n",
      "ND       336\n",
      "O          4\n",
      "PA       154\n",
      "PV        18\n",
      "PX         2\n",
      "Q         28\n",
      "QQ         3\n",
      "R          1\n",
      "S        104\n",
      "U      28244\n",
      "UN        13\n",
      "UR     20266\n",
      "UX       257\n",
      "V         61\n",
      "VB       122\n",
      "VH       732\n",
      "WX         1\n",
      "X         97\n",
      "XX       319\n",
      "YY      2657\n",
      "Z       6400\n",
      "a          1\n",
      "h        345\n",
      "n          7\n",
      "s          2\n",
      "u          1\n",
      "z         65\n",
      "Name: SALECODE, Length: 81, dtype: int64\n",
      "\n",
      "Value 0 Percentage = 0.0%\n",
      "\n",
      "Value 1 Percentage = 22.593%\n",
      "\n",
      "Value 2 Percentage = 0.001%\n",
      "\n",
      "Value 3 Percentage = 0.012%\n",
      "\n",
      "Value 4 Percentage = 0.848%\n",
      "\n",
      "Value 5 Percentage = 0.216%\n",
      "\n",
      "Value 6 Percentage = 2.574%\n",
      "\n",
      "Value 7 Percentage = 0.497%\n",
      "\n",
      "Value 8 Percentage = 0.059%\n",
      "\n",
      "Value 9 Percentage = 0.591%\n",
      "\n",
      "Value 10 Percentage = 0.304%\n",
      "\n",
      "Value 11 Percentage = 0.085%\n",
      "\n",
      "Value 12 Percentage = 0.004%\n",
      "\n",
      "Value 13 Percentage = 0.336%\n",
      "\n",
      "Value 14 Percentage = 0.389%\n",
      "\n",
      "Value 15 Percentage = 0.05%\n",
      "\n",
      "Value 16 Percentage = 22.968%\n",
      "\n",
      "Value 17 Percentage = 0.017%\n",
      "\n",
      "Value 18 Percentage = 0.4%\n",
      "\n",
      "Value 19 Percentage = 0.031%\n",
      "\n",
      "Value 20 Percentage = 0.298%\n",
      "\n",
      "Value 21 Percentage = 5.41%\n",
      "\n",
      "Value 22 Percentage = 0.298%\n",
      "\n",
      "Value 23 Percentage = 2.04%\n",
      "\n",
      "Value 24 Percentage = 0.165%\n",
      "\n",
      "Value 25 Percentage = 0.063%\n",
      "\n",
      "Value 26 Percentage = 0.052%\n",
      "\n",
      "Value 27 Percentage = 0.106%\n",
      "\n",
      "Value 28 Percentage = 0.0%\n",
      "\n",
      "Value 29 Percentage = 0.0%\n",
      "\n",
      "Value 30 Percentage = 0.158%\n",
      "\n",
      "Value 31 Percentage = 0.025%\n",
      "\n",
      "Value 32 Percentage = 0.373%\n",
      "\n",
      "Value 33 Percentage = 6.339%\n",
      "\n",
      "Value 34 Percentage = 1.232%\n",
      "\n",
      "Value 35 Percentage = 4.396%\n",
      "\n",
      "Value 36 Percentage = 0.001%\n",
      "\n",
      "Value 37 Percentage = 0.0%\n",
      "\n",
      "Value 38 Percentage = 0.089%\n",
      "\n",
      "Value 39 Percentage = 0.504%\n",
      "\n",
      "Value 40 Percentage = 0.0%\n",
      "\n",
      "Value 41 Percentage = 0.005%\n",
      "\n",
      "Value 42 Percentage = 0.0%\n",
      "\n",
      "Value 43 Percentage = 0.004%\n",
      "\n",
      "Value 44 Percentage = 0.005%\n",
      "\n",
      "Value 45 Percentage = 0.004%\n",
      "\n",
      "Value 46 Percentage = 0.703%\n",
      "\n",
      "Value 47 Percentage = 7.402%\n",
      "\n",
      "Value 48 Percentage = 0.001%\n",
      "\n",
      "Value 49 Percentage = 0.001%\n",
      "\n",
      "Value 50 Percentage = 0.001%\n",
      "\n",
      "Value 51 Percentage = 0.001%\n",
      "\n",
      "Value 52 Percentage = 0.002%\n",
      "\n",
      "Value 53 Percentage = 6.525%\n",
      "\n",
      "Value 54 Percentage = 0.058%\n",
      "\n",
      "Value 55 Percentage = 0.001%\n",
      "\n",
      "Value 56 Percentage = 0.027%\n",
      "\n",
      "Value 57 Percentage = 0.003%\n",
      "\n",
      "Value 58 Percentage = 0.0%\n",
      "\n",
      "Value 59 Percentage = 0.005%\n",
      "\n",
      "Value 60 Percentage = 0.001%\n",
      "\n",
      "Value 61 Percentage = 0.0%\n",
      "\n",
      "Value 62 Percentage = 0.018%\n",
      "\n",
      "Value 63 Percentage = 4.865%\n",
      "\n",
      "Value 64 Percentage = 0.002%\n",
      "\n",
      "Value 65 Percentage = 3.491%\n",
      "\n",
      "Value 66 Percentage = 0.044%\n",
      "\n",
      "Value 67 Percentage = 0.011%\n",
      "\n",
      "Value 68 Percentage = 0.021%\n",
      "\n",
      "Value 69 Percentage = 0.126%\n",
      "\n",
      "Value 70 Percentage = 0.0%\n",
      "\n",
      "Value 71 Percentage = 0.017%\n",
      "\n",
      "Value 72 Percentage = 0.055%\n",
      "\n",
      "Value 73 Percentage = 0.458%\n",
      "\n",
      "Value 74 Percentage = 1.102%\n",
      "\n",
      "Value 75 Percentage = 0.0%\n",
      "\n",
      "Value 76 Percentage = 0.059%\n",
      "\n",
      "Value 77 Percentage = 0.001%\n",
      "\n",
      "Value 78 Percentage = 0.0%\n",
      "\n",
      "Value 79 Percentage = 0.0%\n",
      "\n",
      "Value 80 Percentage = 0.011%\n"
     ]
    }
   ],
   "source": [
    "#EDA on Salecode - Values of '0', 'UR', and 'U' refer to a valid sale [Valid_Count = 13161]\n",
    "col_dist(property_assessments,'SALECODE')"
   ]
  },
  {
   "cell_type": "markdown",
   "metadata": {},
   "source": [
    "Now we can filter only the valid sales from the dataset, and re-look at sales price:"
   ]
  },
  {
   "cell_type": "code",
   "execution_count": null,
   "metadata": {},
   "outputs": [],
   "source": [
    "#Sorting only Valid Sales\n",
    "valid_indicies = list()\n",
    "for i in range(len(property_assessments)):\n",
    "    if property_assessments['SALECODE']=='0' or property_assessments['SALECODE']=='U' or property_assessments['SALECODE']=='UR'\n",
    "        valid_incidies.append(i)"
   ]
  },
  {
   "cell_type": "markdown",
   "metadata": {},
   "source": [
    "> **PREVSALEPRICE**\n",
    ">> Amount paid for the previous sale."
   ]
  },
  {
   "cell_type": "code",
   "execution_count": 36,
   "metadata": {},
   "outputs": [],
   "source": [
    "#EDA on Prevsaleprice\n"
   ]
  },
  {
   "cell_type": "markdown",
   "metadata": {},
   "source": [
    "> **PREVSALEPRICE2**\n",
    ">> Amount paid for the 2nd previous sale."
   ]
  },
  {
   "cell_type": "code",
   "execution_count": null,
   "metadata": {},
   "outputs": [],
   "source": [
    "#EDA on Prevsaleprice2\n"
   ]
  },
  {
   "cell_type": "markdown",
   "metadata": {},
   "source": [
    "> **COUNTYBUILD**\n",
    ">> The assessed property value of the building for county tax purposes.   This amount reflects the remaining assessment after any preferential assessments (such as clean & green) or county reductions (such as homesteads or other abatements) have been deducted from the base year market values."
   ]
  },
  {
   "cell_type": "code",
   "execution_count": 38,
   "metadata": {},
   "outputs": [],
   "source": [
    "#EDA on Countybuild\n"
   ]
  },
  {
   "cell_type": "markdown",
   "metadata": {},
   "source": [
    "> **COUNTYLAND**\n",
    ">> The assessed property value of the land for county tax purposes.   This amount reflects the remaining assessment after any preferential assessments (such as clean & green) or county reductions (such as homesteads or other abatements) have been deducted from the base year market values."
   ]
  },
  {
   "cell_type": "code",
   "execution_count": null,
   "metadata": {},
   "outputs": [],
   "source": [
    "#EDA on Countyland\n"
   ]
  },
  {
   "cell_type": "markdown",
   "metadata": {},
   "source": [
    "> **COUNTYTOTAL**\n",
    ">> The assessed property value (land and building together) for county tax purposes.   This amount reflects the remaining assessment after any preferential assessments (such as clean & green) or county reductions (such as homesteads or other abatements) have been deducted from the base year market values."
   ]
  },
  {
   "cell_type": "code",
   "execution_count": null,
   "metadata": {},
   "outputs": [],
   "source": [
    "#EDA on Countytotal\n"
   ]
  },
  {
   "cell_type": "markdown",
   "metadata": {},
   "source": [
    "> **COUNTYEXEMPTBLDG**\n",
    ">> The amount of assessment reduction granted on a building by the County (for county taxes only) under incentive programs for new construction, building improvements or local economic revitalization."
   ]
  },
  {
   "cell_type": "code",
   "execution_count": null,
   "metadata": {},
   "outputs": [],
   "source": [
    "#EDA on Countyexemptbldg\n"
   ]
  },
  {
   "cell_type": "markdown",
   "metadata": {},
   "source": [
    "> **LOCALBUILDING**\n",
    ">> The assessed property value of the building for local tax purposes (for schools and municipalities).   This amount reflects the remaining assessment after preferential assessments (such as clean & green) have been deducted from the base year market values.   This value is often higher than the county assessed value since county-only incentives (such as homesteads) have not been deducted. "
   ]
  },
  {
   "cell_type": "code",
   "execution_count": null,
   "metadata": {},
   "outputs": [],
   "source": [
    "#EDA on Localbuilding\n"
   ]
  },
  {
   "cell_type": "markdown",
   "metadata": {},
   "source": [
    "> **LOCALLAND**\n",
    ">> The assessed property value of the land for local tax purposes (for schools and municipalities).   This amount reflects the remaining assessment after preferential assessments (such as clean & green) have been deducted from the base year market values.   This value is often higher than the county assessed value since county-only incentives (such as homesteads) have not been deducted. "
   ]
  },
  {
   "cell_type": "code",
   "execution_count": null,
   "metadata": {},
   "outputs": [],
   "source": [
    "#EDA on Localland\n"
   ]
  },
  {
   "cell_type": "markdown",
   "metadata": {},
   "source": [
    "> **LOCALTOTAL**\n",
    ">> The assessed property value (land and building together) for local tax purposes (for schools and municipalities).   This amount reflects the remaining assessment after preferential assessments (such as clean & green) have been deducted from the base year market values.   This value is often higher than the county assessed value since county-only incentives (such as homesteads) have not been deducted. "
   ]
  },
  {
   "cell_type": "code",
   "execution_count": null,
   "metadata": {},
   "outputs": [],
   "source": [
    "#EDA on localtotal\n"
   ]
  },
  {
   "cell_type": "markdown",
   "metadata": {},
   "source": [
    "> **FAIRMARKETBUILDING**\n",
    ">> The base year appraised fair market value of the building.  This value has had no reductions, not even Clean and Green preferential assessment reduction.  Allegheny County currently uses a base year of 2012."
   ]
  },
  {
   "cell_type": "code",
   "execution_count": null,
   "metadata": {},
   "outputs": [],
   "source": [
    "#EDA on Fairmarketbuilding\n"
   ]
  },
  {
   "cell_type": "markdown",
   "metadata": {},
   "source": [
    "> **FAIRMARKETLAND**\n",
    ">> The base year appraised fair market value of the land.  This value has had no reductions, not even Clean and Green preferential assessment reduction.  Allegheny County currently uses a base year of 2012."
   ]
  },
  {
   "cell_type": "code",
   "execution_count": null,
   "metadata": {},
   "outputs": [],
   "source": [
    "#EDA on Fairmarketland\n"
   ]
  },
  {
   "cell_type": "markdown",
   "metadata": {},
   "source": [
    "> **FAIRMARKETTOTAL**\n",
    ">> The base year appraised fair market value of land and building together.  This value has had no reductions, not even Clean and Green preferential assessment reduction.  Allegheny County currently uses a base year of 2012."
   ]
  },
  {
   "cell_type": "code",
   "execution_count": null,
   "metadata": {},
   "outputs": [],
   "source": [
    "#EDA on Fairmarkettoal\n"
   ]
  }
 ],
 "metadata": {
  "kernelspec": {
   "display_name": "Python 3",
   "language": "python",
   "name": "python3"
  },
  "language_info": {
   "codemirror_mode": {
    "name": "ipython",
    "version": 3
   },
   "file_extension": ".py",
   "mimetype": "text/x-python",
   "name": "python",
   "nbconvert_exporter": "python",
   "pygments_lexer": "ipython3",
   "version": "3.7.3"
  }
 },
 "nbformat": 4,
 "nbformat_minor": 2
}
